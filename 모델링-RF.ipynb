{
 "cells": [
  {
   "cell_type": "code",
   "execution_count": 203,
   "metadata": {},
   "outputs": [],
   "source": [
    "import pandas as pd\n",
    "import numpy as np\n",
    "from sklearn.cluster import KMeans\n",
    "import seaborn as sns\n",
    "import matplotlib.pyplot as plt\n",
    "from sklearn import datasets\n",
    "from sklearn.tree import DecisionTreeClassifier"
   ]
  },
  {
   "cell_type": "code",
   "execution_count": 204,
   "metadata": {},
   "outputs": [
    {
     "data": {
      "text/html": [
       "<div>\n",
       "<style scoped>\n",
       "    .dataframe tbody tr th:only-of-type {\n",
       "        vertical-align: middle;\n",
       "    }\n",
       "\n",
       "    .dataframe tbody tr th {\n",
       "        vertical-align: top;\n",
       "    }\n",
       "\n",
       "    .dataframe thead th {\n",
       "        text-align: right;\n",
       "    }\n",
       "</style>\n",
       "<table border=\"1\" class=\"dataframe\">\n",
       "  <thead>\n",
       "    <tr style=\"text-align: right;\">\n",
       "      <th></th>\n",
       "      <th>개봉일</th>\n",
       "      <th>매출액</th>\n",
       "      <th>매출액점유율</th>\n",
       "      <th>관객수</th>\n",
       "      <th>스크린수</th>\n",
       "      <th>상영횟수</th>\n",
       "      <th>대표국적</th>\n",
       "      <th>등급</th>\n",
       "      <th>장르</th>\n",
       "      <th>제작연도</th>\n",
       "      <th>유형</th>\n",
       "      <th>편당관객수</th>\n",
       "      <th>스크린당관객수</th>\n",
       "      <th>네티즌평점</th>\n",
       "      <th>평론가평점</th>\n",
       "      <th>긍정확률</th>\n",
       "    </tr>\n",
       "    <tr>\n",
       "      <th>영화명</th>\n",
       "      <th></th>\n",
       "      <th></th>\n",
       "      <th></th>\n",
       "      <th></th>\n",
       "      <th></th>\n",
       "      <th></th>\n",
       "      <th></th>\n",
       "      <th></th>\n",
       "      <th></th>\n",
       "      <th></th>\n",
       "      <th></th>\n",
       "      <th></th>\n",
       "      <th></th>\n",
       "      <th></th>\n",
       "      <th></th>\n",
       "      <th></th>\n",
       "    </tr>\n",
       "  </thead>\n",
       "  <tbody>\n",
       "    <tr>\n",
       "      <th>보헤미안 랩소디</th>\n",
       "      <td>2018-10-31</td>\n",
       "      <td>25.105423</td>\n",
       "      <td>0.044</td>\n",
       "      <td>9224582</td>\n",
       "      <td>1179</td>\n",
       "      <td>204537</td>\n",
       "      <td>미국</td>\n",
       "      <td>12세이상관람가</td>\n",
       "      <td>드라마</td>\n",
       "      <td>2018</td>\n",
       "      <td>장편</td>\n",
       "      <td>45.099821</td>\n",
       "      <td>7824.072943</td>\n",
       "      <td>9.42</td>\n",
       "      <td>6.14</td>\n",
       "      <td>0.73</td>\n",
       "    </tr>\n",
       "    <tr>\n",
       "      <th>공작</th>\n",
       "      <td>2018-08-08</td>\n",
       "      <td>24.479543</td>\n",
       "      <td>0.024</td>\n",
       "      <td>4974520</td>\n",
       "      <td>1317</td>\n",
       "      <td>99001</td>\n",
       "      <td>한국</td>\n",
       "      <td>12세이상관람가</td>\n",
       "      <td>드라마</td>\n",
       "      <td>2017</td>\n",
       "      <td>장편</td>\n",
       "      <td>50.247169</td>\n",
       "      <td>3777.160213</td>\n",
       "      <td>6.83</td>\n",
       "      <td>6.93</td>\n",
       "      <td>0.20</td>\n",
       "    </tr>\n",
       "    <tr>\n",
       "      <th>국가부도의 날</th>\n",
       "      <td>2018-11-28</td>\n",
       "      <td>24.152268</td>\n",
       "      <td>0.017</td>\n",
       "      <td>3747952</td>\n",
       "      <td>1180</td>\n",
       "      <td>100804</td>\n",
       "      <td>한국</td>\n",
       "      <td>12세이상관람가</td>\n",
       "      <td>드라마</td>\n",
       "      <td>2018</td>\n",
       "      <td>장편</td>\n",
       "      <td>37.180588</td>\n",
       "      <td>3176.230508</td>\n",
       "      <td>8.12</td>\n",
       "      <td>6.50</td>\n",
       "      <td>0.79</td>\n",
       "    </tr>\n",
       "    <tr>\n",
       "      <th>코코</th>\n",
       "      <td>2018-01-11</td>\n",
       "      <td>24.044174</td>\n",
       "      <td>0.015</td>\n",
       "      <td>3510017</td>\n",
       "      <td>1177</td>\n",
       "      <td>85925</td>\n",
       "      <td>미국</td>\n",
       "      <td>전체관람가</td>\n",
       "      <td>애니메이션</td>\n",
       "      <td>2017</td>\n",
       "      <td>장편</td>\n",
       "      <td>40.849776</td>\n",
       "      <td>2982.172472</td>\n",
       "      <td>9.32</td>\n",
       "      <td>8.00</td>\n",
       "      <td>0.64</td>\n",
       "    </tr>\n",
       "    <tr>\n",
       "      <th>아쿠아맨</th>\n",
       "      <td>2018-12-19</td>\n",
       "      <td>24.139493</td>\n",
       "      <td>0.017</td>\n",
       "      <td>3491857</td>\n",
       "      <td>1285</td>\n",
       "      <td>54505</td>\n",
       "      <td>미국</td>\n",
       "      <td>12세이상관람가</td>\n",
       "      <td>액션</td>\n",
       "      <td>2018</td>\n",
       "      <td>장편</td>\n",
       "      <td>64.064893</td>\n",
       "      <td>2717.398444</td>\n",
       "      <td>8.36</td>\n",
       "      <td>6.83</td>\n",
       "      <td>0.69</td>\n",
       "    </tr>\n",
       "    <tr>\n",
       "      <th>...</th>\n",
       "      <td>...</td>\n",
       "      <td>...</td>\n",
       "      <td>...</td>\n",
       "      <td>...</td>\n",
       "      <td>...</td>\n",
       "      <td>...</td>\n",
       "      <td>...</td>\n",
       "      <td>...</td>\n",
       "      <td>...</td>\n",
       "      <td>...</td>\n",
       "      <td>...</td>\n",
       "      <td>...</td>\n",
       "      <td>...</td>\n",
       "      <td>...</td>\n",
       "      <td>...</td>\n",
       "      <td>...</td>\n",
       "    </tr>\n",
       "    <tr>\n",
       "      <th>라이브 하드</th>\n",
       "      <td>2021-02-25</td>\n",
       "      <td>14.480809</td>\n",
       "      <td>0.000</td>\n",
       "      <td>237</td>\n",
       "      <td>10</td>\n",
       "      <td>92</td>\n",
       "      <td>한국</td>\n",
       "      <td>15세이상관람가</td>\n",
       "      <td>드라마</td>\n",
       "      <td>2020</td>\n",
       "      <td>장편</td>\n",
       "      <td>2.576087</td>\n",
       "      <td>23.700000</td>\n",
       "      <td>8.86</td>\n",
       "      <td>6.00</td>\n",
       "      <td>0.64</td>\n",
       "    </tr>\n",
       "    <tr>\n",
       "      <th>윙스 오버 에베레스트</th>\n",
       "      <td>2021-09-30</td>\n",
       "      <td>13.874534</td>\n",
       "      <td>0.000</td>\n",
       "      <td>174</td>\n",
       "      <td>10</td>\n",
       "      <td>10</td>\n",
       "      <td>중국</td>\n",
       "      <td>15세이상관람가</td>\n",
       "      <td>액션</td>\n",
       "      <td>2019</td>\n",
       "      <td>장편</td>\n",
       "      <td>17.400000</td>\n",
       "      <td>17.400000</td>\n",
       "      <td>6.17</td>\n",
       "      <td>0.00</td>\n",
       "      <td>0.46</td>\n",
       "    </tr>\n",
       "    <tr>\n",
       "      <th>킬링,</th>\n",
       "      <td>2021-04-07</td>\n",
       "      <td>13.908463</td>\n",
       "      <td>0.000</td>\n",
       "      <td>125</td>\n",
       "      <td>4</td>\n",
       "      <td>53</td>\n",
       "      <td>일본</td>\n",
       "      <td>청소년관람불가</td>\n",
       "      <td>드라마</td>\n",
       "      <td>2018</td>\n",
       "      <td>장편</td>\n",
       "      <td>2.358491</td>\n",
       "      <td>31.250000</td>\n",
       "      <td>8.78</td>\n",
       "      <td>7.83</td>\n",
       "      <td>0.13</td>\n",
       "    </tr>\n",
       "    <tr>\n",
       "      <th>서유기: 재세요왕</th>\n",
       "      <td>2021-09-30</td>\n",
       "      <td>13.883636</td>\n",
       "      <td>0.000</td>\n",
       "      <td>123</td>\n",
       "      <td>20</td>\n",
       "      <td>22</td>\n",
       "      <td>중국</td>\n",
       "      <td>전체관람가</td>\n",
       "      <td>애니메이션</td>\n",
       "      <td>2020</td>\n",
       "      <td>장편</td>\n",
       "      <td>5.590909</td>\n",
       "      <td>6.150000</td>\n",
       "      <td>5.67</td>\n",
       "      <td>6.00</td>\n",
       "      <td>0.27</td>\n",
       "    </tr>\n",
       "    <tr>\n",
       "      <th>일론 머스크: 리얼 아이언맨</th>\n",
       "      <td>2021-02-11</td>\n",
       "      <td>13.384728</td>\n",
       "      <td>0.000</td>\n",
       "      <td>101</td>\n",
       "      <td>1</td>\n",
       "      <td>9</td>\n",
       "      <td>영국</td>\n",
       "      <td>전체관람가</td>\n",
       "      <td>다큐멘터리</td>\n",
       "      <td>2018</td>\n",
       "      <td>장편</td>\n",
       "      <td>11.222222</td>\n",
       "      <td>101.000000</td>\n",
       "      <td>5.32</td>\n",
       "      <td>0.00</td>\n",
       "      <td>0.24</td>\n",
       "    </tr>\n",
       "  </tbody>\n",
       "</table>\n",
       "<p>812 rows × 16 columns</p>\n",
       "</div>"
      ],
      "text/plain": [
       "                       개봉일       매출액   매출액점유율     관객수   스크린수    상영횟수  대표국적   \\\n",
       "영화명                                                                           \n",
       "보헤미안 랩소디        2018-10-31  25.105423   0.044  9224582   1179  204537    미국   \n",
       "공작              2018-08-08  24.479543   0.024  4974520   1317   99001    한국   \n",
       "국가부도의 날         2018-11-28  24.152268   0.017  3747952   1180  100804    한국   \n",
       "코코              2018-01-11  24.044174   0.015  3510017   1177   85925    미국   \n",
       "아쿠아맨            2018-12-19  24.139493   0.017  3491857   1285   54505    미국   \n",
       "...                    ...        ...     ...      ...    ...     ...   ...   \n",
       "라이브 하드          2021-02-25  14.480809   0.000      237     10      92    한국   \n",
       "윙스 오버 에베레스트     2021-09-30  13.874534   0.000      174     10      10    중국   \n",
       "킬링,             2021-04-07  13.908463   0.000      125      4      53    일본   \n",
       "서유기: 재세요왕       2021-09-30  13.883636   0.000      123     20      22    중국   \n",
       "일론 머스크: 리얼 아이언맨 2021-02-11  13.384728   0.000      101      1       9    영국   \n",
       "\n",
       "                      등급      장르  제작연도  유형      편당관객수      스크린당관객수  네티즌평점  \\\n",
       "영화명                                                                         \n",
       "보헤미안 랩소디         12세이상관람가    드라마  2018  장편  45.099821  7824.072943   9.42   \n",
       "공작               12세이상관람가    드라마  2017  장편  50.247169  3777.160213   6.83   \n",
       "국가부도의 날          12세이상관람가    드라마  2018  장편  37.180588  3176.230508   8.12   \n",
       "코코                  전체관람가  애니메이션  2017  장편  40.849776  2982.172472   9.32   \n",
       "아쿠아맨             12세이상관람가     액션  2018  장편  64.064893  2717.398444   8.36   \n",
       "...                   ...    ...   ...  ..        ...          ...    ...   \n",
       "라이브 하드           15세이상관람가    드라마  2020  장편   2.576087    23.700000   8.86   \n",
       "윙스 오버 에베레스트      15세이상관람가     액션  2019  장편  17.400000    17.400000   6.17   \n",
       "킬링,               청소년관람불가    드라마  2018  장편   2.358491    31.250000   8.78   \n",
       "서유기: 재세요왕           전체관람가  애니메이션  2020  장편   5.590909     6.150000   5.67   \n",
       "일론 머스크: 리얼 아이언맨     전체관람가  다큐멘터리  2018  장편  11.222222   101.000000   5.32   \n",
       "\n",
       "                 평론가평점  긍정확률  \n",
       "영화명                           \n",
       "보헤미안 랩소디          6.14  0.73  \n",
       "공작                6.93  0.20  \n",
       "국가부도의 날           6.50  0.79  \n",
       "코코                8.00  0.64  \n",
       "아쿠아맨              6.83  0.69  \n",
       "...                ...   ...  \n",
       "라이브 하드            6.00  0.64  \n",
       "윙스 오버 에베레스트       0.00  0.46  \n",
       "킬링,               7.83  0.13  \n",
       "서유기: 재세요왕         6.00  0.27  \n",
       "일론 머스크: 리얼 아이언맨   0.00  0.24  \n",
       "\n",
       "[812 rows x 16 columns]"
      ]
     },
     "execution_count": 204,
     "metadata": {},
     "output_type": "execute_result"
    }
   ],
   "source": [
    "df=pd.read_excel('최종데이터.xlsx', index_col='영화명')\n",
    "df"
   ]
  },
  {
   "cell_type": "code",
   "execution_count": 205,
   "metadata": {},
   "outputs": [],
   "source": [
    "from datetime import date\n",
    "df['개봉일'] = df['개봉일'].apply(lambda x: x.strftime('%Y%m%d'))\n",
    "df['개봉일'] = df['개봉일'].astype(int)"
   ]
  },
  {
   "cell_type": "code",
   "execution_count": 206,
   "metadata": {},
   "outputs": [],
   "source": [
    "df[\"등급 \"] = df[\"등급 \"].map({'전체관람가':0, '12세이상관람가':1, '15세이상관람가':2, '청소년관람불가':3})"
   ]
  },
  {
   "cell_type": "code",
   "execution_count": 207,
   "metadata": {},
   "outputs": [],
   "source": [
    "from sklearn.preprocessing import LabelEncoder\n",
    "le=LabelEncoder()\n",
    "df['대표국적 ']=le.fit_transform(df['대표국적 '].values)\n",
    "df['유형']=le.fit_transform(df['유형'].values)\n",
    "df['등급 ']=le.fit_transform(df['등급 '].values)\n",
    "df=df.dropna(axis=0)\n",
    "df['장르']=le.fit_transform(df['장르'].values)"
   ]
  },
  {
   "cell_type": "code",
   "execution_count": 208,
   "metadata": {
    "scrolled": true
   },
   "outputs": [
    {
     "data": {
      "text/plain": [
       "개봉일        0\n",
       "매출액        0\n",
       "매출액점유율     0\n",
       "관객수        0\n",
       "스크린수       0\n",
       "상영횟수       0\n",
       "대표국적       0\n",
       "등급         0\n",
       "장르         0\n",
       "제작연도       0\n",
       "유형         0\n",
       "편당관객수      0\n",
       "스크린당관객수    0\n",
       "네티즌평점      0\n",
       "평론가평점      0\n",
       "긍정확률       0\n",
       "dtype: int64"
      ]
     },
     "execution_count": 208,
     "metadata": {},
     "output_type": "execute_result"
    }
   ],
   "source": [
    "df.isnull().sum()"
   ]
  },
  {
   "cell_type": "code",
   "execution_count": 209,
   "metadata": {},
   "outputs": [
    {
     "data": {
      "text/html": [
       "<div>\n",
       "<style scoped>\n",
       "    .dataframe tbody tr th:only-of-type {\n",
       "        vertical-align: middle;\n",
       "    }\n",
       "\n",
       "    .dataframe tbody tr th {\n",
       "        vertical-align: top;\n",
       "    }\n",
       "\n",
       "    .dataframe thead th {\n",
       "        text-align: right;\n",
       "    }\n",
       "</style>\n",
       "<table border=\"1\" class=\"dataframe\">\n",
       "  <thead>\n",
       "    <tr style=\"text-align: right;\">\n",
       "      <th></th>\n",
       "      <th>개봉일</th>\n",
       "      <th>매출액</th>\n",
       "      <th>매출액점유율</th>\n",
       "      <th>관객수</th>\n",
       "      <th>스크린수</th>\n",
       "      <th>상영횟수</th>\n",
       "      <th>대표국적</th>\n",
       "      <th>등급</th>\n",
       "      <th>장르</th>\n",
       "      <th>제작연도</th>\n",
       "      <th>유형</th>\n",
       "      <th>편당관객수</th>\n",
       "      <th>스크린당관객수</th>\n",
       "      <th>네티즌평점</th>\n",
       "      <th>평론가평점</th>\n",
       "      <th>긍정확률</th>\n",
       "      <th>result</th>\n",
       "    </tr>\n",
       "    <tr>\n",
       "      <th>영화명</th>\n",
       "      <th></th>\n",
       "      <th></th>\n",
       "      <th></th>\n",
       "      <th></th>\n",
       "      <th></th>\n",
       "      <th></th>\n",
       "      <th></th>\n",
       "      <th></th>\n",
       "      <th></th>\n",
       "      <th></th>\n",
       "      <th></th>\n",
       "      <th></th>\n",
       "      <th></th>\n",
       "      <th></th>\n",
       "      <th></th>\n",
       "      <th></th>\n",
       "      <th></th>\n",
       "    </tr>\n",
       "  </thead>\n",
       "  <tbody>\n",
       "    <tr>\n",
       "      <th>보헤미안 랩소디</th>\n",
       "      <td>20181031</td>\n",
       "      <td>25.105423</td>\n",
       "      <td>0.044</td>\n",
       "      <td>9224582</td>\n",
       "      <td>1179</td>\n",
       "      <td>204537</td>\n",
       "      <td>8</td>\n",
       "      <td>1</td>\n",
       "      <td>6</td>\n",
       "      <td>2018</td>\n",
       "      <td>1</td>\n",
       "      <td>45.099821</td>\n",
       "      <td>7824.072943</td>\n",
       "      <td>9.42</td>\n",
       "      <td>6.14</td>\n",
       "      <td>0.73</td>\n",
       "      <td>1.0</td>\n",
       "    </tr>\n",
       "    <tr>\n",
       "      <th>공작</th>\n",
       "      <td>20180808</td>\n",
       "      <td>24.479543</td>\n",
       "      <td>0.024</td>\n",
       "      <td>4974520</td>\n",
       "      <td>1317</td>\n",
       "      <td>99001</td>\n",
       "      <td>32</td>\n",
       "      <td>1</td>\n",
       "      <td>6</td>\n",
       "      <td>2017</td>\n",
       "      <td>1</td>\n",
       "      <td>50.247169</td>\n",
       "      <td>3777.160213</td>\n",
       "      <td>6.83</td>\n",
       "      <td>6.93</td>\n",
       "      <td>0.20</td>\n",
       "      <td>0.0</td>\n",
       "    </tr>\n",
       "    <tr>\n",
       "      <th>국가부도의 날</th>\n",
       "      <td>20181128</td>\n",
       "      <td>24.152268</td>\n",
       "      <td>0.017</td>\n",
       "      <td>3747952</td>\n",
       "      <td>1180</td>\n",
       "      <td>100804</td>\n",
       "      <td>32</td>\n",
       "      <td>1</td>\n",
       "      <td>6</td>\n",
       "      <td>2018</td>\n",
       "      <td>1</td>\n",
       "      <td>37.180588</td>\n",
       "      <td>3176.230508</td>\n",
       "      <td>8.12</td>\n",
       "      <td>6.50</td>\n",
       "      <td>0.79</td>\n",
       "      <td>1.0</td>\n",
       "    </tr>\n",
       "    <tr>\n",
       "      <th>코코</th>\n",
       "      <td>20180111</td>\n",
       "      <td>24.044174</td>\n",
       "      <td>0.015</td>\n",
       "      <td>3510017</td>\n",
       "      <td>1177</td>\n",
       "      <td>85925</td>\n",
       "      <td>8</td>\n",
       "      <td>0</td>\n",
       "      <td>13</td>\n",
       "      <td>2017</td>\n",
       "      <td>1</td>\n",
       "      <td>40.849776</td>\n",
       "      <td>2982.172472</td>\n",
       "      <td>9.32</td>\n",
       "      <td>8.00</td>\n",
       "      <td>0.64</td>\n",
       "      <td>1.0</td>\n",
       "    </tr>\n",
       "    <tr>\n",
       "      <th>아쿠아맨</th>\n",
       "      <td>20181219</td>\n",
       "      <td>24.139493</td>\n",
       "      <td>0.017</td>\n",
       "      <td>3491857</td>\n",
       "      <td>1285</td>\n",
       "      <td>54505</td>\n",
       "      <td>8</td>\n",
       "      <td>1</td>\n",
       "      <td>14</td>\n",
       "      <td>2018</td>\n",
       "      <td>1</td>\n",
       "      <td>64.064893</td>\n",
       "      <td>2717.398444</td>\n",
       "      <td>8.36</td>\n",
       "      <td>6.83</td>\n",
       "      <td>0.69</td>\n",
       "      <td>1.0</td>\n",
       "    </tr>\n",
       "    <tr>\n",
       "      <th>...</th>\n",
       "      <td>...</td>\n",
       "      <td>...</td>\n",
       "      <td>...</td>\n",
       "      <td>...</td>\n",
       "      <td>...</td>\n",
       "      <td>...</td>\n",
       "      <td>...</td>\n",
       "      <td>...</td>\n",
       "      <td>...</td>\n",
       "      <td>...</td>\n",
       "      <td>...</td>\n",
       "      <td>...</td>\n",
       "      <td>...</td>\n",
       "      <td>...</td>\n",
       "      <td>...</td>\n",
       "      <td>...</td>\n",
       "      <td>...</td>\n",
       "    </tr>\n",
       "    <tr>\n",
       "      <th>라이브 하드</th>\n",
       "      <td>20210225</td>\n",
       "      <td>14.480809</td>\n",
       "      <td>0.000</td>\n",
       "      <td>237</td>\n",
       "      <td>10</td>\n",
       "      <td>92</td>\n",
       "      <td>32</td>\n",
       "      <td>2</td>\n",
       "      <td>6</td>\n",
       "      <td>2020</td>\n",
       "      <td>1</td>\n",
       "      <td>2.576087</td>\n",
       "      <td>23.700000</td>\n",
       "      <td>8.86</td>\n",
       "      <td>6.00</td>\n",
       "      <td>0.64</td>\n",
       "      <td>1.0</td>\n",
       "    </tr>\n",
       "    <tr>\n",
       "      <th>윙스 오버 에베레스트</th>\n",
       "      <td>20210930</td>\n",
       "      <td>13.874534</td>\n",
       "      <td>0.000</td>\n",
       "      <td>174</td>\n",
       "      <td>10</td>\n",
       "      <td>10</td>\n",
       "      <td>24</td>\n",
       "      <td>2</td>\n",
       "      <td>14</td>\n",
       "      <td>2019</td>\n",
       "      <td>1</td>\n",
       "      <td>17.400000</td>\n",
       "      <td>17.400000</td>\n",
       "      <td>6.17</td>\n",
       "      <td>0.00</td>\n",
       "      <td>0.46</td>\n",
       "      <td>0.0</td>\n",
       "    </tr>\n",
       "    <tr>\n",
       "      <th>킬링,</th>\n",
       "      <td>20210407</td>\n",
       "      <td>13.908463</td>\n",
       "      <td>0.000</td>\n",
       "      <td>125</td>\n",
       "      <td>4</td>\n",
       "      <td>53</td>\n",
       "      <td>23</td>\n",
       "      <td>3</td>\n",
       "      <td>6</td>\n",
       "      <td>2018</td>\n",
       "      <td>1</td>\n",
       "      <td>2.358491</td>\n",
       "      <td>31.250000</td>\n",
       "      <td>8.78</td>\n",
       "      <td>7.83</td>\n",
       "      <td>0.13</td>\n",
       "      <td>1.0</td>\n",
       "    </tr>\n",
       "    <tr>\n",
       "      <th>서유기: 재세요왕</th>\n",
       "      <td>20210930</td>\n",
       "      <td>13.883636</td>\n",
       "      <td>0.000</td>\n",
       "      <td>123</td>\n",
       "      <td>20</td>\n",
       "      <td>22</td>\n",
       "      <td>24</td>\n",
       "      <td>0</td>\n",
       "      <td>13</td>\n",
       "      <td>2020</td>\n",
       "      <td>1</td>\n",
       "      <td>5.590909</td>\n",
       "      <td>6.150000</td>\n",
       "      <td>5.67</td>\n",
       "      <td>6.00</td>\n",
       "      <td>0.27</td>\n",
       "      <td>0.0</td>\n",
       "    </tr>\n",
       "    <tr>\n",
       "      <th>일론 머스크: 리얼 아이언맨</th>\n",
       "      <td>20210211</td>\n",
       "      <td>13.384728</td>\n",
       "      <td>0.000</td>\n",
       "      <td>101</td>\n",
       "      <td>1</td>\n",
       "      <td>9</td>\n",
       "      <td>20</td>\n",
       "      <td>0</td>\n",
       "      <td>5</td>\n",
       "      <td>2018</td>\n",
       "      <td>1</td>\n",
       "      <td>11.222222</td>\n",
       "      <td>101.000000</td>\n",
       "      <td>5.32</td>\n",
       "      <td>0.00</td>\n",
       "      <td>0.24</td>\n",
       "      <td>0.0</td>\n",
       "    </tr>\n",
       "  </tbody>\n",
       "</table>\n",
       "<p>812 rows × 17 columns</p>\n",
       "</div>"
      ],
      "text/plain": [
       "                      개봉일       매출액   매출액점유율     관객수   스크린수    상영횟수   대표국적   \\\n",
       "영화명                                                                           \n",
       "보헤미안 랩소디         20181031  25.105423   0.044  9224582   1179  204537      8   \n",
       "공작               20180808  24.479543   0.024  4974520   1317   99001     32   \n",
       "국가부도의 날          20181128  24.152268   0.017  3747952   1180  100804     32   \n",
       "코코               20180111  24.044174   0.015  3510017   1177   85925      8   \n",
       "아쿠아맨             20181219  24.139493   0.017  3491857   1285   54505      8   \n",
       "...                   ...        ...     ...      ...    ...     ...    ...   \n",
       "라이브 하드           20210225  14.480809   0.000      237     10      92     32   \n",
       "윙스 오버 에베레스트      20210930  13.874534   0.000      174     10      10     24   \n",
       "킬링,              20210407  13.908463   0.000      125      4      53     23   \n",
       "서유기: 재세요왕        20210930  13.883636   0.000      123     20      22     24   \n",
       "일론 머스크: 리얼 아이언맨  20210211  13.384728   0.000      101      1       9     20   \n",
       "\n",
       "                 등급   장르  제작연도  유형      편당관객수      스크린당관객수  네티즌평점  평론가평점  \\\n",
       "영화명                                                                        \n",
       "보헤미안 랩소디           1   6  2018   1  45.099821  7824.072943   9.42   6.14   \n",
       "공작                 1   6  2017   1  50.247169  3777.160213   6.83   6.93   \n",
       "국가부도의 날            1   6  2018   1  37.180588  3176.230508   8.12   6.50   \n",
       "코코                 0  13  2017   1  40.849776  2982.172472   9.32   8.00   \n",
       "아쿠아맨               1  14  2018   1  64.064893  2717.398444   8.36   6.83   \n",
       "...              ...  ..   ...  ..        ...          ...    ...    ...   \n",
       "라이브 하드             2   6  2020   1   2.576087    23.700000   8.86   6.00   \n",
       "윙스 오버 에베레스트        2  14  2019   1  17.400000    17.400000   6.17   0.00   \n",
       "킬링,                3   6  2018   1   2.358491    31.250000   8.78   7.83   \n",
       "서유기: 재세요왕          0  13  2020   1   5.590909     6.150000   5.67   6.00   \n",
       "일론 머스크: 리얼 아이언맨    0   5  2018   1  11.222222   101.000000   5.32   0.00   \n",
       "\n",
       "                 긍정확률  result  \n",
       "영화명                            \n",
       "보헤미안 랩소디         0.73     1.0  \n",
       "공작               0.20     0.0  \n",
       "국가부도의 날          0.79     1.0  \n",
       "코코               0.64     1.0  \n",
       "아쿠아맨             0.69     1.0  \n",
       "...               ...     ...  \n",
       "라이브 하드           0.64     1.0  \n",
       "윙스 오버 에베레스트      0.46     0.0  \n",
       "킬링,              0.13     1.0  \n",
       "서유기: 재세요왕        0.27     0.0  \n",
       "일론 머스크: 리얼 아이언맨  0.24     0.0  \n",
       "\n",
       "[812 rows x 17 columns]"
      ]
     },
     "execution_count": 209,
     "metadata": {},
     "output_type": "execute_result"
    }
   ],
   "source": [
    "df.loc[df['네티즌평점']>=8.0,'result']=1\n",
    "df.loc[df['네티즌평점']<8.0,'result']=0\n",
    "df"
   ]
  },
  {
   "cell_type": "markdown",
   "metadata": {},
   "source": [
    "# 감성분석 포함시 DT, RF 모델 평가"
   ]
  },
  {
   "cell_type": "code",
   "execution_count": 210,
   "metadata": {},
   "outputs": [],
   "source": [
    "# X = np.array(df.drop(['네티즌평점','result','긍정확률'], axis=1))\n",
    "X = df.drop(['네티즌평점','result'], axis=1)\n",
    "y = np.array(df['result'])"
   ]
  },
  {
   "cell_type": "code",
   "execution_count": 211,
   "metadata": {},
   "outputs": [
    {
     "name": "stdout",
     "output_type": "stream",
     "text": [
      "X_train 크기: (568, 15)\n",
      "y_train 크기: (568,)\n",
      "X_test 크기: (244, 15)\n",
      "y_test 크기: (244,)\n"
     ]
    }
   ],
   "source": [
    "from sklearn.model_selection import train_test_split\n",
    "\n",
    "X_train, X_test, y_train, y_test = train_test_split(X, y, test_size=0.3, random_state=0)\n",
    "\n",
    "print(\"X_train 크기:\", X_train.shape)\n",
    "print(\"y_train 크기:\", y_train.shape)\n",
    "print(\"X_test 크기:\", X_test.shape)\n",
    "print(\"y_test 크기:\", y_test.shape)"
   ]
  },
  {
   "cell_type": "code",
   "execution_count": 212,
   "metadata": {},
   "outputs": [
    {
     "data": {
      "text/plain": [
       "DecisionTreeClassifier(max_depth=5, random_state=0)"
      ]
     },
     "execution_count": 212,
     "metadata": {},
     "output_type": "execute_result"
    }
   ],
   "source": [
    "from sklearn.tree import DecisionTreeClassifier\n",
    "\n",
    "tree = DecisionTreeClassifier(random_state=0, max_depth=5)\n",
    "tree.fit(X_train, y_train)"
   ]
  },
  {
   "cell_type": "code",
   "execution_count": 213,
   "metadata": {},
   "outputs": [
    {
     "name": "stdout",
     "output_type": "stream",
     "text": [
      "예측값\n",
      " [0. 0. 0. 1. 1. 0. 0. 0. 1. 1. 1. 1. 1. 1. 0. 0. 0. 1. 1. 0. 1. 0. 1. 0.\n",
      " 1. 0. 1. 0. 1. 0. 1. 1. 0. 1. 0. 1. 0. 1. 1. 1. 1. 0. 1. 0. 1. 1. 0. 1.\n",
      " 0. 0. 0. 0. 1. 1. 1. 0. 1. 1. 0. 1. 1. 1. 1. 1. 0. 1. 0. 0. 1. 1. 1. 1.\n",
      " 1. 1. 0. 0. 0. 1. 1. 0. 1. 1. 0. 1. 0. 1. 1. 1. 0. 1. 1. 1. 0. 0. 0. 0.\n",
      " 1. 1. 0. 1. 1. 0. 1. 1. 1. 0. 0. 1. 1. 1. 1. 1. 0. 1. 1. 1. 0. 0. 0. 1.\n",
      " 0. 1. 0. 1. 1. 1. 1. 1. 0. 0. 1. 1. 0. 1. 0. 0. 1. 1. 0. 1. 0. 1. 1. 1.\n",
      " 1. 1. 1. 1. 0. 0. 0. 1. 1. 0. 1. 1. 0. 0. 1. 0. 0. 1. 0. 1. 1. 1. 1. 1.\n",
      " 1. 0. 1. 0. 1. 0. 0. 0. 0. 1. 0. 1. 1. 1. 1. 1. 0. 1. 1. 1. 0. 0. 1. 1.\n",
      " 1. 1. 0. 1. 1. 0. 0. 0. 1. 0. 0. 1. 0. 1. 0. 1. 0. 1. 0. 1. 0. 1. 1. 0.\n",
      " 1. 1. 1. 1. 1. 1. 0. 1. 0. 1. 0. 0. 0. 1. 0. 1. 0. 1. 1. 0. 1. 0. 0. 1.\n",
      " 1. 1. 1. 1.]\n",
      "실제값\n",
      " [0. 0. 0. 1. 1. 0. 0. 0. 0. 1. 0. 0. 1. 1. 0. 0. 0. 1. 1. 0. 1. 0. 1. 0.\n",
      " 1. 1. 1. 1. 0. 0. 1. 1. 0. 1. 0. 1. 0. 1. 1. 1. 1. 0. 0. 0. 1. 1. 0. 0.\n",
      " 1. 0. 0. 0. 1. 1. 1. 1. 0. 0. 0. 1. 1. 0. 1. 0. 0. 1. 0. 0. 1. 0. 1. 1.\n",
      " 0. 1. 1. 1. 1. 1. 1. 0. 1. 1. 0. 1. 0. 1. 1. 0. 0. 1. 1. 1. 0. 0. 1. 0.\n",
      " 0. 1. 0. 0. 0. 1. 1. 1. 1. 0. 1. 1. 0. 1. 0. 1. 0. 1. 1. 1. 0. 0. 0. 1.\n",
      " 0. 1. 0. 0. 0. 1. 1. 1. 0. 1. 1. 1. 1. 0. 0. 0. 1. 1. 0. 0. 0. 0. 1. 1.\n",
      " 0. 1. 1. 1. 0. 0. 0. 1. 0. 0. 1. 1. 0. 0. 0. 0. 0. 1. 0. 0. 1. 0. 1. 0.\n",
      " 1. 0. 0. 1. 1. 0. 0. 1. 0. 1. 0. 0. 1. 1. 1. 1. 0. 0. 1. 0. 0. 1. 0. 1.\n",
      " 1. 1. 0. 1. 0. 0. 1. 0. 1. 0. 0. 1. 0. 0. 1. 1. 0. 1. 0. 1. 0. 1. 0. 0.\n",
      " 1. 1. 0. 1. 1. 1. 0. 1. 0. 1. 0. 0. 0. 1. 1. 1. 0. 0. 1. 0. 0. 0. 0. 0.\n",
      " 1. 0. 1. 1.]\n"
     ]
    }
   ],
   "source": [
    "temp_y_pred = tree.predict(X_test)\n",
    "\n",
    "print('예측값\\n', temp_y_pred)\n",
    "print('실제값\\n', y_test)"
   ]
  },
  {
   "cell_type": "code",
   "execution_count": 214,
   "metadata": {},
   "outputs": [
    {
     "name": "stdout",
     "output_type": "stream",
     "text": [
      "정확도:  0.7540983606557377\n"
     ]
    }
   ],
   "source": [
    "from sklearn.metrics import classification_report, accuracy_score, confusion_matrix\n",
    "\n",
    "temp_acc = accuracy_score(y_test, temp_y_pred)\n",
    "\n",
    "\n",
    "print('정확도: ', format(temp_acc))"
   ]
  },
  {
   "cell_type": "code",
   "execution_count": 215,
   "metadata": {},
   "outputs": [
    {
     "name": "stdout",
     "output_type": "stream",
     "text": [
      ">1, train: 0.771, test: 0.738\n",
      ">2, train: 0.771, test: 0.738\n",
      ">3, train: 0.790, test: 0.738\n",
      ">4, train: 0.798, test: 0.738\n",
      ">5, train: 0.820, test: 0.758\n",
      ">6, train: 0.840, test: 0.754\n",
      ">7, train: 0.864, test: 0.734\n",
      ">8, train: 0.879, test: 0.758\n",
      ">9, train: 0.914, test: 0.721\n",
      ">10, train: 0.940, test: 0.705\n",
      ">11, train: 0.963, test: 0.734\n",
      ">12, train: 0.984, test: 0.721\n",
      ">13, train: 0.991, test: 0.730\n",
      ">14, train: 0.998, test: 0.734\n",
      ">15, train: 1.000, test: 0.721\n",
      ">16, train: 1.000, test: 0.725\n",
      ">17, train: 1.000, test: 0.725\n",
      ">18, train: 1.000, test: 0.717\n",
      ">19, train: 1.000, test: 0.705\n"
     ]
    }
   ],
   "source": [
    "train_scores, test_scores = list(), list()\n",
    "\n",
    "for i in range(1,20):\n",
    "    DT1 = DecisionTreeClassifier(max_depth=i)\n",
    "    DT1.fit(X_train, y_train)\n",
    "    \n",
    "    train_att = DT1.predict(X_train)\n",
    "    train_acc = accuracy_score(y_train, train_att)\n",
    "    train_scores.append(train_acc)\n",
    "    \n",
    "    test_att = DT1.predict(X_test)\n",
    "    test_acc = accuracy_score(y_test, test_att)\n",
    "    test_scores.append(test_acc)\n",
    "    \n",
    "    print('>%d, train: %.3f, test: %.3f' % (i, train_acc, test_acc))"
   ]
  },
  {
   "cell_type": "code",
   "execution_count": 216,
   "metadata": {},
   "outputs": [
    {
     "data": {
      "image/png": "[encoded data removed]",
      "text/plain": [
       "<Figure size 432x288 with 1 Axes>"
      ]
     },
     "metadata": {
      "needs_background": "light"
     },
     "output_type": "display_data"
    }
   ],
   "source": [
    "from matplotlib import pyplot\n",
    "\n",
    "pyplot.plot(range(1,20), train_scores, '-o', label='Train_acc')\n",
    "pyplot.plot(range(1,20), test_scores, '-o', label='Test_acc')\n",
    "pyplot.legend()\n",
    "pyplot.show()"
   ]
  },
  {
   "cell_type": "code",
   "execution_count": 217,
   "metadata": {},
   "outputs": [
    {
     "name": "stdout",
     "output_type": "stream",
     "text": [
      "accuracy:  0.7540983606557377\n",
      "precision:  0.7103448275862069\n",
      "recall:  0.8512396694214877\n",
      "f1:  0.774436090225564\n"
     ]
    }
   ],
   "source": [
    "from sklearn.metrics import precision_score, recall_score, f1_score\n",
    "\n",
    "print('accuracy: ', accuracy_score(y_test, temp_y_pred))\n",
    "print('precision: ', precision_score(y_test, temp_y_pred))\n",
    "print('recall: ', recall_score(y_test, temp_y_pred))\n",
    "print('f1: ', f1_score(y_test, temp_y_pred))"
   ]
  },
  {
   "cell_type": "code",
   "execution_count": 218,
   "metadata": {},
   "outputs": [
    {
     "name": "stdout",
     "output_type": "stream",
     "text": [
      "              precision    recall  f1-score   support\n",
      "\n",
      "         0.0       0.82      0.66      0.73       123\n",
      "         1.0       0.71      0.85      0.77       121\n",
      "\n",
      "    accuracy                           0.75       244\n",
      "   macro avg       0.76      0.75      0.75       244\n",
      "weighted avg       0.76      0.75      0.75       244\n",
      "\n"
     ]
    }
   ],
   "source": [
    "print(classification_report(y_test, (tree.predict(X_test))))"
   ]
  },
  {
   "cell_type": "code",
   "execution_count": 219,
   "metadata": {},
   "outputs": [],
   "source": [
    "from sklearn.metrics import roc_curve\n",
    "\n",
    "fpr, tpr, thresholds = roc_curve(y_test, tree.predict_proba(X_test)[:,1])"
   ]
  },
  {
   "cell_type": "code",
   "execution_count": 220,
   "metadata": {},
   "outputs": [
    {
     "data": {
      "image/png": "[encoded data removed]",
      "text/plain": [
       "<Figure size 432x288 with 1 Axes>"
      ]
     },
     "metadata": {
      "needs_background": "light"
     },
     "output_type": "display_data"
    }
   ],
   "source": [
    "plt.plot(fpr, tpr, '-', ms=2, label=\"Decision Tree\") \n",
    "plt.plot([0, 1], [0, 1], '--', label=\"Random Guess\") \n",
    "\n",
    "plt.xlabel('False Positive Rate')\n",
    "plt.ylabel('True Positive Rate')\n",
    "plt.title('ROC Curves')\n",
    "plt.legend(loc=\"lower right\")\n",
    "plt.show()"
   ]
  },
  {
   "cell_type": "code",
   "execution_count": 221,
   "metadata": {},
   "outputs": [
    {
     "name": "stdout",
     "output_type": "stream",
     "text": [
      "Area Under Curve : 0.78\n"
     ]
    }
   ],
   "source": [
    "from sklearn import metrics\n",
    "roc_auc = metrics.auc(fpr, tpr)\n",
    "print('Area Under Curve : %0.2f' % roc_auc)"
   ]
  },
  {
   "cell_type": "code",
   "execution_count": 222,
   "metadata": {},
   "outputs": [
    {
     "data": {
      "text/plain": [
       "array([0.01287389, 0.        , 0.00735019, 0.        , 0.05198858,\n",
       "       0.01777406, 0.        , 0.0450338 , 0.0691641 , 0.00735019,\n",
       "       0.        , 0.02867952, 0.06644746, 0.03075292, 0.6625853 ])"
      ]
     },
     "execution_count": 222,
     "metadata": {},
     "output_type": "execute_result"
    }
   ],
   "source": [
    "tree.feature_importances_"
   ]
  },
  {
   "cell_type": "code",
   "execution_count": 223,
   "metadata": {},
   "outputs": [
    {
     "data": {
      "text/html": [
       "<div>\n",
       "<style scoped>\n",
       "    .dataframe tbody tr th:only-of-type {\n",
       "        vertical-align: middle;\n",
       "    }\n",
       "\n",
       "    .dataframe tbody tr th {\n",
       "        vertical-align: top;\n",
       "    }\n",
       "\n",
       "    .dataframe thead th {\n",
       "        text-align: right;\n",
       "    }\n",
       "</style>\n",
       "<table border=\"1\" class=\"dataframe\">\n",
       "  <thead>\n",
       "    <tr style=\"text-align: right;\">\n",
       "      <th></th>\n",
       "      <th>0</th>\n",
       "      <th>1</th>\n",
       "      <th>2</th>\n",
       "      <th>3</th>\n",
       "      <th>4</th>\n",
       "      <th>5</th>\n",
       "      <th>6</th>\n",
       "      <th>7</th>\n",
       "      <th>8</th>\n",
       "      <th>9</th>\n",
       "      <th>10</th>\n",
       "      <th>11</th>\n",
       "      <th>12</th>\n",
       "      <th>13</th>\n",
       "      <th>14</th>\n",
       "    </tr>\n",
       "  </thead>\n",
       "  <tbody>\n",
       "    <tr>\n",
       "      <th>feature_importance</th>\n",
       "      <td>0.012874</td>\n",
       "      <td>0.0</td>\n",
       "      <td>0.00735</td>\n",
       "      <td>0.0</td>\n",
       "      <td>0.051989</td>\n",
       "      <td>0.017774</td>\n",
       "      <td>0.0</td>\n",
       "      <td>0.045034</td>\n",
       "      <td>0.069164</td>\n",
       "      <td>0.00735</td>\n",
       "      <td>0.0</td>\n",
       "      <td>0.02868</td>\n",
       "      <td>0.066447</td>\n",
       "      <td>0.030753</td>\n",
       "      <td>0.662585</td>\n",
       "    </tr>\n",
       "  </tbody>\n",
       "</table>\n",
       "</div>"
      ],
      "text/plain": [
       "                          0    1        2    3         4         5    6   \\\n",
       "feature_importance  0.012874  0.0  0.00735  0.0  0.051989  0.017774  0.0   \n",
       "\n",
       "                          7         8        9    10       11        12  \\\n",
       "feature_importance  0.045034  0.069164  0.00735  0.0  0.02868  0.066447   \n",
       "\n",
       "                          13        14  \n",
       "feature_importance  0.030753  0.662585  "
      ]
     },
     "execution_count": 223,
     "metadata": {},
     "output_type": "execute_result"
    }
   ],
   "source": [
    "pd.DataFrame(tree.feature_importances_.reshape((1,-1)), index=['feature_importance'])"
   ]
  },
  {
   "cell_type": "code",
   "execution_count": 224,
   "metadata": {},
   "outputs": [
    {
     "data": {
      "text/html": [
       "<div>\n",
       "<style scoped>\n",
       "    .dataframe tbody tr th:only-of-type {\n",
       "        vertical-align: middle;\n",
       "    }\n",
       "\n",
       "    .dataframe tbody tr th {\n",
       "        vertical-align: top;\n",
       "    }\n",
       "\n",
       "    .dataframe thead th {\n",
       "        text-align: right;\n",
       "    }\n",
       "</style>\n",
       "<table border=\"1\" class=\"dataframe\">\n",
       "  <thead>\n",
       "    <tr style=\"text-align: right;\">\n",
       "      <th></th>\n",
       "      <th>feature_importance</th>\n",
       "    </tr>\n",
       "  </thead>\n",
       "  <tbody>\n",
       "    <tr>\n",
       "      <th>긍정확률</th>\n",
       "      <td>0.662585</td>\n",
       "    </tr>\n",
       "    <tr>\n",
       "      <th>장르</th>\n",
       "      <td>0.069164</td>\n",
       "    </tr>\n",
       "    <tr>\n",
       "      <th>스크린당관객수</th>\n",
       "      <td>0.066447</td>\n",
       "    </tr>\n",
       "    <tr>\n",
       "      <th>스크린수</th>\n",
       "      <td>0.051989</td>\n",
       "    </tr>\n",
       "    <tr>\n",
       "      <th>등급</th>\n",
       "      <td>0.045034</td>\n",
       "    </tr>\n",
       "    <tr>\n",
       "      <th>평론가평점</th>\n",
       "      <td>0.030753</td>\n",
       "    </tr>\n",
       "    <tr>\n",
       "      <th>편당관객수</th>\n",
       "      <td>0.028680</td>\n",
       "    </tr>\n",
       "    <tr>\n",
       "      <th>상영횟수</th>\n",
       "      <td>0.017774</td>\n",
       "    </tr>\n",
       "    <tr>\n",
       "      <th>개봉일</th>\n",
       "      <td>0.012874</td>\n",
       "    </tr>\n",
       "    <tr>\n",
       "      <th>매출액점유율</th>\n",
       "      <td>0.007350</td>\n",
       "    </tr>\n",
       "    <tr>\n",
       "      <th>제작연도</th>\n",
       "      <td>0.007350</td>\n",
       "    </tr>\n",
       "    <tr>\n",
       "      <th>매출액</th>\n",
       "      <td>0.000000</td>\n",
       "    </tr>\n",
       "    <tr>\n",
       "      <th>관객수</th>\n",
       "      <td>0.000000</td>\n",
       "    </tr>\n",
       "    <tr>\n",
       "      <th>대표국적</th>\n",
       "      <td>0.000000</td>\n",
       "    </tr>\n",
       "    <tr>\n",
       "      <th>유형</th>\n",
       "      <td>0.000000</td>\n",
       "    </tr>\n",
       "  </tbody>\n",
       "</table>\n",
       "</div>"
      ],
      "text/plain": [
       "         feature_importance\n",
       "긍정확률               0.662585\n",
       "장르                 0.069164\n",
       "스크린당관객수            0.066447\n",
       "스크린수               0.051989\n",
       "등급                 0.045034\n",
       "평론가평점              0.030753\n",
       "편당관객수              0.028680\n",
       "상영횟수               0.017774\n",
       "개봉일                0.012874\n",
       "매출액점유율             0.007350\n",
       "제작연도               0.007350\n",
       "매출액                0.000000\n",
       "관객수                0.000000\n",
       "대표국적               0.000000\n",
       "유형                 0.000000"
      ]
     },
     "execution_count": 224,
     "metadata": {},
     "output_type": "execute_result"
    }
   ],
   "source": [
    "a=pd.DataFrame(tree.feature_importances_.reshape((1,-1)),columns=X.columns, index=['feature_importance'])\n",
    "b=a.T\n",
    "b=b.sort_values(by='feature_importance',ascending=False)\n",
    "b"
   ]
  },
  {
   "cell_type": "markdown",
   "metadata": {},
   "source": [
    "# 과정 \n",
    "1. 감성분석 포함 랜덤포레스트 돌려보기\n",
    "2. 결과 추출 후 중요도 0 제거후 모델 돌리기\n",
    "3. 감성분석 제거 후 전체 데이터 이용해 랜덤포레스트 돌리기\n",
    "4. 결과 추출 후 중요도 0 제거후 모델 돌리기"
   ]
  },
  {
   "cell_type": "code",
   "execution_count": 225,
   "metadata": {},
   "outputs": [],
   "source": [
    "from sklearn.ensemble import RandomForestClassifier\n",
    "\n",
    "RF = RandomForestClassifier(n_estimators=100, random_state=0)"
   ]
  },
  {
   "cell_type": "code",
   "execution_count": 226,
   "metadata": {},
   "outputs": [
    {
     "data": {
      "text/plain": [
       "RandomForestClassifier(random_state=0)"
      ]
     },
     "execution_count": 226,
     "metadata": {},
     "output_type": "execute_result"
    }
   ],
   "source": [
    "RF.fit(X_train, y_train)"
   ]
  },
  {
   "cell_type": "code",
   "execution_count": 227,
   "metadata": {},
   "outputs": [
    {
     "data": {
      "text/plain": [
       "array([0., 0., 0., 1., 1., 0., 0., 0., 1., 1., 0., 1., 1., 1., 0., 1., 0.,\n",
       "       1., 1., 1., 1., 0., 0., 1., 0., 0., 1., 0., 1., 0., 1., 1., 0., 1.,\n",
       "       0., 1., 0., 1., 1., 1., 1., 0., 1., 0., 1., 1., 0., 1., 1., 0., 0.,\n",
       "       0., 1., 0., 1., 0., 1., 1., 0., 1., 1., 1., 1., 0., 0., 1., 0., 0.,\n",
       "       1., 1., 0., 1., 1., 1., 0., 0., 0., 1., 1., 0., 1., 1., 1., 1., 0.,\n",
       "       1., 1., 1., 1., 1., 1., 1., 0., 0., 0., 0., 0., 1., 0., 1., 1., 1.,\n",
       "       1., 0., 1., 0., 0., 1., 0., 1., 1., 0., 0., 1., 1., 1., 0., 0., 0.,\n",
       "       1., 0., 1., 0., 1., 0., 1., 1., 1., 0., 1., 1., 1., 0., 1., 0., 1.,\n",
       "       1., 1., 0., 0., 0., 1., 1., 1., 1., 1., 0., 0., 0., 0., 0., 1., 0.,\n",
       "       0., 1., 1., 0., 0., 1., 0., 0., 1., 0., 1., 1., 1., 1., 0., 1., 0.,\n",
       "       1., 0., 1., 0., 0., 0., 0., 1., 0., 1., 1., 0., 1., 1., 0., 0., 1.,\n",
       "       1., 0., 0., 0., 1., 1., 1., 0., 1., 1., 0., 1., 0., 1., 0., 0., 1.,\n",
       "       1., 1., 0., 1., 0., 1., 0., 1., 0., 1., 0., 0., 1., 1., 1., 1., 1.,\n",
       "       1., 0., 1., 0., 1., 0., 0., 0., 1., 0., 0., 0., 1., 1., 0., 1., 0.,\n",
       "       0., 1., 1., 1., 1., 1.])"
      ]
     },
     "execution_count": 227,
     "metadata": {},
     "output_type": "execute_result"
    }
   ],
   "source": [
    "temp_y_pred_rf = RF.predict(X_test)\n",
    "temp_y_pred_rf"
   ]
  },
  {
   "cell_type": "code",
   "execution_count": 228,
   "metadata": {},
   "outputs": [
    {
     "data": {
      "text/plain": [
       "0.7459016393442623"
      ]
     },
     "execution_count": 228,
     "metadata": {},
     "output_type": "execute_result"
    }
   ],
   "source": [
    "accuracy_score(y_test, temp_y_pred_rf)"
   ]
  },
  {
   "cell_type": "code",
   "execution_count": 229,
   "metadata": {},
   "outputs": [
    {
     "name": "stdout",
     "output_type": "stream",
     "text": [
      ">10, acc: 0.734\n",
      ">15, acc: 0.730\n",
      ">20, acc: 0.734\n",
      ">25, acc: 0.762\n",
      ">30, acc: 0.783\n",
      ">35, acc: 0.762\n",
      ">40, acc: 0.758\n",
      ">45, acc: 0.775\n",
      ">50, acc: 0.766\n",
      ">55, acc: 0.762\n",
      ">60, acc: 0.754\n",
      ">65, acc: 0.762\n",
      ">70, acc: 0.750\n",
      ">75, acc: 0.742\n",
      ">80, acc: 0.746\n",
      ">85, acc: 0.742\n",
      ">90, acc: 0.750\n",
      ">95, acc: 0.746\n",
      ">100, acc: 0.746\n",
      ">105, acc: 0.738\n",
      ">110, acc: 0.746\n",
      ">115, acc: 0.742\n",
      ">120, acc: 0.746\n",
      ">125, acc: 0.742\n",
      ">130, acc: 0.742\n",
      ">135, acc: 0.742\n",
      ">140, acc: 0.746\n",
      ">145, acc: 0.746\n",
      ">150, acc: 0.750\n",
      ">155, acc: 0.750\n",
      ">160, acc: 0.746\n",
      ">165, acc: 0.742\n",
      ">170, acc: 0.742\n",
      ">175, acc: 0.742\n",
      ">180, acc: 0.742\n",
      ">185, acc: 0.742\n",
      ">190, acc: 0.742\n",
      ">195, acc: 0.742\n",
      ">200, acc: 0.738\n",
      ">205, acc: 0.738\n",
      ">210, acc: 0.738\n",
      ">215, acc: 0.742\n",
      ">220, acc: 0.738\n",
      ">225, acc: 0.738\n",
      ">230, acc: 0.742\n",
      ">235, acc: 0.746\n",
      ">240, acc: 0.746\n",
      ">245, acc: 0.742\n",
      ">250, acc: 0.742\n",
      ">255, acc: 0.746\n",
      ">260, acc: 0.750\n",
      ">265, acc: 0.750\n",
      ">270, acc: 0.754\n",
      ">275, acc: 0.754\n",
      ">280, acc: 0.754\n",
      ">285, acc: 0.754\n",
      ">290, acc: 0.758\n",
      ">295, acc: 0.758\n",
      ">300, acc: 0.750\n",
      ">305, acc: 0.750\n",
      ">310, acc: 0.750\n",
      ">315, acc: 0.746\n",
      ">320, acc: 0.746\n",
      ">325, acc: 0.746\n",
      ">330, acc: 0.746\n",
      ">335, acc: 0.746\n",
      ">340, acc: 0.746\n",
      ">345, acc: 0.746\n",
      ">350, acc: 0.746\n",
      ">355, acc: 0.750\n",
      ">360, acc: 0.750\n",
      ">365, acc: 0.750\n",
      ">370, acc: 0.750\n",
      ">375, acc: 0.746\n",
      ">380, acc: 0.746\n",
      ">385, acc: 0.750\n",
      ">390, acc: 0.750\n",
      ">395, acc: 0.754\n",
      ">400, acc: 0.754\n",
      ">405, acc: 0.754\n",
      ">410, acc: 0.754\n",
      ">415, acc: 0.750\n",
      ">420, acc: 0.742\n",
      ">425, acc: 0.750\n",
      ">430, acc: 0.746\n",
      ">435, acc: 0.750\n",
      ">440, acc: 0.742\n",
      ">445, acc: 0.746\n",
      ">450, acc: 0.746\n",
      ">455, acc: 0.750\n",
      ">460, acc: 0.750\n",
      ">465, acc: 0.754\n",
      ">470, acc: 0.754\n",
      ">475, acc: 0.754\n",
      ">480, acc: 0.750\n",
      ">485, acc: 0.750\n",
      ">490, acc: 0.750\n",
      ">495, acc: 0.750\n"
     ]
    }
   ],
   "source": [
    "scores = []\n",
    "for i in range(10,500,5):\n",
    "    RF = RandomForestClassifier(n_estimators=i, random_state=0)\n",
    "    RF.fit(X_train, y_train)\n",
    "    \n",
    "    att = RF.predict(X_test)\n",
    "    acc = accuracy_score(y_test, att)\n",
    "    scores.append(acc)\n",
    "    \n",
    "    print('>%d, acc: %.3f' % (i, acc))"
   ]
  },
  {
   "cell_type": "code",
   "execution_count": 230,
   "metadata": {},
   "outputs": [
    {
     "data": {
      "text/plain": [
       "<matplotlib.legend.Legend at 0x2c903945490>"
      ]
     },
     "execution_count": 230,
     "metadata": {},
     "output_type": "execute_result"
    },
    {
     "data": {
      "image/png": "[encoded data removed]",
      "text/plain": [
       "<Figure size 432x288 with 1 Axes>"
      ]
     },
     "metadata": {
      "needs_background": "light"
     },
     "output_type": "display_data"
    }
   ],
   "source": [
    "pyplot.plot(range(10,500,5), scores, 'b--', label='RF_acc')\n",
    "pyplot.legend()"
   ]
  },
  {
   "cell_type": "code",
   "execution_count": 231,
   "metadata": {},
   "outputs": [],
   "source": [
    "# 가장 높은 값이 나오는 50으로 n_estimators 조정 후 모델 돌려보기\n",
    "RF = RandomForestClassifier(n_estimators=50, random_state=0)\n",
    "RF.fit(X_train, y_train)\n",
    "temp_y_pred_rf = RF.predict(X_test)"
   ]
  },
  {
   "cell_type": "code",
   "execution_count": 232,
   "metadata": {},
   "outputs": [
    {
     "name": "stdout",
     "output_type": "stream",
     "text": [
      "accuracy:  0.7663934426229508\n",
      "precision:  0.7424242424242424\n",
      "recall:  0.8099173553719008\n",
      "f1:  0.774703557312253\n"
     ]
    }
   ],
   "source": [
    "#랜덤포레스트 모델 성능\n",
    "print('accuracy: ', accuracy_score(y_test, temp_y_pred_rf))\n",
    "print('precision: ', precision_score(y_test, temp_y_pred_rf))\n",
    "print('recall: ', recall_score(y_test, temp_y_pred_rf))\n",
    "print('f1: ', f1_score(y_test, temp_y_pred_rf))"
   ]
  },
  {
   "cell_type": "code",
   "execution_count": 233,
   "metadata": {},
   "outputs": [],
   "source": [
    "from sklearn.metrics import roc_curve\n",
    "\n",
    "fpr1, tpr1, thresholds1 = roc_curve(y_test, tree.predict_proba(X_test)[:,1])\n",
    "fpr2, tpr2, thresholds2 = roc_curve(y_test, RF.predict_proba(X_test)[:,1])"
   ]
  },
  {
   "cell_type": "code",
   "execution_count": 234,
   "metadata": {},
   "outputs": [
    {
     "data": {
      "text/plain": [
       "<matplotlib.legend.Legend at 0x2c903763a00>"
      ]
     },
     "execution_count": 234,
     "metadata": {},
     "output_type": "execute_result"
    },
    {
     "data": {
      "image/png": "[encoded data removed]",
      "text/plain": [
       "<Figure size 432x288 with 1 Axes>"
      ]
     },
     "metadata": {
      "needs_background": "light"
     },
     "output_type": "display_data"
    }
   ],
   "source": [
    "plt.plot(fpr1, tpr1, 'b--', label = 'Decision Tree')\n",
    "plt.plot(fpr2, tpr2, 'r--', label = 'Random Forest')\n",
    "plt.plot([0,1], [0,1], 'g--', label = 'random guess')\n",
    "\n",
    "plt.title('ROC curves')\n",
    "plt.xlabel('False Positive Rate')\n",
    "plt.ylabel('True Positive Rate')\n",
    "\n",
    "plt.legend(loc = \"lower right\")"
   ]
  },
  {
   "cell_type": "code",
   "execution_count": 235,
   "metadata": {},
   "outputs": [],
   "source": [
    "roc_auc_DT = metrics.auc(fpr1, tpr1)\n",
    "roc_auc_RF = metrics.auc(fpr2, tpr2)"
   ]
  },
  {
   "cell_type": "code",
   "execution_count": 236,
   "metadata": {},
   "outputs": [
    {
     "data": {
      "text/plain": [
       "<matplotlib.legend.Legend at 0x2c9049fa490>"
      ]
     },
     "execution_count": 236,
     "metadata": {},
     "output_type": "execute_result"
    },
    {
     "data": {
      "image/png": "[encoded data removed]",
      "text/plain": [
       "<Figure size 432x288 with 1 Axes>"
      ]
     },
     "metadata": {
      "needs_background": "light"
     },
     "output_type": "display_data"
    }
   ],
   "source": [
    "plt.plot(fpr1, tpr1, 'b--', label = 'Decision Tree (area = %0.2f)' % roc_auc_DT)\n",
    "plt.plot(fpr2, tpr2, 'r--', label = 'Random Forest (area = %0.2f)' % roc_auc_RF)\n",
    "plt.plot([0,1], [0,1], 'g--', label = 'random guess')\n",
    "\n",
    "plt.title('ROC curves')\n",
    "plt.xlabel('False Positive Rate')\n",
    "plt.ylabel('True Positive Rate')\n",
    "\n",
    "plt.legend(loc = \"lower right\")"
   ]
  },
  {
   "cell_type": "code",
   "execution_count": 237,
   "metadata": {},
   "outputs": [
    {
     "data": {
      "text/plain": [
       "array([0.07069728, 0.07166924, 0.00686885, 0.06102688, 0.07492243,\n",
       "       0.06308227, 0.03774828, 0.04627295, 0.04841899, 0.03328344,\n",
       "       0.0016609 , 0.06803536, 0.08110428, 0.0568254 , 0.27838345])"
      ]
     },
     "execution_count": 237,
     "metadata": {},
     "output_type": "execute_result"
    }
   ],
   "source": [
    "RF.feature_importances_"
   ]
  },
  {
   "cell_type": "code",
   "execution_count": 238,
   "metadata": {},
   "outputs": [
    {
     "data": {
      "text/html": [
       "<div>\n",
       "<style scoped>\n",
       "    .dataframe tbody tr th:only-of-type {\n",
       "        vertical-align: middle;\n",
       "    }\n",
       "\n",
       "    .dataframe tbody tr th {\n",
       "        vertical-align: top;\n",
       "    }\n",
       "\n",
       "    .dataframe thead th {\n",
       "        text-align: right;\n",
       "    }\n",
       "</style>\n",
       "<table border=\"1\" class=\"dataframe\">\n",
       "  <thead>\n",
       "    <tr style=\"text-align: right;\">\n",
       "      <th></th>\n",
       "      <th>0</th>\n",
       "      <th>1</th>\n",
       "      <th>2</th>\n",
       "      <th>3</th>\n",
       "      <th>4</th>\n",
       "      <th>5</th>\n",
       "      <th>6</th>\n",
       "      <th>7</th>\n",
       "      <th>8</th>\n",
       "      <th>9</th>\n",
       "      <th>10</th>\n",
       "      <th>11</th>\n",
       "      <th>12</th>\n",
       "      <th>13</th>\n",
       "      <th>14</th>\n",
       "    </tr>\n",
       "  </thead>\n",
       "  <tbody>\n",
       "    <tr>\n",
       "      <th>feature_importance</th>\n",
       "      <td>0.070697</td>\n",
       "      <td>0.071669</td>\n",
       "      <td>0.006869</td>\n",
       "      <td>0.061027</td>\n",
       "      <td>0.074922</td>\n",
       "      <td>0.063082</td>\n",
       "      <td>0.037748</td>\n",
       "      <td>0.046273</td>\n",
       "      <td>0.048419</td>\n",
       "      <td>0.033283</td>\n",
       "      <td>0.001661</td>\n",
       "      <td>0.068035</td>\n",
       "      <td>0.081104</td>\n",
       "      <td>0.056825</td>\n",
       "      <td>0.278383</td>\n",
       "    </tr>\n",
       "  </tbody>\n",
       "</table>\n",
       "</div>"
      ],
      "text/plain": [
       "                          0         1         2         3         4   \\\n",
       "feature_importance  0.070697  0.071669  0.006869  0.061027  0.074922   \n",
       "\n",
       "                          5         6         7         8         9   \\\n",
       "feature_importance  0.063082  0.037748  0.046273  0.048419  0.033283   \n",
       "\n",
       "                          10        11        12        13        14  \n",
       "feature_importance  0.001661  0.068035  0.081104  0.056825  0.278383  "
      ]
     },
     "execution_count": 238,
     "metadata": {},
     "output_type": "execute_result"
    }
   ],
   "source": [
    "pd.DataFrame(RF.feature_importances_.reshape((1,-1)), index=['feature_importance'])"
   ]
  },
  {
   "cell_type": "code",
   "execution_count": 239,
   "metadata": {},
   "outputs": [
    {
     "data": {
      "text/html": [
       "<div>\n",
       "<style scoped>\n",
       "    .dataframe tbody tr th:only-of-type {\n",
       "        vertical-align: middle;\n",
       "    }\n",
       "\n",
       "    .dataframe tbody tr th {\n",
       "        vertical-align: top;\n",
       "    }\n",
       "\n",
       "    .dataframe thead th {\n",
       "        text-align: right;\n",
       "    }\n",
       "</style>\n",
       "<table border=\"1\" class=\"dataframe\">\n",
       "  <thead>\n",
       "    <tr style=\"text-align: right;\">\n",
       "      <th></th>\n",
       "      <th>feature_importance</th>\n",
       "    </tr>\n",
       "  </thead>\n",
       "  <tbody>\n",
       "    <tr>\n",
       "      <th>긍정확률</th>\n",
       "      <td>0.278383</td>\n",
       "    </tr>\n",
       "    <tr>\n",
       "      <th>스크린당관객수</th>\n",
       "      <td>0.081104</td>\n",
       "    </tr>\n",
       "    <tr>\n",
       "      <th>스크린수</th>\n",
       "      <td>0.074922</td>\n",
       "    </tr>\n",
       "    <tr>\n",
       "      <th>매출액</th>\n",
       "      <td>0.071669</td>\n",
       "    </tr>\n",
       "    <tr>\n",
       "      <th>개봉일</th>\n",
       "      <td>0.070697</td>\n",
       "    </tr>\n",
       "    <tr>\n",
       "      <th>편당관객수</th>\n",
       "      <td>0.068035</td>\n",
       "    </tr>\n",
       "    <tr>\n",
       "      <th>상영횟수</th>\n",
       "      <td>0.063082</td>\n",
       "    </tr>\n",
       "    <tr>\n",
       "      <th>관객수</th>\n",
       "      <td>0.061027</td>\n",
       "    </tr>\n",
       "    <tr>\n",
       "      <th>평론가평점</th>\n",
       "      <td>0.056825</td>\n",
       "    </tr>\n",
       "    <tr>\n",
       "      <th>장르</th>\n",
       "      <td>0.048419</td>\n",
       "    </tr>\n",
       "    <tr>\n",
       "      <th>등급</th>\n",
       "      <td>0.046273</td>\n",
       "    </tr>\n",
       "    <tr>\n",
       "      <th>대표국적</th>\n",
       "      <td>0.037748</td>\n",
       "    </tr>\n",
       "    <tr>\n",
       "      <th>제작연도</th>\n",
       "      <td>0.033283</td>\n",
       "    </tr>\n",
       "    <tr>\n",
       "      <th>매출액점유율</th>\n",
       "      <td>0.006869</td>\n",
       "    </tr>\n",
       "    <tr>\n",
       "      <th>유형</th>\n",
       "      <td>0.001661</td>\n",
       "    </tr>\n",
       "  </tbody>\n",
       "</table>\n",
       "</div>"
      ],
      "text/plain": [
       "         feature_importance\n",
       "긍정확률               0.278383\n",
       "스크린당관객수            0.081104\n",
       "스크린수               0.074922\n",
       "매출액                0.071669\n",
       "개봉일                0.070697\n",
       "편당관객수              0.068035\n",
       "상영횟수               0.063082\n",
       "관객수                0.061027\n",
       "평론가평점              0.056825\n",
       "장르                 0.048419\n",
       "등급                 0.046273\n",
       "대표국적               0.037748\n",
       "제작연도               0.033283\n",
       "매출액점유율             0.006869\n",
       "유형                 0.001661"
      ]
     },
     "execution_count": 239,
     "metadata": {},
     "output_type": "execute_result"
    }
   ],
   "source": [
    "a=pd.DataFrame(RF.feature_importances_.reshape((1,-1)),columns=X.columns, index=['feature_importance'])\n",
    "b=a.T\n",
    "b=b.sort_values(by='feature_importance',ascending=False)\n",
    "b"
   ]
  },
  {
   "cell_type": "markdown",
   "metadata": {},
   "source": [
    "가장 낮은 5개 데이터 제거 후 다시 돌려보기\n",
    "\n",
    "장르, 대표국적, 제작연도, 매출액점유율, 유형 제거"
   ]
  },
  {
   "cell_type": "code",
   "execution_count": 240,
   "metadata": {},
   "outputs": [
    {
     "data": {
      "text/plain": [
       "Index(['개봉일', '매출액 ', '매출액점유율', '관객수 ', '스크린수 ', '상영횟수 ', '대표국적 ', '등급 ', '장르',\n",
       "       '제작연도', '유형', '편당관객수', '스크린당관객수', '네티즌평점', '평론가평점', '긍정확률', 'result'],\n",
       "      dtype='object')"
      ]
     },
     "execution_count": 240,
     "metadata": {},
     "output_type": "execute_result"
    }
   ],
   "source": [
    "df.columns"
   ]
  },
  {
   "cell_type": "code",
   "execution_count": 241,
   "metadata": {},
   "outputs": [],
   "source": [
    "df=df.drop(['장르','대표국적 ','제작연도','매출액점유율','유형'],axis=1)"
   ]
  },
  {
   "cell_type": "code",
   "execution_count": 242,
   "metadata": {},
   "outputs": [
    {
     "data": {
      "text/plain": [
       "Index(['개봉일', '매출액 ', '관객수 ', '스크린수 ', '상영횟수 ', '등급 ', '편당관객수', '스크린당관객수',\n",
       "       '네티즌평점', '평론가평점', '긍정확률', 'result'],\n",
       "      dtype='object')"
      ]
     },
     "execution_count": 242,
     "metadata": {},
     "output_type": "execute_result"
    }
   ],
   "source": [
    "df.columns"
   ]
  },
  {
   "cell_type": "code",
   "execution_count": 243,
   "metadata": {},
   "outputs": [],
   "source": [
    "X = df.drop(['네티즌평점','result'], axis=1)\n",
    "y = np.array(df['result'])"
   ]
  },
  {
   "cell_type": "code",
   "execution_count": 244,
   "metadata": {},
   "outputs": [
    {
     "data": {
      "text/plain": [
       "Index(['개봉일', '매출액 ', '관객수 ', '스크린수 ', '상영횟수 ', '등급 ', '편당관객수', '스크린당관객수',\n",
       "       '평론가평점', '긍정확률'],\n",
       "      dtype='object')"
      ]
     },
     "execution_count": 244,
     "metadata": {},
     "output_type": "execute_result"
    }
   ],
   "source": [
    "X.columns"
   ]
  },
  {
   "cell_type": "code",
   "execution_count": 245,
   "metadata": {},
   "outputs": [],
   "source": [
    "from sklearn.model_selection import train_test_split\n",
    "\n",
    "X_train, X_test, y_train, y_test = train_test_split(X, y, test_size=0.3, random_state=0)"
   ]
  },
  {
   "cell_type": "code",
   "execution_count": 246,
   "metadata": {},
   "outputs": [],
   "source": [
    "from sklearn.ensemble import RandomForestClassifier\n",
    "\n",
    "RF = RandomForestClassifier(n_estimators=50, random_state=0)"
   ]
  },
  {
   "cell_type": "code",
   "execution_count": 247,
   "metadata": {},
   "outputs": [],
   "source": [
    "RF.fit(X_train, y_train)\n",
    "temp_y_pred_rf = RF.predict(X_test)\n"
   ]
  },
  {
   "cell_type": "code",
   "execution_count": 248,
   "metadata": {},
   "outputs": [
    {
     "name": "stdout",
     "output_type": "stream",
     "text": [
      "accuracy:  0.7540983606557377\n",
      "precision:  0.725925925925926\n",
      "recall:  0.8099173553719008\n",
      "f1:  0.765625\n"
     ]
    }
   ],
   "source": [
    "#랜덤포레스트 모델 성능\n",
    "print('accuracy: ', accuracy_score(y_test, temp_y_pred_rf))\n",
    "print('precision: ', precision_score(y_test, temp_y_pred_rf))\n",
    "print('recall: ', recall_score(y_test, temp_y_pred_rf))\n",
    "print('f1: ', f1_score(y_test, temp_y_pred_rf))\n"
   ]
  },
  {
   "cell_type": "code",
   "execution_count": 249,
   "metadata": {},
   "outputs": [
    {
     "data": {
      "text/plain": [
       "array([0.08410677, 0.08063048, 0.06453051, 0.08023113, 0.06907085,\n",
       "       0.05028953, 0.07792623, 0.09640308, 0.06780295, 0.32900847])"
      ]
     },
     "execution_count": 249,
     "metadata": {},
     "output_type": "execute_result"
    }
   ],
   "source": [
    "RF.feature_importances_"
   ]
  },
  {
   "cell_type": "code",
   "execution_count": 250,
   "metadata": {},
   "outputs": [
    {
     "data": {
      "text/html": [
       "<div>\n",
       "<style scoped>\n",
       "    .dataframe tbody tr th:only-of-type {\n",
       "        vertical-align: middle;\n",
       "    }\n",
       "\n",
       "    .dataframe tbody tr th {\n",
       "        vertical-align: top;\n",
       "    }\n",
       "\n",
       "    .dataframe thead th {\n",
       "        text-align: right;\n",
       "    }\n",
       "</style>\n",
       "<table border=\"1\" class=\"dataframe\">\n",
       "  <thead>\n",
       "    <tr style=\"text-align: right;\">\n",
       "      <th></th>\n",
       "      <th>0</th>\n",
       "      <th>1</th>\n",
       "      <th>2</th>\n",
       "      <th>3</th>\n",
       "      <th>4</th>\n",
       "      <th>5</th>\n",
       "      <th>6</th>\n",
       "      <th>7</th>\n",
       "      <th>8</th>\n",
       "      <th>9</th>\n",
       "    </tr>\n",
       "  </thead>\n",
       "  <tbody>\n",
       "    <tr>\n",
       "      <th>feature_importance</th>\n",
       "      <td>0.084107</td>\n",
       "      <td>0.08063</td>\n",
       "      <td>0.064531</td>\n",
       "      <td>0.080231</td>\n",
       "      <td>0.069071</td>\n",
       "      <td>0.05029</td>\n",
       "      <td>0.077926</td>\n",
       "      <td>0.096403</td>\n",
       "      <td>0.067803</td>\n",
       "      <td>0.329008</td>\n",
       "    </tr>\n",
       "  </tbody>\n",
       "</table>\n",
       "</div>"
      ],
      "text/plain": [
       "                           0        1         2         3         4        5  \\\n",
       "feature_importance  0.084107  0.08063  0.064531  0.080231  0.069071  0.05029   \n",
       "\n",
       "                           6         7         8         9  \n",
       "feature_importance  0.077926  0.096403  0.067803  0.329008  "
      ]
     },
     "execution_count": 250,
     "metadata": {},
     "output_type": "execute_result"
    }
   ],
   "source": [
    "pd.DataFrame(RF.feature_importances_.reshape((1,-1)), index=['feature_importance'])"
   ]
  },
  {
   "cell_type": "code",
   "execution_count": 251,
   "metadata": {},
   "outputs": [
    {
     "data": {
      "text/html": [
       "<div>\n",
       "<style scoped>\n",
       "    .dataframe tbody tr th:only-of-type {\n",
       "        vertical-align: middle;\n",
       "    }\n",
       "\n",
       "    .dataframe tbody tr th {\n",
       "        vertical-align: top;\n",
       "    }\n",
       "\n",
       "    .dataframe thead th {\n",
       "        text-align: right;\n",
       "    }\n",
       "</style>\n",
       "<table border=\"1\" class=\"dataframe\">\n",
       "  <thead>\n",
       "    <tr style=\"text-align: right;\">\n",
       "      <th></th>\n",
       "      <th>feature_importance</th>\n",
       "    </tr>\n",
       "  </thead>\n",
       "  <tbody>\n",
       "    <tr>\n",
       "      <th>긍정확률</th>\n",
       "      <td>0.329008</td>\n",
       "    </tr>\n",
       "    <tr>\n",
       "      <th>스크린당관객수</th>\n",
       "      <td>0.096403</td>\n",
       "    </tr>\n",
       "    <tr>\n",
       "      <th>개봉일</th>\n",
       "      <td>0.084107</td>\n",
       "    </tr>\n",
       "    <tr>\n",
       "      <th>매출액</th>\n",
       "      <td>0.080630</td>\n",
       "    </tr>\n",
       "    <tr>\n",
       "      <th>스크린수</th>\n",
       "      <td>0.080231</td>\n",
       "    </tr>\n",
       "    <tr>\n",
       "      <th>편당관객수</th>\n",
       "      <td>0.077926</td>\n",
       "    </tr>\n",
       "    <tr>\n",
       "      <th>상영횟수</th>\n",
       "      <td>0.069071</td>\n",
       "    </tr>\n",
       "    <tr>\n",
       "      <th>평론가평점</th>\n",
       "      <td>0.067803</td>\n",
       "    </tr>\n",
       "    <tr>\n",
       "      <th>관객수</th>\n",
       "      <td>0.064531</td>\n",
       "    </tr>\n",
       "    <tr>\n",
       "      <th>등급</th>\n",
       "      <td>0.050290</td>\n",
       "    </tr>\n",
       "  </tbody>\n",
       "</table>\n",
       "</div>"
      ],
      "text/plain": [
       "         feature_importance\n",
       "긍정확률               0.329008\n",
       "스크린당관객수            0.096403\n",
       "개봉일                0.084107\n",
       "매출액                0.080630\n",
       "스크린수               0.080231\n",
       "편당관객수              0.077926\n",
       "상영횟수               0.069071\n",
       "평론가평점              0.067803\n",
       "관객수                0.064531\n",
       "등급                 0.050290"
      ]
     },
     "execution_count": 251,
     "metadata": {},
     "output_type": "execute_result"
    }
   ],
   "source": [
    "a=pd.DataFrame(RF.feature_importances_.reshape((1,-1)),columns=X.columns, index=['feature_importance'])\n",
    "b=a.T\n",
    "b=b.sort_values(by='feature_importance',ascending=False)\n",
    "b"
   ]
  },
  {
   "cell_type": "markdown",
   "metadata": {},
   "source": [
    "## 전체데이터에서 감성분석을 제거하고 난 후의 데이터를 측정해보자"
   ]
  },
  {
   "cell_type": "code",
   "execution_count": 266,
   "metadata": {},
   "outputs": [],
   "source": [
    "df=pd.read_excel('최종데이터.xlsx',index_col='영화명')\n",
    "\n",
    "from datetime import date\n",
    "df['개봉일'] = df['개봉일'].apply(lambda x: x.strftime('%Y%m%d'))\n",
    "df['개봉일'] = df['개봉일'].astype(int)\n",
    "\n",
    "\n",
    "# object열을 바꿔주기\n",
    "# 1) 등급\n",
    "df['등급 '].value_counts()\n",
    "df['등급 ']=df['등급 '].map({'전체관람가':0,'12세이상관람가':1,'12세관람가':1,'15세이상관람가':2,'청소년관람불가':3})\n",
    "\n",
    "# 2) 대표국적, 유형, 장르 레이블 인코딩\n",
    "from sklearn.preprocessing import LabelEncoder\n",
    "# 유형, 장르, 대표국적에 레이블 인코딩\n",
    "le=LabelEncoder()\n",
    "df['대표국적 ']=le.fit_transform(df['대표국적 '].values)\n",
    "\n",
    "df['유형']=le.fit_transform(df['유형'].values)\n",
    "df['장르']=le.fit_transform(df['장르'].values)\n",
    "\n",
    "df.loc[df['네티즌평점']>=8.0,'result']=1\n",
    "df.loc[df['네티즌평점']<8.0,'result']=0\n"
   ]
  },
  {
   "cell_type": "code",
   "execution_count": 267,
   "metadata": {},
   "outputs": [
    {
     "data": {
      "text/html": [
       "<div>\n",
       "<style scoped>\n",
       "    .dataframe tbody tr th:only-of-type {\n",
       "        vertical-align: middle;\n",
       "    }\n",
       "\n",
       "    .dataframe tbody tr th {\n",
       "        vertical-align: top;\n",
       "    }\n",
       "\n",
       "    .dataframe thead th {\n",
       "        text-align: right;\n",
       "    }\n",
       "</style>\n",
       "<table border=\"1\" class=\"dataframe\">\n",
       "  <thead>\n",
       "    <tr style=\"text-align: right;\">\n",
       "      <th></th>\n",
       "      <th>개봉일</th>\n",
       "      <th>매출액</th>\n",
       "      <th>매출액점유율</th>\n",
       "      <th>관객수</th>\n",
       "      <th>스크린수</th>\n",
       "      <th>상영횟수</th>\n",
       "      <th>대표국적</th>\n",
       "      <th>등급</th>\n",
       "      <th>장르</th>\n",
       "      <th>제작연도</th>\n",
       "      <th>유형</th>\n",
       "      <th>편당관객수</th>\n",
       "      <th>스크린당관객수</th>\n",
       "      <th>네티즌평점</th>\n",
       "      <th>평론가평점</th>\n",
       "      <th>긍정확률</th>\n",
       "      <th>result</th>\n",
       "    </tr>\n",
       "    <tr>\n",
       "      <th>영화명</th>\n",
       "      <th></th>\n",
       "      <th></th>\n",
       "      <th></th>\n",
       "      <th></th>\n",
       "      <th></th>\n",
       "      <th></th>\n",
       "      <th></th>\n",
       "      <th></th>\n",
       "      <th></th>\n",
       "      <th></th>\n",
       "      <th></th>\n",
       "      <th></th>\n",
       "      <th></th>\n",
       "      <th></th>\n",
       "      <th></th>\n",
       "      <th></th>\n",
       "      <th></th>\n",
       "    </tr>\n",
       "  </thead>\n",
       "  <tbody>\n",
       "    <tr>\n",
       "      <th>보헤미안 랩소디</th>\n",
       "      <td>20181031</td>\n",
       "      <td>25.105423</td>\n",
       "      <td>0.044</td>\n",
       "      <td>9224582</td>\n",
       "      <td>1179</td>\n",
       "      <td>204537</td>\n",
       "      <td>8</td>\n",
       "      <td>1</td>\n",
       "      <td>6</td>\n",
       "      <td>2018</td>\n",
       "      <td>1</td>\n",
       "      <td>45.099821</td>\n",
       "      <td>7824.072943</td>\n",
       "      <td>9.42</td>\n",
       "      <td>6.14</td>\n",
       "      <td>0.73</td>\n",
       "      <td>1.0</td>\n",
       "    </tr>\n",
       "    <tr>\n",
       "      <th>공작</th>\n",
       "      <td>20180808</td>\n",
       "      <td>24.479543</td>\n",
       "      <td>0.024</td>\n",
       "      <td>4974520</td>\n",
       "      <td>1317</td>\n",
       "      <td>99001</td>\n",
       "      <td>32</td>\n",
       "      <td>1</td>\n",
       "      <td>6</td>\n",
       "      <td>2017</td>\n",
       "      <td>1</td>\n",
       "      <td>50.247169</td>\n",
       "      <td>3777.160213</td>\n",
       "      <td>6.83</td>\n",
       "      <td>6.93</td>\n",
       "      <td>0.20</td>\n",
       "      <td>0.0</td>\n",
       "    </tr>\n",
       "    <tr>\n",
       "      <th>국가부도의 날</th>\n",
       "      <td>20181128</td>\n",
       "      <td>24.152268</td>\n",
       "      <td>0.017</td>\n",
       "      <td>3747952</td>\n",
       "      <td>1180</td>\n",
       "      <td>100804</td>\n",
       "      <td>32</td>\n",
       "      <td>1</td>\n",
       "      <td>6</td>\n",
       "      <td>2018</td>\n",
       "      <td>1</td>\n",
       "      <td>37.180588</td>\n",
       "      <td>3176.230508</td>\n",
       "      <td>8.12</td>\n",
       "      <td>6.50</td>\n",
       "      <td>0.79</td>\n",
       "      <td>1.0</td>\n",
       "    </tr>\n",
       "    <tr>\n",
       "      <th>코코</th>\n",
       "      <td>20180111</td>\n",
       "      <td>24.044174</td>\n",
       "      <td>0.015</td>\n",
       "      <td>3510017</td>\n",
       "      <td>1177</td>\n",
       "      <td>85925</td>\n",
       "      <td>8</td>\n",
       "      <td>0</td>\n",
       "      <td>13</td>\n",
       "      <td>2017</td>\n",
       "      <td>1</td>\n",
       "      <td>40.849776</td>\n",
       "      <td>2982.172472</td>\n",
       "      <td>9.32</td>\n",
       "      <td>8.00</td>\n",
       "      <td>0.64</td>\n",
       "      <td>1.0</td>\n",
       "    </tr>\n",
       "    <tr>\n",
       "      <th>아쿠아맨</th>\n",
       "      <td>20181219</td>\n",
       "      <td>24.139493</td>\n",
       "      <td>0.017</td>\n",
       "      <td>3491857</td>\n",
       "      <td>1285</td>\n",
       "      <td>54505</td>\n",
       "      <td>8</td>\n",
       "      <td>1</td>\n",
       "      <td>14</td>\n",
       "      <td>2018</td>\n",
       "      <td>1</td>\n",
       "      <td>64.064893</td>\n",
       "      <td>2717.398444</td>\n",
       "      <td>8.36</td>\n",
       "      <td>6.83</td>\n",
       "      <td>0.69</td>\n",
       "      <td>1.0</td>\n",
       "    </tr>\n",
       "    <tr>\n",
       "      <th>...</th>\n",
       "      <td>...</td>\n",
       "      <td>...</td>\n",
       "      <td>...</td>\n",
       "      <td>...</td>\n",
       "      <td>...</td>\n",
       "      <td>...</td>\n",
       "      <td>...</td>\n",
       "      <td>...</td>\n",
       "      <td>...</td>\n",
       "      <td>...</td>\n",
       "      <td>...</td>\n",
       "      <td>...</td>\n",
       "      <td>...</td>\n",
       "      <td>...</td>\n",
       "      <td>...</td>\n",
       "      <td>...</td>\n",
       "      <td>...</td>\n",
       "    </tr>\n",
       "    <tr>\n",
       "      <th>라이브 하드</th>\n",
       "      <td>20210225</td>\n",
       "      <td>14.480809</td>\n",
       "      <td>0.000</td>\n",
       "      <td>237</td>\n",
       "      <td>10</td>\n",
       "      <td>92</td>\n",
       "      <td>32</td>\n",
       "      <td>2</td>\n",
       "      <td>6</td>\n",
       "      <td>2020</td>\n",
       "      <td>1</td>\n",
       "      <td>2.576087</td>\n",
       "      <td>23.700000</td>\n",
       "      <td>8.86</td>\n",
       "      <td>6.00</td>\n",
       "      <td>0.64</td>\n",
       "      <td>1.0</td>\n",
       "    </tr>\n",
       "    <tr>\n",
       "      <th>윙스 오버 에베레스트</th>\n",
       "      <td>20210930</td>\n",
       "      <td>13.874534</td>\n",
       "      <td>0.000</td>\n",
       "      <td>174</td>\n",
       "      <td>10</td>\n",
       "      <td>10</td>\n",
       "      <td>24</td>\n",
       "      <td>2</td>\n",
       "      <td>14</td>\n",
       "      <td>2019</td>\n",
       "      <td>1</td>\n",
       "      <td>17.400000</td>\n",
       "      <td>17.400000</td>\n",
       "      <td>6.17</td>\n",
       "      <td>0.00</td>\n",
       "      <td>0.46</td>\n",
       "      <td>0.0</td>\n",
       "    </tr>\n",
       "    <tr>\n",
       "      <th>킬링,</th>\n",
       "      <td>20210407</td>\n",
       "      <td>13.908463</td>\n",
       "      <td>0.000</td>\n",
       "      <td>125</td>\n",
       "      <td>4</td>\n",
       "      <td>53</td>\n",
       "      <td>23</td>\n",
       "      <td>3</td>\n",
       "      <td>6</td>\n",
       "      <td>2018</td>\n",
       "      <td>1</td>\n",
       "      <td>2.358491</td>\n",
       "      <td>31.250000</td>\n",
       "      <td>8.78</td>\n",
       "      <td>7.83</td>\n",
       "      <td>0.13</td>\n",
       "      <td>1.0</td>\n",
       "    </tr>\n",
       "    <tr>\n",
       "      <th>서유기: 재세요왕</th>\n",
       "      <td>20210930</td>\n",
       "      <td>13.883636</td>\n",
       "      <td>0.000</td>\n",
       "      <td>123</td>\n",
       "      <td>20</td>\n",
       "      <td>22</td>\n",
       "      <td>24</td>\n",
       "      <td>0</td>\n",
       "      <td>13</td>\n",
       "      <td>2020</td>\n",
       "      <td>1</td>\n",
       "      <td>5.590909</td>\n",
       "      <td>6.150000</td>\n",
       "      <td>5.67</td>\n",
       "      <td>6.00</td>\n",
       "      <td>0.27</td>\n",
       "      <td>0.0</td>\n",
       "    </tr>\n",
       "    <tr>\n",
       "      <th>일론 머스크: 리얼 아이언맨</th>\n",
       "      <td>20210211</td>\n",
       "      <td>13.384728</td>\n",
       "      <td>0.000</td>\n",
       "      <td>101</td>\n",
       "      <td>1</td>\n",
       "      <td>9</td>\n",
       "      <td>20</td>\n",
       "      <td>0</td>\n",
       "      <td>5</td>\n",
       "      <td>2018</td>\n",
       "      <td>1</td>\n",
       "      <td>11.222222</td>\n",
       "      <td>101.000000</td>\n",
       "      <td>5.32</td>\n",
       "      <td>0.00</td>\n",
       "      <td>0.24</td>\n",
       "      <td>0.0</td>\n",
       "    </tr>\n",
       "  </tbody>\n",
       "</table>\n",
       "<p>812 rows × 17 columns</p>\n",
       "</div>"
      ],
      "text/plain": [
       "                      개봉일       매출액   매출액점유율     관객수   스크린수    상영횟수   대표국적   \\\n",
       "영화명                                                                           \n",
       "보헤미안 랩소디         20181031  25.105423   0.044  9224582   1179  204537      8   \n",
       "공작               20180808  24.479543   0.024  4974520   1317   99001     32   \n",
       "국가부도의 날          20181128  24.152268   0.017  3747952   1180  100804     32   \n",
       "코코               20180111  24.044174   0.015  3510017   1177   85925      8   \n",
       "아쿠아맨             20181219  24.139493   0.017  3491857   1285   54505      8   \n",
       "...                   ...        ...     ...      ...    ...     ...    ...   \n",
       "라이브 하드           20210225  14.480809   0.000      237     10      92     32   \n",
       "윙스 오버 에베레스트      20210930  13.874534   0.000      174     10      10     24   \n",
       "킬링,              20210407  13.908463   0.000      125      4      53     23   \n",
       "서유기: 재세요왕        20210930  13.883636   0.000      123     20      22     24   \n",
       "일론 머스크: 리얼 아이언맨  20210211  13.384728   0.000      101      1       9     20   \n",
       "\n",
       "                 등급   장르  제작연도  유형      편당관객수      스크린당관객수  네티즌평점  평론가평점  \\\n",
       "영화명                                                                        \n",
       "보헤미안 랩소디           1   6  2018   1  45.099821  7824.072943   9.42   6.14   \n",
       "공작                 1   6  2017   1  50.247169  3777.160213   6.83   6.93   \n",
       "국가부도의 날            1   6  2018   1  37.180588  3176.230508   8.12   6.50   \n",
       "코코                 0  13  2017   1  40.849776  2982.172472   9.32   8.00   \n",
       "아쿠아맨               1  14  2018   1  64.064893  2717.398444   8.36   6.83   \n",
       "...              ...  ..   ...  ..        ...          ...    ...    ...   \n",
       "라이브 하드             2   6  2020   1   2.576087    23.700000   8.86   6.00   \n",
       "윙스 오버 에베레스트        2  14  2019   1  17.400000    17.400000   6.17   0.00   \n",
       "킬링,                3   6  2018   1   2.358491    31.250000   8.78   7.83   \n",
       "서유기: 재세요왕          0  13  2020   1   5.590909     6.150000   5.67   6.00   \n",
       "일론 머스크: 리얼 아이언맨    0   5  2018   1  11.222222   101.000000   5.32   0.00   \n",
       "\n",
       "                 긍정확률  result  \n",
       "영화명                            \n",
       "보헤미안 랩소디         0.73     1.0  \n",
       "공작               0.20     0.0  \n",
       "국가부도의 날          0.79     1.0  \n",
       "코코               0.64     1.0  \n",
       "아쿠아맨             0.69     1.0  \n",
       "...               ...     ...  \n",
       "라이브 하드           0.64     1.0  \n",
       "윙스 오버 에베레스트      0.46     0.0  \n",
       "킬링,              0.13     1.0  \n",
       "서유기: 재세요왕        0.27     0.0  \n",
       "일론 머스크: 리얼 아이언맨  0.24     0.0  \n",
       "\n",
       "[812 rows x 17 columns]"
      ]
     },
     "execution_count": 267,
     "metadata": {},
     "output_type": "execute_result"
    }
   ],
   "source": [
    "df"
   ]
  },
  {
   "cell_type": "code",
   "execution_count": 268,
   "metadata": {},
   "outputs": [],
   "source": [
    "X=df.drop(['네티즌평점','result','긍정확률'],axis=1)\n",
    "y=df['result']"
   ]
  },
  {
   "cell_type": "code",
   "execution_count": 269,
   "metadata": {},
   "outputs": [
    {
     "name": "stdout",
     "output_type": "stream",
     "text": [
      "X_train 크기: (568, 14)\n",
      "y_train 크기: (568,)\n",
      "X_test 크기: (244, 14)\n",
      "y_test 크기: (244,)\n"
     ]
    }
   ],
   "source": [
    "from sklearn.model_selection import train_test_split\n",
    "\n",
    "X_train, X_test, y_train, y_test = train_test_split(X, y, test_size=0.3, random_state=0)\n",
    "print(\"X_train 크기:\", X_train.shape)\n",
    "print(\"y_train 크기:\", y_train.shape)\n",
    "print(\"X_test 크기:\", X_test.shape)\n",
    "print(\"y_test 크기:\", y_test.shape)"
   ]
  },
  {
   "cell_type": "code",
   "execution_count": 270,
   "metadata": {},
   "outputs": [
    {
     "data": {
      "text/plain": [
       "RandomForestClassifier(random_state=0)"
      ]
     },
     "execution_count": 270,
     "metadata": {},
     "output_type": "execute_result"
    }
   ],
   "source": [
    "from sklearn.ensemble import RandomForestClassifier\n",
    "\n",
    "RF = RandomForestClassifier(n_estimators=100, random_state=0)\n",
    "RF.fit(X_train, y_train)"
   ]
  },
  {
   "cell_type": "code",
   "execution_count": 271,
   "metadata": {},
   "outputs": [
    {
     "data": {
      "text/plain": [
       "array([0., 0., 1., 1., 1., 0., 0., 0., 0., 0., 0., 1., 1., 1., 1., 0., 0.,\n",
       "       1., 0., 0., 1., 0., 1., 0., 0., 0., 1., 1., 0., 0., 1., 1., 1., 1.,\n",
       "       1., 1., 0., 1., 1., 1., 1., 0., 1., 0., 1., 0., 0., 1., 1., 0., 0.,\n",
       "       0., 1., 0., 1., 1., 0., 0., 0., 1., 1., 0., 1., 0., 0., 1., 1., 0.,\n",
       "       0., 1., 0., 1., 1., 1., 1., 0., 1., 0., 1., 1., 1., 1., 1., 1., 1.,\n",
       "       1., 1., 1., 1., 0., 1., 1., 1., 0., 0., 0., 0., 0., 1., 1., 0., 1.,\n",
       "       0., 1., 1., 0., 1., 1., 0., 1., 1., 1., 0., 1., 1., 1., 0., 0., 1.,\n",
       "       1., 0., 1., 0., 0., 0., 0., 1., 1., 0., 1., 1., 1., 0., 0., 0., 1.,\n",
       "       1., 1., 1., 0., 0., 1., 1., 1., 1., 1., 0., 0., 1., 1., 0., 1., 0.,\n",
       "       0., 1., 0., 0., 0., 1., 1., 0., 0., 0., 1., 1., 1., 1., 0., 1., 1.,\n",
       "       1., 0., 1., 1., 0., 1., 0., 0., 1., 0., 0., 0., 1., 1., 1., 0., 1.,\n",
       "       0., 0., 1., 0., 0., 1., 0., 1., 1., 0., 0., 1., 0., 1., 1., 0., 1.,\n",
       "       0., 0., 0., 0., 0., 0., 0., 1., 0., 1., 0., 0., 1., 0., 1., 1., 1.,\n",
       "       1., 0., 1., 0., 0., 1., 1., 0., 1., 1., 0., 0., 0., 1., 0., 0., 1.,\n",
       "       0., 1., 1., 0., 1., 1.])"
      ]
     },
     "execution_count": 271,
     "metadata": {},
     "output_type": "execute_result"
    }
   ],
   "source": [
    "temp_y_pred_rf = RF.predict(X_test)\n",
    "temp_y_pred_rf\n"
   ]
  },
  {
   "cell_type": "code",
   "execution_count": 272,
   "metadata": {},
   "outputs": [
    {
     "data": {
      "text/plain": [
       "0.6967213114754098"
      ]
     },
     "execution_count": 272,
     "metadata": {},
     "output_type": "execute_result"
    }
   ],
   "source": [
    "accuracy_score(y_test, temp_y_pred_rf)"
   ]
  },
  {
   "cell_type": "code",
   "execution_count": 257,
   "metadata": {},
   "outputs": [
    {
     "name": "stdout",
     "output_type": "stream",
     "text": [
      ">10, acc: 0.746\n",
      ">15, acc: 0.750\n",
      ">20, acc: 0.738\n",
      ">25, acc: 0.762\n",
      ">30, acc: 0.750\n",
      ">35, acc: 0.766\n",
      ">40, acc: 0.742\n",
      ">45, acc: 0.750\n",
      ">50, acc: 0.754\n",
      ">55, acc: 0.762\n",
      ">60, acc: 0.750\n",
      ">65, acc: 0.758\n",
      ">70, acc: 0.754\n",
      ">75, acc: 0.750\n",
      ">80, acc: 0.742\n",
      ">85, acc: 0.742\n",
      ">90, acc: 0.730\n",
      ">95, acc: 0.730\n",
      ">100, acc: 0.734\n",
      ">105, acc: 0.742\n",
      ">110, acc: 0.742\n",
      ">115, acc: 0.734\n",
      ">120, acc: 0.738\n",
      ">125, acc: 0.738\n",
      ">130, acc: 0.742\n",
      ">135, acc: 0.738\n",
      ">140, acc: 0.730\n",
      ">145, acc: 0.738\n",
      ">150, acc: 0.742\n",
      ">155, acc: 0.738\n",
      ">160, acc: 0.738\n",
      ">165, acc: 0.738\n",
      ">170, acc: 0.742\n",
      ">175, acc: 0.746\n",
      ">180, acc: 0.734\n",
      ">185, acc: 0.730\n",
      ">190, acc: 0.738\n",
      ">195, acc: 0.734\n",
      ">200, acc: 0.746\n",
      ">205, acc: 0.746\n",
      ">210, acc: 0.738\n",
      ">215, acc: 0.734\n",
      ">220, acc: 0.734\n",
      ">225, acc: 0.734\n",
      ">230, acc: 0.730\n",
      ">235, acc: 0.734\n",
      ">240, acc: 0.734\n",
      ">245, acc: 0.738\n",
      ">250, acc: 0.734\n",
      ">255, acc: 0.734\n",
      ">260, acc: 0.734\n",
      ">265, acc: 0.734\n",
      ">270, acc: 0.730\n",
      ">275, acc: 0.738\n",
      ">280, acc: 0.730\n",
      ">285, acc: 0.734\n",
      ">290, acc: 0.738\n",
      ">295, acc: 0.742\n",
      ">300, acc: 0.738\n",
      ">305, acc: 0.742\n",
      ">310, acc: 0.738\n",
      ">315, acc: 0.746\n",
      ">320, acc: 0.746\n",
      ">325, acc: 0.746\n",
      ">330, acc: 0.746\n",
      ">335, acc: 0.742\n",
      ">340, acc: 0.746\n",
      ">345, acc: 0.742\n",
      ">350, acc: 0.742\n",
      ">355, acc: 0.746\n",
      ">360, acc: 0.746\n",
      ">365, acc: 0.746\n",
      ">370, acc: 0.746\n",
      ">375, acc: 0.742\n",
      ">380, acc: 0.746\n",
      ">385, acc: 0.746\n",
      ">390, acc: 0.742\n",
      ">395, acc: 0.742\n",
      ">400, acc: 0.750\n",
      ">405, acc: 0.750\n",
      ">410, acc: 0.750\n",
      ">415, acc: 0.750\n",
      ">420, acc: 0.750\n",
      ">425, acc: 0.750\n",
      ">430, acc: 0.750\n",
      ">435, acc: 0.742\n",
      ">440, acc: 0.746\n",
      ">445, acc: 0.746\n",
      ">450, acc: 0.746\n",
      ">455, acc: 0.746\n",
      ">460, acc: 0.746\n",
      ">465, acc: 0.746\n",
      ">470, acc: 0.746\n",
      ">475, acc: 0.746\n",
      ">480, acc: 0.746\n",
      ">485, acc: 0.746\n",
      ">490, acc: 0.746\n",
      ">495, acc: 0.742\n"
     ]
    },
    {
     "data": {
      "text/plain": [
       "<matplotlib.legend.Legend at 0x2c90498e160>"
      ]
     },
     "execution_count": 257,
     "metadata": {},
     "output_type": "execute_result"
    },
    {
     "data": {
      "image/png": "[encoded data removed]",
      "text/plain": [
       "<Figure size 432x288 with 1 Axes>"
      ]
     },
     "metadata": {
      "needs_background": "light"
     },
     "output_type": "display_data"
    }
   ],
   "source": [
    "scores = []\n",
    "for i in range(10,500,5):\n",
    "    RF = RandomForestClassifier(n_estimators=i, random_state=0)\n",
    "    RF.fit(X_train, y_train)\n",
    "    \n",
    "    att = RF.predict(X_test)\n",
    "    acc = accuracy_score(y_test, att)\n",
    "    scores.append(acc)\n",
    "    \n",
    "    print('>%d, acc: %.3f' % (i, acc))\n",
    "\n",
    "pyplot.plot(range(10,500,5), scores, 'b--', label='RF_acc')\n",
    "pyplot.legend()"
   ]
  },
  {
   "cell_type": "code",
   "execution_count": 273,
   "metadata": {},
   "outputs": [],
   "source": [
    "# 가장 높은 값이 나오는 50으로 n_estimators 조정 후 모델 돌려보기\n",
    "RF = RandomForestClassifier(n_estimators=50, random_state=0)\n",
    "RF.fit(X_train, y_train)\n",
    "temp_y_pred_rf = RF.predict(X_test)\n"
   ]
  },
  {
   "cell_type": "code",
   "execution_count": 274,
   "metadata": {},
   "outputs": [
    {
     "name": "stdout",
     "output_type": "stream",
     "text": [
      "accuracy:  0.6844262295081968\n",
      "precision:  0.671875\n",
      "recall:  0.7107438016528925\n",
      "f1:  0.6907630522088354\n"
     ]
    }
   ],
   "source": [
    "#랜덤포레스트 모델 성능\n",
    "print('accuracy: ', accuracy_score(y_test, temp_y_pred_rf))\n",
    "print('precision: ', precision_score(y_test, temp_y_pred_rf))\n",
    "print('recall: ', recall_score(y_test, temp_y_pred_rf))\n",
    "print('f1: ', f1_score(y_test, temp_y_pred_rf))"
   ]
  },
  {
   "cell_type": "code",
   "execution_count": 275,
   "metadata": {},
   "outputs": [
    {
     "data": {
      "text/plain": [
       "array([0.09827369, 0.089258  , 0.01311791, 0.08828969, 0.09646075,\n",
       "       0.08950744, 0.04736849, 0.06718569, 0.07323958, 0.04949796,\n",
       "       0.00105164, 0.09382896, 0.10978369, 0.08313654])"
      ]
     },
     "execution_count": 275,
     "metadata": {},
     "output_type": "execute_result"
    }
   ],
   "source": [
    "RF.feature_importances_"
   ]
  },
  {
   "cell_type": "code",
   "execution_count": 276,
   "metadata": {},
   "outputs": [
    {
     "data": {
      "text/html": [
       "<div>\n",
       "<style scoped>\n",
       "    .dataframe tbody tr th:only-of-type {\n",
       "        vertical-align: middle;\n",
       "    }\n",
       "\n",
       "    .dataframe tbody tr th {\n",
       "        vertical-align: top;\n",
       "    }\n",
       "\n",
       "    .dataframe thead th {\n",
       "        text-align: right;\n",
       "    }\n",
       "</style>\n",
       "<table border=\"1\" class=\"dataframe\">\n",
       "  <thead>\n",
       "    <tr style=\"text-align: right;\">\n",
       "      <th></th>\n",
       "      <th>0</th>\n",
       "      <th>1</th>\n",
       "      <th>2</th>\n",
       "      <th>3</th>\n",
       "      <th>4</th>\n",
       "      <th>5</th>\n",
       "      <th>6</th>\n",
       "      <th>7</th>\n",
       "      <th>8</th>\n",
       "      <th>9</th>\n",
       "      <th>10</th>\n",
       "      <th>11</th>\n",
       "      <th>12</th>\n",
       "      <th>13</th>\n",
       "    </tr>\n",
       "  </thead>\n",
       "  <tbody>\n",
       "    <tr>\n",
       "      <th>feature_importance</th>\n",
       "      <td>0.098274</td>\n",
       "      <td>0.089258</td>\n",
       "      <td>0.013118</td>\n",
       "      <td>0.08829</td>\n",
       "      <td>0.096461</td>\n",
       "      <td>0.089507</td>\n",
       "      <td>0.047368</td>\n",
       "      <td>0.067186</td>\n",
       "      <td>0.07324</td>\n",
       "      <td>0.049498</td>\n",
       "      <td>0.001052</td>\n",
       "      <td>0.093829</td>\n",
       "      <td>0.109784</td>\n",
       "      <td>0.083137</td>\n",
       "    </tr>\n",
       "  </tbody>\n",
       "</table>\n",
       "</div>"
      ],
      "text/plain": [
       "                          0         1         2        3         4         5   \\\n",
       "feature_importance  0.098274  0.089258  0.013118  0.08829  0.096461  0.089507   \n",
       "\n",
       "                          6         7        8         9         10        11  \\\n",
       "feature_importance  0.047368  0.067186  0.07324  0.049498  0.001052  0.093829   \n",
       "\n",
       "                          12        13  \n",
       "feature_importance  0.109784  0.083137  "
      ]
     },
     "execution_count": 276,
     "metadata": {},
     "output_type": "execute_result"
    }
   ],
   "source": [
    "pd.DataFrame(RF.feature_importances_.reshape((1,-1)), index=['feature_importance'])"
   ]
  },
  {
   "cell_type": "code",
   "execution_count": 277,
   "metadata": {},
   "outputs": [
    {
     "data": {
      "text/html": [
       "<div>\n",
       "<style scoped>\n",
       "    .dataframe tbody tr th:only-of-type {\n",
       "        vertical-align: middle;\n",
       "    }\n",
       "\n",
       "    .dataframe tbody tr th {\n",
       "        vertical-align: top;\n",
       "    }\n",
       "\n",
       "    .dataframe thead th {\n",
       "        text-align: right;\n",
       "    }\n",
       "</style>\n",
       "<table border=\"1\" class=\"dataframe\">\n",
       "  <thead>\n",
       "    <tr style=\"text-align: right;\">\n",
       "      <th></th>\n",
       "      <th>feature_importance</th>\n",
       "    </tr>\n",
       "  </thead>\n",
       "  <tbody>\n",
       "    <tr>\n",
       "      <th>스크린당관객수</th>\n",
       "      <td>0.109784</td>\n",
       "    </tr>\n",
       "    <tr>\n",
       "      <th>개봉일</th>\n",
       "      <td>0.098274</td>\n",
       "    </tr>\n",
       "    <tr>\n",
       "      <th>스크린수</th>\n",
       "      <td>0.096461</td>\n",
       "    </tr>\n",
       "    <tr>\n",
       "      <th>편당관객수</th>\n",
       "      <td>0.093829</td>\n",
       "    </tr>\n",
       "    <tr>\n",
       "      <th>상영횟수</th>\n",
       "      <td>0.089507</td>\n",
       "    </tr>\n",
       "    <tr>\n",
       "      <th>매출액</th>\n",
       "      <td>0.089258</td>\n",
       "    </tr>\n",
       "    <tr>\n",
       "      <th>관객수</th>\n",
       "      <td>0.088290</td>\n",
       "    </tr>\n",
       "    <tr>\n",
       "      <th>평론가평점</th>\n",
       "      <td>0.083137</td>\n",
       "    </tr>\n",
       "    <tr>\n",
       "      <th>장르</th>\n",
       "      <td>0.073240</td>\n",
       "    </tr>\n",
       "    <tr>\n",
       "      <th>등급</th>\n",
       "      <td>0.067186</td>\n",
       "    </tr>\n",
       "    <tr>\n",
       "      <th>제작연도</th>\n",
       "      <td>0.049498</td>\n",
       "    </tr>\n",
       "    <tr>\n",
       "      <th>대표국적</th>\n",
       "      <td>0.047368</td>\n",
       "    </tr>\n",
       "    <tr>\n",
       "      <th>매출액점유율</th>\n",
       "      <td>0.013118</td>\n",
       "    </tr>\n",
       "    <tr>\n",
       "      <th>유형</th>\n",
       "      <td>0.001052</td>\n",
       "    </tr>\n",
       "  </tbody>\n",
       "</table>\n",
       "</div>"
      ],
      "text/plain": [
       "         feature_importance\n",
       "스크린당관객수            0.109784\n",
       "개봉일                0.098274\n",
       "스크린수               0.096461\n",
       "편당관객수              0.093829\n",
       "상영횟수               0.089507\n",
       "매출액                0.089258\n",
       "관객수                0.088290\n",
       "평론가평점              0.083137\n",
       "장르                 0.073240\n",
       "등급                 0.067186\n",
       "제작연도               0.049498\n",
       "대표국적               0.047368\n",
       "매출액점유율             0.013118\n",
       "유형                 0.001052"
      ]
     },
     "execution_count": 277,
     "metadata": {},
     "output_type": "execute_result"
    }
   ],
   "source": [
    "a=pd.DataFrame(RF.feature_importances_.reshape((1,-1)),columns=X.columns, index=['feature_importance'])\n",
    "b=a.T\n",
    "b=b.sort_values(by='feature_importance',ascending=False)\n",
    "b"
   ]
  },
  {
   "cell_type": "markdown",
   "metadata": {},
   "source": [
    "### 긍정확률을 제외하고 비교해보면, 거의 모든부분이 일정부분이상 영향을 미치는 것을 확인할 수 있다.\n",
    "\n",
    "-> 그렇기에 영향을 미치지 않는 것이 없으므로 이 과정에서 종료한다."
   ]
  },
  {
   "cell_type": "code",
   "execution_count": null,
   "metadata": {},
   "outputs": [],
   "source": []
  }
 ],
 "metadata": {
  "kernelspec": {
   "display_name": "Python 3",
   "language": "python",
   "name": "python3"
  },
  "language_info": {
   "codemirror_mode": {
    "name": "ipython",
    "version": 3
   },
   "file_extension": ".py",
   "mimetype": "text/x-python",
   "name": "python",
   "nbconvert_exporter": "python",
   "pygments_lexer": "ipython3",
   "version": "3.8.5"
  }
 },
 "nbformat": 4,
 "nbformat_minor": 5
}
