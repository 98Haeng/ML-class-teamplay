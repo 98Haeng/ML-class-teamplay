{
 "cells": [
  {
   "cell_type": "code",
   "execution_count": 6,
   "metadata": {},
   "outputs": [
    {
     "name": "stdout",
     "output_type": "stream",
     "text": [
      "Requirement already satisfied: requests in c:\\anaconda\\lib\\site-packages (2.24.0)\n",
      "Requirement already satisfied: certifi>=2017.4.17 in c:\\anaconda\\lib\\site-packages (from requests) (2020.6.20)\n",
      "Requirement already satisfied: urllib3!=1.25.0,!=1.25.1,<1.26,>=1.21.1 in c:\\anaconda\\lib\\site-packages (from requests) (1.25.11)\n",
      "Requirement already satisfied: idna<3,>=2.5 in c:\\anaconda\\lib\\site-packages (from requests) (2.10)\n",
      "Requirement already satisfied: chardet<4,>=3.0.2 in c:\\anaconda\\lib\\site-packages (from requests) (3.0.4)\n",
      "Collecting bs4\n",
      "  Downloading bs4-0.0.1.tar.gz (1.1 kB)\n",
      "Requirement already satisfied: beautifulsoup4 in c:\\anaconda\\lib\\site-packages (from bs4) (4.6.0)\n",
      "Building wheels for collected packages: bs4\n",
      "  Building wheel for bs4 (setup.py): started\n",
      "  Building wheel for bs4 (setup.py): finished with status 'done'\n",
      "  Created wheel for bs4: filename=bs4-0.0.1-py3-none-any.whl size=1277 sha256=fe896e041738497b1a94d80a37e9873402605cfd59aad52930415e611a560a3b\n",
      "  Stored in directory: c:\\users\\이신행\\appdata\\local\\pip\\cache\\wheels\\75\\78\\21\\68b124549c9bdc94f822c02fb9aa3578a669843f9767776bca\n",
      "Successfully built bs4\n",
      "Installing collected packages: bs4\n",
      "Successfully installed bs4-0.0.1\n"
     ]
    }
   ],
   "source": [
    "!pip install requests\n",
    "!pip install bs4"
   ]
  },
  {
   "cell_type": "code",
   "execution_count": 51,
   "metadata": {},
   "outputs": [],
   "source": [
    "from selenium import webdriver\n",
    "import time"
   ]
  },
  {
   "cell_type": "code",
   "execution_count": 52,
   "metadata": {},
   "outputs": [],
   "source": [
    "from bs4 import BeautifulSoup\n",
    "import requests\n",
    "ㄹ개ㅡ ㅕㅣㄱ"
   ]
  },
  {
   "cell_type": "code",
   "execution_count": 53,
   "metadata": {},
   "outputs": [],
   "source": [
    "options=webdriver.ChromeOptions()\n",
    "options.add_argument('user_agent=Mozilla/5.0 (Windows NT 10.0; Win64; x64) AppleWebKit/537.36 (KHTML, like Gecko) Chrome/92.0.4515.107 Safari/537.36')\n",
    "options.add_experimental_option(\"excludeSwitches\", [\"enable-logging\"])\n",
    "\n",
    "basepath='C:/Users/이신행/OneDrive/바탕 화면/chromedriver_win32/'\n",
    "browser=webdriver.Chrome(executable_path=basepath+'chromedriver.exe',options=options)"
   ]
  },
  {
   "cell_type": "code",
   "execution_count": 62,
   "metadata": {},
   "outputs": [],
   "source": [
    "url='https://movie.naver.com/'\n",
    "browser.get(url)\n",
    "element=browser.find_element_by_id('ipt_tx_srch')\n",
    "element.send_keys('박강아름 결혼하다')\n",
    "element2=browser.find_element_by_class_name('btn_srch')\n",
    "element2.click()\n",
    "browser.implicitly_wait(3)\n",
    "moviename='박강아름 결혼하다'\n",
    "browser.find_element_by_partial_link_text(moviename).click()\n",
    "net_score=[]\n",
    "spec_score=[]\n",
    "score1=browser.find_element_by_css_selector('div.netizen_score > div > div > em').text\n",
    "score2=browser.find_element_by_css_selector('div.special_score > div > div > em').text\n",
    "net_score.append(score1)\n",
    "spec_score.append(score2)"
   ]
  },
  {
   "cell_type": "code",
   "execution_count": 64,
   "metadata": {},
   "outputs": [
    {
     "data": {
      "text/plain": [
       "(['9.56'], ['6.00'])"
      ]
     },
     "execution_count": 64,
     "metadata": {},
     "output_type": "execute_result"
    }
   ],
   "source": [
    "net_score, spec_score"
   ]
  },
  {
   "cell_type": "code",
   "execution_count": 167,
   "metadata": {},
   "outputs": [],
   "source": [
    "import pandas as pd\n",
    "import numpy as np"
   ]
  },
  {
   "cell_type": "code",
   "execution_count": 168,
   "metadata": {},
   "outputs": [
    {
     "data": {
      "text/html": [
       "<div>\n",
       "<style scoped>\n",
       "    .dataframe tbody tr th:only-of-type {\n",
       "        vertical-align: middle;\n",
       "    }\n",
       "\n",
       "    .dataframe tbody tr th {\n",
       "        vertical-align: top;\n",
       "    }\n",
       "\n",
       "    .dataframe thead th {\n",
       "        text-align: right;\n",
       "    }\n",
       "</style>\n",
       "<table border=\"1\" class=\"dataframe\">\n",
       "  <thead>\n",
       "    <tr style=\"text-align: right;\">\n",
       "      <th></th>\n",
       "      <th>영화명</th>\n",
       "      <th>제작연도</th>\n",
       "      <th>제작국가</th>\n",
       "      <th>유형</th>\n",
       "      <th>장르</th>\n",
       "      <th>제작상태</th>\n",
       "      <th>감독</th>\n",
       "      <th>제작사</th>\n",
       "      <th>개봉일</th>\n",
       "      <th>매출액</th>\n",
       "      <th>매출액점유율</th>\n",
       "      <th>관객수</th>\n",
       "      <th>누적관객수</th>\n",
       "      <th>스크린수</th>\n",
       "      <th>상영횟수</th>\n",
       "      <th>대표국적</th>\n",
       "      <th>국적</th>\n",
       "      <th>등급</th>\n",
       "    </tr>\n",
       "  </thead>\n",
       "  <tbody>\n",
       "    <tr>\n",
       "      <th>0</th>\n",
       "      <td>박강아름 결혼하다</td>\n",
       "      <td>2019</td>\n",
       "      <td>한국</td>\n",
       "      <td>장편</td>\n",
       "      <td>다큐멘터리</td>\n",
       "      <td>개봉</td>\n",
       "      <td>박강아름</td>\n",
       "      <td>창작집단3355 (A.3355)</td>\n",
       "      <td>2021-08-19</td>\n",
       "      <td>24745710</td>\n",
       "      <td>0.0</td>\n",
       "      <td>3392</td>\n",
       "      <td>3482</td>\n",
       "      <td>32</td>\n",
       "      <td>413</td>\n",
       "      <td>한국</td>\n",
       "      <td>한국</td>\n",
       "      <td>전체관람가</td>\n",
       "    </tr>\n",
       "  </tbody>\n",
       "</table>\n",
       "</div>"
      ],
      "text/plain": [
       "         영화명  제작연도 제작국가  유형     장르 제작상태    감독                제작사        개봉일  \\\n",
       "0  박강아름 결혼하다  2019   한국  장편  다큐멘터리   개봉  박강아름  창작집단3355 (A.3355) 2021-08-19   \n",
       "\n",
       "       매출액   매출액점유율  관객수   누적관객수   스크린수   상영횟수  대표국적  국적     등급   \n",
       "0  24745710     0.0  3392    3482     32    413    한국  한국  전체관람가  "
      ]
     },
     "execution_count": 168,
     "metadata": {},
     "output_type": "execute_result"
    }
   ],
   "source": [
    "s2021=pd.read_excel('2021통합.xlsx')\n",
    "s2021.head(1)"
   ]
  },
  {
   "cell_type": "code",
   "execution_count": 169,
   "metadata": {},
   "outputs": [
    {
     "data": {
      "text/plain": [
       "'새엄마4 무삭제'"
      ]
     },
     "execution_count": 169,
     "metadata": {},
     "output_type": "execute_result"
    }
   ],
   "source": [
    "s2021['영화명'][29]"
   ]
  },
  {
   "cell_type": "code",
   "execution_count": 170,
   "metadata": {},
   "outputs": [],
   "source": [
    "s2021=s2021.drop(s2021.index[29])\n",
    "index=0\n",
    "for i in range(0,750):\n",
    "    i+=1\n",
    "    s2021['인덱스']=i\n",
    "\n",
    "    s2021.set_index('인덱스',drop=True)"
   ]
  },
  {
   "cell_type": "code",
   "execution_count": 174,
   "metadata": {},
   "outputs": [
    {
     "name": "stdout",
     "output_type": "stream",
     "text": [
      "                    영화명  제작연도 제작국가  유형      장르 제작상태              감독  \\\n",
      "0             박강아름 결혼하다  2019   한국  장편   다큐멘터리   개봉            박강아름   \n",
      "1                정말 먼 곳  2020   한국  장편     드라마   개봉             박근영   \n",
      "2                   싱크홀  2021   한국  장편     코미디   개봉             김지훈   \n",
      "3               창극 패왕별희  2019   한국  장편      공연   개봉             우싱궈   \n",
      "4              아이들은 즐겁다  2020   한국  장편     드라마   개봉             이지원   \n",
      "..                  ...   ...  ...  ..     ...  ...             ...   \n",
      "746           O형수박가슴가정부  2020   한국  장편  멜로/로맨스   개봉               판   \n",
      "747      미세스 잘주리 미스 안주리  2020   한국  장편  멜로/로맨스   개봉             김종석   \n",
      "748        가슴큰친구누나들-무삭제  2020   한국  장편  멜로/로맨스   개봉             이정석   \n",
      "749    빅풋 주니어2: 패밀리가 떴다  2020   기타  장편   애니메이션   개봉  벤 스타센,제레미 드그루손   \n",
      "750  레전더리 콘서트: 레너드 번스타인  2020   독일  장편      공연   개봉             NaN   \n",
      "\n",
      "                   제작사        개봉일         매출액   매출액점유율     관객수    누적관객수   \\\n",
      "0    창작집단3355 (A.3355) 2021-08-19     24745710   0.000     3392     3482   \n",
      "1                 봄내필름 2021-03-18     84293850   0.000    10654    11049   \n",
      "2            (주)더타워픽쳐스 2021-08-11  21351074370   0.056  2187753  2187753   \n",
      "3            (주)케빈앤컴퍼니 2021-09-23      1713600   0.000      170      170   \n",
      "4             (주)영화사울림 2021-05-05    178930670   0.000    21473    21473   \n",
      "..                 ...        ...          ...     ...      ...      ...   \n",
      "746             스마일컨텐츠 2021-01-08         5000   0.000        1        1   \n",
      "747              모히또필름 2021-01-07       935000   0.000      170      170   \n",
      "748             스마일컨텐츠 2021-01-06         5000   0.000        1        1   \n",
      "749                NaN 2021-01-06    121766630   0.000    14697    14697   \n",
      "750                NaN 2021-01-03     10132500   0.000      366      366   \n",
      "\n",
      "     스크린수    상영횟수  대표국적  국적        등급   인덱스  \n",
      "0       32     413    한국  한국     전체관람가  750  \n",
      "1      204    2067    한국  한국  12세이상관람가  750  \n",
      "2     1603  121634    한국  한국  12세이상관람가  750  \n",
      "3       15      60    한국  한국     전체관람가  750  \n",
      "4      445    3740    한국  한국     전체관람가  750  \n",
      "..     ...     ...   ...  ..       ...  ...  \n",
      "746      1       1    한국  한국   청소년관람불가  750  \n",
      "747     21      21    한국  한국   청소년관람불가  750  \n",
      "748      1       1    한국  한국   청소년관람불가  750  \n",
      "749    308    3466    기타  기타     전체관람가  750  \n",
      "750     13     101    독일  독일     전체관람가  750  \n",
      "\n",
      "[750 rows x 19 columns]\n"
     ]
    }
   ],
   "source": [
    "print(s2021)"
   ]
  },
  {
   "cell_type": "code",
   "execution_count": 172,
   "metadata": {},
   "outputs": [
    {
     "data": {
      "text/html": [
       "<div>\n",
       "<style scoped>\n",
       "    .dataframe tbody tr th:only-of-type {\n",
       "        vertical-align: middle;\n",
       "    }\n",
       "\n",
       "    .dataframe tbody tr th {\n",
       "        vertical-align: top;\n",
       "    }\n",
       "\n",
       "    .dataframe thead th {\n",
       "        text-align: right;\n",
       "    }\n",
       "</style>\n",
       "<table border=\"1\" class=\"dataframe\">\n",
       "  <thead>\n",
       "    <tr style=\"text-align: right;\">\n",
       "      <th></th>\n",
       "      <th>영화명</th>\n",
       "      <th>제작연도</th>\n",
       "      <th>제작국가</th>\n",
       "      <th>유형</th>\n",
       "      <th>장르</th>\n",
       "      <th>제작상태</th>\n",
       "      <th>감독</th>\n",
       "      <th>제작사</th>\n",
       "      <th>개봉일</th>\n",
       "      <th>매출액</th>\n",
       "      <th>매출액점유율</th>\n",
       "      <th>관객수</th>\n",
       "      <th>누적관객수</th>\n",
       "      <th>스크린수</th>\n",
       "      <th>상영횟수</th>\n",
       "      <th>대표국적</th>\n",
       "      <th>국적</th>\n",
       "      <th>등급</th>\n",
       "      <th>인덱스</th>\n",
       "    </tr>\n",
       "  </thead>\n",
       "  <tbody>\n",
       "    <tr>\n",
       "      <th>25</th>\n",
       "      <td>디스 아메리카노</td>\n",
       "      <td>2021</td>\n",
       "      <td>한국</td>\n",
       "      <td>장편</td>\n",
       "      <td>드라마</td>\n",
       "      <td>개봉</td>\n",
       "      <td>권유주</td>\n",
       "      <td>주식회사 씨엠닉스</td>\n",
       "      <td>2021-09-10</td>\n",
       "      <td>64000</td>\n",
       "      <td>0.000</td>\n",
       "      <td>22</td>\n",
       "      <td>22</td>\n",
       "      <td>1</td>\n",
       "      <td>20</td>\n",
       "      <td>한국</td>\n",
       "      <td>한국</td>\n",
       "      <td>15세이상관람가</td>\n",
       "      <td>750</td>\n",
       "    </tr>\n",
       "    <tr>\n",
       "      <th>26</th>\n",
       "      <td>극장판 귀멸의 칼날: 무한열차편</td>\n",
       "      <td>2020</td>\n",
       "      <td>일본</td>\n",
       "      <td>장편</td>\n",
       "      <td>애니메이션</td>\n",
       "      <td>개봉</td>\n",
       "      <td>소토자키 하루오</td>\n",
       "      <td>NaN</td>\n",
       "      <td>2021-01-27</td>\n",
       "      <td>20656041700</td>\n",
       "      <td>0.054</td>\n",
       "      <td>2151861</td>\n",
       "      <td>2151861</td>\n",
       "      <td>900</td>\n",
       "      <td>151898</td>\n",
       "      <td>일본</td>\n",
       "      <td>일본</td>\n",
       "      <td>15세이상관람가</td>\n",
       "      <td>750</td>\n",
       "    </tr>\n",
       "    <tr>\n",
       "      <th>27</th>\n",
       "      <td>젖 큰 자매들</td>\n",
       "      <td>2021</td>\n",
       "      <td>한국</td>\n",
       "      <td>장편</td>\n",
       "      <td>멜로/로맨스</td>\n",
       "      <td>개봉</td>\n",
       "      <td>김모리</td>\n",
       "      <td>영화사 레드카펫,주식회사 루믹스미디어</td>\n",
       "      <td>2021-09-30</td>\n",
       "      <td>1000</td>\n",
       "      <td>0.000</td>\n",
       "      <td>1</td>\n",
       "      <td>1</td>\n",
       "      <td>1</td>\n",
       "      <td>1</td>\n",
       "      <td>한국</td>\n",
       "      <td>한국</td>\n",
       "      <td>청소년관람불가</td>\n",
       "      <td>750</td>\n",
       "    </tr>\n",
       "    <tr>\n",
       "      <th>28</th>\n",
       "      <td>섹스 24시 편의점: 카드 말고 다른 거 넣어주세요</td>\n",
       "      <td>2021</td>\n",
       "      <td>일본</td>\n",
       "      <td>장편</td>\n",
       "      <td>드라마</td>\n",
       "      <td>개봉</td>\n",
       "      <td>NaN</td>\n",
       "      <td>NaN</td>\n",
       "      <td>2021-09-30</td>\n",
       "      <td>100000</td>\n",
       "      <td>0.000</td>\n",
       "      <td>20</td>\n",
       "      <td>20</td>\n",
       "      <td>1</td>\n",
       "      <td>1</td>\n",
       "      <td>일본</td>\n",
       "      <td>일본</td>\n",
       "      <td>청소년관람불가</td>\n",
       "      <td>750</td>\n",
       "    </tr>\n",
       "    <tr>\n",
       "      <th>30</th>\n",
       "      <td>맨디 : 귀신들린 인형</td>\n",
       "      <td>2018</td>\n",
       "      <td>영국</td>\n",
       "      <td>장편</td>\n",
       "      <td>공포(호러)</td>\n",
       "      <td>개봉</td>\n",
       "      <td>제이미 웨스턴</td>\n",
       "      <td>NaN</td>\n",
       "      <td>2021-09-28</td>\n",
       "      <td>2000</td>\n",
       "      <td>0.000</td>\n",
       "      <td>2</td>\n",
       "      <td>2</td>\n",
       "      <td>2</td>\n",
       "      <td>2</td>\n",
       "      <td>영국</td>\n",
       "      <td>영국</td>\n",
       "      <td>15세이상관람가</td>\n",
       "      <td>750</td>\n",
       "    </tr>\n",
       "    <tr>\n",
       "      <th>31</th>\n",
       "      <td>마녀의 저주</td>\n",
       "      <td>2018</td>\n",
       "      <td>미국</td>\n",
       "      <td>장편</td>\n",
       "      <td>공포(호러)</td>\n",
       "      <td>개봉</td>\n",
       "      <td>에디 렝겔</td>\n",
       "      <td>NaN</td>\n",
       "      <td>2021-09-28</td>\n",
       "      <td>2000</td>\n",
       "      <td>0.000</td>\n",
       "      <td>2</td>\n",
       "      <td>2</td>\n",
       "      <td>2</td>\n",
       "      <td>2</td>\n",
       "      <td>미국</td>\n",
       "      <td>미국</td>\n",
       "      <td>15세이상관람가</td>\n",
       "      <td>750</td>\n",
       "    </tr>\n",
       "    <tr>\n",
       "      <th>32</th>\n",
       "      <td>내 여자친구의 동생 무삭제</td>\n",
       "      <td>2020</td>\n",
       "      <td>한국</td>\n",
       "      <td>장편</td>\n",
       "      <td>멜로/로맨스</td>\n",
       "      <td>개봉</td>\n",
       "      <td>한대위</td>\n",
       "      <td>(주)영화사가을</td>\n",
       "      <td>2021-09-26</td>\n",
       "      <td>6000</td>\n",
       "      <td>0.000</td>\n",
       "      <td>1</td>\n",
       "      <td>1</td>\n",
       "      <td>1</td>\n",
       "      <td>1</td>\n",
       "      <td>한국</td>\n",
       "      <td>한국</td>\n",
       "      <td>청소년관람불가</td>\n",
       "      <td>750</td>\n",
       "    </tr>\n",
       "    <tr>\n",
       "      <th>33</th>\n",
       "      <td>완벽한 타인과의 섹스경험담</td>\n",
       "      <td>2021</td>\n",
       "      <td>한국</td>\n",
       "      <td>장편</td>\n",
       "      <td>드라마</td>\n",
       "      <td>개봉</td>\n",
       "      <td>이로운</td>\n",
       "      <td>비스킷미디어</td>\n",
       "      <td>2021-09-10</td>\n",
       "      <td>100000</td>\n",
       "      <td>0.000</td>\n",
       "      <td>20</td>\n",
       "      <td>20</td>\n",
       "      <td>1</td>\n",
       "      <td>1</td>\n",
       "      <td>한국</td>\n",
       "      <td>한국</td>\n",
       "      <td>청소년관람불가</td>\n",
       "      <td>750</td>\n",
       "    </tr>\n",
       "    <tr>\n",
       "      <th>34</th>\n",
       "      <td>원나잇 라디오</td>\n",
       "      <td>2021</td>\n",
       "      <td>한국</td>\n",
       "      <td>장편</td>\n",
       "      <td>드라마</td>\n",
       "      <td>개봉</td>\n",
       "      <td>이로운</td>\n",
       "      <td>비스킷미디어</td>\n",
       "      <td>2021-09-08</td>\n",
       "      <td>100000</td>\n",
       "      <td>0.000</td>\n",
       "      <td>20</td>\n",
       "      <td>20</td>\n",
       "      <td>1</td>\n",
       "      <td>1</td>\n",
       "      <td>한국</td>\n",
       "      <td>한국</td>\n",
       "      <td>청소년관람불가</td>\n",
       "      <td>750</td>\n",
       "    </tr>\n",
       "    <tr>\n",
       "      <th>35</th>\n",
       "      <td>세 며느리와 시아버지</td>\n",
       "      <td>2021</td>\n",
       "      <td>한국</td>\n",
       "      <td>장편</td>\n",
       "      <td>드라마</td>\n",
       "      <td>개봉</td>\n",
       "      <td>이로운</td>\n",
       "      <td>비스킷미디어</td>\n",
       "      <td>2021-09-03</td>\n",
       "      <td>100000</td>\n",
       "      <td>0.000</td>\n",
       "      <td>20</td>\n",
       "      <td>20</td>\n",
       "      <td>1</td>\n",
       "      <td>1</td>\n",
       "      <td>한국</td>\n",
       "      <td>한국</td>\n",
       "      <td>청소년관람불가</td>\n",
       "      <td>750</td>\n",
       "    </tr>\n",
       "  </tbody>\n",
       "</table>\n",
       "</div>"
      ],
      "text/plain": [
       "                             영화명  제작연도 제작국가  유형      장르 제작상태        감독  \\\n",
       "25                      디스 아메리카노  2021   한국  장편     드라마   개봉       권유주   \n",
       "26             극장판 귀멸의 칼날: 무한열차편  2020   일본  장편   애니메이션   개봉  소토자키 하루오   \n",
       "27                       젖 큰 자매들  2021   한국  장편  멜로/로맨스   개봉       김모리   \n",
       "28  섹스 24시 편의점: 카드 말고 다른 거 넣어주세요  2021   일본  장편     드라마   개봉       NaN   \n",
       "30                  맨디 : 귀신들린 인형  2018   영국  장편  공포(호러)   개봉   제이미 웨스턴   \n",
       "31                        마녀의 저주  2018   미국  장편  공포(호러)   개봉     에디 렝겔   \n",
       "32                내 여자친구의 동생 무삭제  2020   한국  장편  멜로/로맨스   개봉       한대위   \n",
       "33                완벽한 타인과의 섹스경험담  2021   한국  장편     드라마   개봉       이로운   \n",
       "34                       원나잇 라디오  2021   한국  장편     드라마   개봉       이로운   \n",
       "35                   세 며느리와 시아버지  2021   한국  장편     드라마   개봉       이로운   \n",
       "\n",
       "                     제작사        개봉일         매출액   매출액점유율     관객수    누적관객수   \\\n",
       "25             주식회사 씨엠닉스 2021-09-10        64000   0.000       22       22   \n",
       "26                   NaN 2021-01-27  20656041700   0.054  2151861  2151861   \n",
       "27  영화사 레드카펫,주식회사 루믹스미디어 2021-09-30         1000   0.000        1        1   \n",
       "28                   NaN 2021-09-30       100000   0.000       20       20   \n",
       "30                   NaN 2021-09-28         2000   0.000        2        2   \n",
       "31                   NaN 2021-09-28         2000   0.000        2        2   \n",
       "32              (주)영화사가을 2021-09-26         6000   0.000        1        1   \n",
       "33                비스킷미디어 2021-09-10       100000   0.000       20       20   \n",
       "34                비스킷미디어 2021-09-08       100000   0.000       20       20   \n",
       "35                비스킷미디어 2021-09-03       100000   0.000       20       20   \n",
       "\n",
       "    스크린수    상영횟수  대표국적  국적        등급   인덱스  \n",
       "25      1      20    한국  한국  15세이상관람가  750  \n",
       "26    900  151898    일본  일본  15세이상관람가  750  \n",
       "27      1       1    한국  한국   청소년관람불가  750  \n",
       "28      1       1    일본  일본   청소년관람불가  750  \n",
       "30      2       2    영국  영국  15세이상관람가  750  \n",
       "31      2       2    미국  미국  15세이상관람가  750  \n",
       "32      1       1    한국  한국   청소년관람불가  750  \n",
       "33      1       1    한국  한국   청소년관람불가  750  \n",
       "34      1       1    한국  한국   청소년관람불가  750  \n",
       "35      1       1    한국  한국   청소년관람불가  750  "
      ]
     },
     "execution_count": 172,
     "metadata": {},
     "output_type": "execute_result"
    }
   ],
   "source": [
    "s2021[25:35]"
   ]
  },
  {
   "cell_type": "code",
   "execution_count": 173,
   "metadata": {},
   "outputs": [
    {
     "data": {
      "text/plain": [
       "750"
      ]
     },
     "execution_count": 173,
     "metadata": {},
     "output_type": "execute_result"
    }
   ],
   "source": [
    "len(s2021)"
   ]
  },
  {
   "cell_type": "code",
   "execution_count": 80,
   "metadata": {},
   "outputs": [],
   "source": [
    "url='https://movie.naver.com/'\n",
    "browser.get(url)\n",
    "element=browser.find_element_by_id('ipt_tx_srch')\n",
    "moviename=s2021['영화명'][99]\n",
    "element.send_keys(moviename)\n",
    "element2=browser.find_element_by_class_name('btn_srch')\n",
    "element2.click()\n",
    "browser.implicitly_wait(3)\n",
    "browser.find_element_by_partial_link_text(moviename).click()\n",
    "net_score=[]\n",
    "spec_score=[]\n",
    "score1=browser.find_element_by_css_selector('div.netizen_score > div > div > em').text\n",
    "score2=browser.find_element_by_css_selector('div.special_score > div > div > em').text\n",
    "net_score.append(score1)\n",
    "spec_score.append(score2)"
   ]
  },
  {
   "cell_type": "code",
   "execution_count": 81,
   "metadata": {},
   "outputs": [
    {
     "data": {
      "text/plain": [
       "(['7.79'], ['5.50'])"
      ]
     },
     "execution_count": 81,
     "metadata": {},
     "output_type": "execute_result"
    }
   ],
   "source": [
    "net_score, spec_score"
   ]
  },
  {
   "cell_type": "code",
   "execution_count": 110,
   "metadata": {},
   "outputs": [
    {
     "ename": "KeyError",
     "evalue": "29",
     "output_type": "error",
     "traceback": [
      "\u001b[1;31m---------------------------------------------------------------------------\u001b[0m",
      "\u001b[1;31mKeyError\u001b[0m                                  Traceback (most recent call last)",
      "\u001b[1;32mC:\\anaconda\\lib\\site-packages\\pandas\\core\\indexes\\base.py\u001b[0m in \u001b[0;36mget_loc\u001b[1;34m(self, key, method, tolerance)\u001b[0m\n\u001b[0;32m   2894\u001b[0m             \u001b[1;32mtry\u001b[0m\u001b[1;33m:\u001b[0m\u001b[1;33m\u001b[0m\u001b[1;33m\u001b[0m\u001b[0m\n\u001b[1;32m-> 2895\u001b[1;33m                 \u001b[1;32mreturn\u001b[0m \u001b[0mself\u001b[0m\u001b[1;33m.\u001b[0m\u001b[0m_engine\u001b[0m\u001b[1;33m.\u001b[0m\u001b[0mget_loc\u001b[0m\u001b[1;33m(\u001b[0m\u001b[0mcasted_key\u001b[0m\u001b[1;33m)\u001b[0m\u001b[1;33m\u001b[0m\u001b[1;33m\u001b[0m\u001b[0m\n\u001b[0m\u001b[0;32m   2896\u001b[0m             \u001b[1;32mexcept\u001b[0m \u001b[0mKeyError\u001b[0m \u001b[1;32mas\u001b[0m \u001b[0merr\u001b[0m\u001b[1;33m:\u001b[0m\u001b[1;33m\u001b[0m\u001b[1;33m\u001b[0m\u001b[0m\n",
      "\u001b[1;32mpandas\\_libs\\index.pyx\u001b[0m in \u001b[0;36mpandas._libs.index.IndexEngine.get_loc\u001b[1;34m()\u001b[0m\n",
      "\u001b[1;32mpandas\\_libs\\index.pyx\u001b[0m in \u001b[0;36mpandas._libs.index.IndexEngine.get_loc\u001b[1;34m()\u001b[0m\n",
      "\u001b[1;32mpandas\\_libs\\hashtable_class_helper.pxi\u001b[0m in \u001b[0;36mpandas._libs.hashtable.Int64HashTable.get_item\u001b[1;34m()\u001b[0m\n",
      "\u001b[1;32mpandas\\_libs\\hashtable_class_helper.pxi\u001b[0m in \u001b[0;36mpandas._libs.hashtable.Int64HashTable.get_item\u001b[1;34m()\u001b[0m\n",
      "\u001b[1;31mKeyError\u001b[0m: 29",
      "\nThe above exception was the direct cause of the following exception:\n",
      "\u001b[1;31mKeyError\u001b[0m                                  Traceback (most recent call last)",
      "\u001b[1;32m<ipython-input-110-94536b2d948c>\u001b[0m in \u001b[0;36m<module>\u001b[1;34m\u001b[0m\n\u001b[0;32m      2\u001b[0m \u001b[0mspec_score\u001b[0m\u001b[1;33m=\u001b[0m\u001b[1;33m[\u001b[0m\u001b[1;33m]\u001b[0m\u001b[1;33m\u001b[0m\u001b[1;33m\u001b[0m\u001b[0m\n\u001b[0;32m      3\u001b[0m \u001b[1;32mfor\u001b[0m \u001b[0mi\u001b[0m \u001b[1;32min\u001b[0m \u001b[0mrange\u001b[0m\u001b[1;33m(\u001b[0m\u001b[0mlen\u001b[0m\u001b[1;33m(\u001b[0m\u001b[0ms2021\u001b[0m\u001b[1;33m)\u001b[0m\u001b[1;33m)\u001b[0m\u001b[1;33m:\u001b[0m\u001b[1;33m\u001b[0m\u001b[1;33m\u001b[0m\u001b[0m\n\u001b[1;32m----> 4\u001b[1;33m     \u001b[0mmoviename\u001b[0m\u001b[1;33m=\u001b[0m\u001b[0ms2021\u001b[0m\u001b[1;33m[\u001b[0m\u001b[1;34m'영화명'\u001b[0m\u001b[1;33m]\u001b[0m\u001b[1;33m[\u001b[0m\u001b[0mi\u001b[0m\u001b[1;33m]\u001b[0m\u001b[1;33m\u001b[0m\u001b[1;33m\u001b[0m\u001b[0m\n\u001b[0m\u001b[0;32m      5\u001b[0m     \u001b[0murl\u001b[0m\u001b[1;33m=\u001b[0m\u001b[1;34m'https://movie.naver.com/'\u001b[0m\u001b[1;33m\u001b[0m\u001b[1;33m\u001b[0m\u001b[0m\n\u001b[0;32m      6\u001b[0m     \u001b[0mbrowser\u001b[0m\u001b[1;33m.\u001b[0m\u001b[0mget\u001b[0m\u001b[1;33m(\u001b[0m\u001b[0murl\u001b[0m\u001b[1;33m)\u001b[0m\u001b[1;33m\u001b[0m\u001b[1;33m\u001b[0m\u001b[0m\n",
      "\u001b[1;32mC:\\anaconda\\lib\\site-packages\\pandas\\core\\series.py\u001b[0m in \u001b[0;36m__getitem__\u001b[1;34m(self, key)\u001b[0m\n\u001b[0;32m    880\u001b[0m \u001b[1;33m\u001b[0m\u001b[0m\n\u001b[0;32m    881\u001b[0m         \u001b[1;32melif\u001b[0m \u001b[0mkey_is_scalar\u001b[0m\u001b[1;33m:\u001b[0m\u001b[1;33m\u001b[0m\u001b[1;33m\u001b[0m\u001b[0m\n\u001b[1;32m--> 882\u001b[1;33m             \u001b[1;32mreturn\u001b[0m \u001b[0mself\u001b[0m\u001b[1;33m.\u001b[0m\u001b[0m_get_value\u001b[0m\u001b[1;33m(\u001b[0m\u001b[0mkey\u001b[0m\u001b[1;33m)\u001b[0m\u001b[1;33m\u001b[0m\u001b[1;33m\u001b[0m\u001b[0m\n\u001b[0m\u001b[0;32m    883\u001b[0m \u001b[1;33m\u001b[0m\u001b[0m\n\u001b[0;32m    884\u001b[0m         \u001b[1;32mif\u001b[0m \u001b[0mis_hashable\u001b[0m\u001b[1;33m(\u001b[0m\u001b[0mkey\u001b[0m\u001b[1;33m)\u001b[0m\u001b[1;33m:\u001b[0m\u001b[1;33m\u001b[0m\u001b[1;33m\u001b[0m\u001b[0m\n",
      "\u001b[1;32mC:\\anaconda\\lib\\site-packages\\pandas\\core\\series.py\u001b[0m in \u001b[0;36m_get_value\u001b[1;34m(self, label, takeable)\u001b[0m\n\u001b[0;32m    987\u001b[0m \u001b[1;33m\u001b[0m\u001b[0m\n\u001b[0;32m    988\u001b[0m         \u001b[1;31m# Similar to Index.get_value, but we do not fall back to positional\u001b[0m\u001b[1;33m\u001b[0m\u001b[1;33m\u001b[0m\u001b[1;33m\u001b[0m\u001b[0m\n\u001b[1;32m--> 989\u001b[1;33m         \u001b[0mloc\u001b[0m \u001b[1;33m=\u001b[0m \u001b[0mself\u001b[0m\u001b[1;33m.\u001b[0m\u001b[0mindex\u001b[0m\u001b[1;33m.\u001b[0m\u001b[0mget_loc\u001b[0m\u001b[1;33m(\u001b[0m\u001b[0mlabel\u001b[0m\u001b[1;33m)\u001b[0m\u001b[1;33m\u001b[0m\u001b[1;33m\u001b[0m\u001b[0m\n\u001b[0m\u001b[0;32m    990\u001b[0m         \u001b[1;32mreturn\u001b[0m \u001b[0mself\u001b[0m\u001b[1;33m.\u001b[0m\u001b[0mindex\u001b[0m\u001b[1;33m.\u001b[0m\u001b[0m_get_values_for_loc\u001b[0m\u001b[1;33m(\u001b[0m\u001b[0mself\u001b[0m\u001b[1;33m,\u001b[0m \u001b[0mloc\u001b[0m\u001b[1;33m,\u001b[0m \u001b[0mlabel\u001b[0m\u001b[1;33m)\u001b[0m\u001b[1;33m\u001b[0m\u001b[1;33m\u001b[0m\u001b[0m\n\u001b[0;32m    991\u001b[0m \u001b[1;33m\u001b[0m\u001b[0m\n",
      "\u001b[1;32mC:\\anaconda\\lib\\site-packages\\pandas\\core\\indexes\\base.py\u001b[0m in \u001b[0;36mget_loc\u001b[1;34m(self, key, method, tolerance)\u001b[0m\n\u001b[0;32m   2895\u001b[0m                 \u001b[1;32mreturn\u001b[0m \u001b[0mself\u001b[0m\u001b[1;33m.\u001b[0m\u001b[0m_engine\u001b[0m\u001b[1;33m.\u001b[0m\u001b[0mget_loc\u001b[0m\u001b[1;33m(\u001b[0m\u001b[0mcasted_key\u001b[0m\u001b[1;33m)\u001b[0m\u001b[1;33m\u001b[0m\u001b[1;33m\u001b[0m\u001b[0m\n\u001b[0;32m   2896\u001b[0m             \u001b[1;32mexcept\u001b[0m \u001b[0mKeyError\u001b[0m \u001b[1;32mas\u001b[0m \u001b[0merr\u001b[0m\u001b[1;33m:\u001b[0m\u001b[1;33m\u001b[0m\u001b[1;33m\u001b[0m\u001b[0m\n\u001b[1;32m-> 2897\u001b[1;33m                 \u001b[1;32mraise\u001b[0m \u001b[0mKeyError\u001b[0m\u001b[1;33m(\u001b[0m\u001b[0mkey\u001b[0m\u001b[1;33m)\u001b[0m \u001b[1;32mfrom\u001b[0m \u001b[0merr\u001b[0m\u001b[1;33m\u001b[0m\u001b[1;33m\u001b[0m\u001b[0m\n\u001b[0m\u001b[0;32m   2898\u001b[0m \u001b[1;33m\u001b[0m\u001b[0m\n\u001b[0;32m   2899\u001b[0m         \u001b[1;32mif\u001b[0m \u001b[0mtolerance\u001b[0m \u001b[1;32mis\u001b[0m \u001b[1;32mnot\u001b[0m \u001b[1;32mNone\u001b[0m\u001b[1;33m:\u001b[0m\u001b[1;33m\u001b[0m\u001b[1;33m\u001b[0m\u001b[0m\n",
      "\u001b[1;31mKeyError\u001b[0m: 29"
     ]
    }
   ],
   "source": [
    "net_score=[]\n",
    "spec_score=[]\n",
    "for i in range(len(s2021)):\n",
    "    moviename=s2021['영화명'][i]\n",
    "    url='https://movie.naver.com/'\n",
    "    browser.get(url)\n",
    "    element=browser.find_element_by_id('ipt_tx_srch')\n",
    "    element.send_keys(moviename)\n",
    "    element2=browser.find_element_by_class_name('btn_srch')\n",
    "    element2.click()\n",
    "    browser.implicitly_wait(3)\n",
    "    element=browser.find_element_by_partial_link_text(moviename)\n",
    "    element.click()\n",
    "    score1=browser.find_element_by_css_selector('div.netizen_score > div > div > em').text\n",
    "    score2=browser.find_element_by_css_selector('div.special_score > div > div > em').text\n",
    "    net_score.append(score1) \n",
    "    spec_score.append(score2)"
   ]
  },
  {
   "cell_type": "code",
   "execution_count": 87,
   "metadata": {},
   "outputs": [
    {
     "data": {
      "text/plain": [
       "['9.56',\n",
       " '7.98',\n",
       " '6.50',\n",
       " '7.75',\n",
       " '9.36',\n",
       " '8.18',\n",
       " '7.30',\n",
       " '8.67',\n",
       " '5.81',\n",
       " '8.09',\n",
       " '5.67',\n",
       " '7.62',\n",
       " '8.87',\n",
       " '9.20',\n",
       " '8.27',\n",
       " '8.25',\n",
       " '8.52',\n",
       " '7.55',\n",
       " '7.63',\n",
       " '9.86',\n",
       " '7.66',\n",
       " '5.77',\n",
       " '8.34',\n",
       " '9.23',\n",
       " '8.00',\n",
       " '8.50',\n",
       " '9.27',\n",
       " '',\n",
       " '']"
      ]
     },
     "execution_count": 87,
     "metadata": {},
     "output_type": "execute_result"
    }
   ],
   "source": [
    "net_score"
   ]
  },
  {
   "cell_type": "code",
   "execution_count": 118,
   "metadata": {},
   "outputs": [
    {
     "ename": "NoSuchElementException",
     "evalue": "Message: no such element: Unable to locate element: {\"method\":\"partial link text\",\"selector\":\"새엄마4 무삭제\"}\n  (Session info: chrome=95.0.4638.69)\n",
     "output_type": "error",
     "traceback": [
      "\u001b[1;31m---------------------------------------------------------------------------\u001b[0m",
      "\u001b[1;31mNoSuchElementException\u001b[0m                    Traceback (most recent call last)",
      "\u001b[1;32m<ipython-input-118-994d2d5d37d6>\u001b[0m in \u001b[0;36m<module>\u001b[1;34m\u001b[0m\n\u001b[0;32m     10\u001b[0m     \u001b[0melement2\u001b[0m\u001b[1;33m.\u001b[0m\u001b[0mclick\u001b[0m\u001b[1;33m(\u001b[0m\u001b[1;33m)\u001b[0m\u001b[1;33m\u001b[0m\u001b[1;33m\u001b[0m\u001b[0m\n\u001b[0;32m     11\u001b[0m     \u001b[0mbrowser\u001b[0m\u001b[1;33m.\u001b[0m\u001b[0mimplicitly_wait\u001b[0m\u001b[1;33m(\u001b[0m\u001b[1;36m3\u001b[0m\u001b[1;33m)\u001b[0m\u001b[1;33m\u001b[0m\u001b[1;33m\u001b[0m\u001b[0m\n\u001b[1;32m---> 12\u001b[1;33m     \u001b[0melement\u001b[0m\u001b[1;33m=\u001b[0m\u001b[0mbrowser\u001b[0m\u001b[1;33m.\u001b[0m\u001b[0mfind_element_by_partial_link_text\u001b[0m\u001b[1;33m(\u001b[0m\u001b[0mmoviename\u001b[0m\u001b[1;33m)\u001b[0m\u001b[1;33m\u001b[0m\u001b[1;33m\u001b[0m\u001b[0m\n\u001b[0m\u001b[0;32m     13\u001b[0m     \u001b[1;32mtry\u001b[0m\u001b[1;33m:\u001b[0m\u001b[1;33m\u001b[0m\u001b[1;33m\u001b[0m\u001b[0m\n\u001b[0;32m     14\u001b[0m         \u001b[0melement\u001b[0m\u001b[1;33m.\u001b[0m\u001b[0mclick\u001b[0m\u001b[1;33m(\u001b[0m\u001b[1;33m)\u001b[0m\u001b[1;33m\u001b[0m\u001b[1;33m\u001b[0m\u001b[0m\n",
      "\u001b[1;32mC:\\anaconda\\lib\\site-packages\\selenium\\webdriver\\remote\\webdriver.py\u001b[0m in \u001b[0;36mfind_element_by_partial_link_text\u001b[1;34m(self, link_text)\u001b[0m\n\u001b[0;32m    460\u001b[0m             \u001b[0melement\u001b[0m \u001b[1;33m=\u001b[0m \u001b[0mdriver\u001b[0m\u001b[1;33m.\u001b[0m\u001b[0mfind_element_by_partial_link_text\u001b[0m\u001b[1;33m(\u001b[0m\u001b[1;34m'Sign'\u001b[0m\u001b[1;33m)\u001b[0m\u001b[1;33m\u001b[0m\u001b[1;33m\u001b[0m\u001b[0m\n\u001b[0;32m    461\u001b[0m         \"\"\"\n\u001b[1;32m--> 462\u001b[1;33m         \u001b[1;32mreturn\u001b[0m \u001b[0mself\u001b[0m\u001b[1;33m.\u001b[0m\u001b[0mfind_element\u001b[0m\u001b[1;33m(\u001b[0m\u001b[0mby\u001b[0m\u001b[1;33m=\u001b[0m\u001b[0mBy\u001b[0m\u001b[1;33m.\u001b[0m\u001b[0mPARTIAL_LINK_TEXT\u001b[0m\u001b[1;33m,\u001b[0m \u001b[0mvalue\u001b[0m\u001b[1;33m=\u001b[0m\u001b[0mlink_text\u001b[0m\u001b[1;33m)\u001b[0m\u001b[1;33m\u001b[0m\u001b[1;33m\u001b[0m\u001b[0m\n\u001b[0m\u001b[0;32m    463\u001b[0m \u001b[1;33m\u001b[0m\u001b[0m\n\u001b[0;32m    464\u001b[0m     \u001b[1;32mdef\u001b[0m \u001b[0mfind_elements_by_partial_link_text\u001b[0m\u001b[1;33m(\u001b[0m\u001b[0mself\u001b[0m\u001b[1;33m,\u001b[0m \u001b[0mlink_text\u001b[0m\u001b[1;33m)\u001b[0m\u001b[1;33m:\u001b[0m\u001b[1;33m\u001b[0m\u001b[1;33m\u001b[0m\u001b[0m\n",
      "\u001b[1;32mC:\\anaconda\\lib\\site-packages\\selenium\\webdriver\\remote\\webdriver.py\u001b[0m in \u001b[0;36mfind_element\u001b[1;34m(self, by, value)\u001b[0m\n\u001b[0;32m    974\u001b[0m                 \u001b[0mby\u001b[0m \u001b[1;33m=\u001b[0m \u001b[0mBy\u001b[0m\u001b[1;33m.\u001b[0m\u001b[0mCSS_SELECTOR\u001b[0m\u001b[1;33m\u001b[0m\u001b[1;33m\u001b[0m\u001b[0m\n\u001b[0;32m    975\u001b[0m                 \u001b[0mvalue\u001b[0m \u001b[1;33m=\u001b[0m \u001b[1;34m'[name=\"%s\"]'\u001b[0m \u001b[1;33m%\u001b[0m \u001b[0mvalue\u001b[0m\u001b[1;33m\u001b[0m\u001b[1;33m\u001b[0m\u001b[0m\n\u001b[1;32m--> 976\u001b[1;33m         return self.execute(Command.FIND_ELEMENT, {\n\u001b[0m\u001b[0;32m    977\u001b[0m             \u001b[1;34m'using'\u001b[0m\u001b[1;33m:\u001b[0m \u001b[0mby\u001b[0m\u001b[1;33m,\u001b[0m\u001b[1;33m\u001b[0m\u001b[1;33m\u001b[0m\u001b[0m\n\u001b[0;32m    978\u001b[0m             'value': value})['value']\n",
      "\u001b[1;32mC:\\anaconda\\lib\\site-packages\\selenium\\webdriver\\remote\\webdriver.py\u001b[0m in \u001b[0;36mexecute\u001b[1;34m(self, driver_command, params)\u001b[0m\n\u001b[0;32m    319\u001b[0m         \u001b[0mresponse\u001b[0m \u001b[1;33m=\u001b[0m \u001b[0mself\u001b[0m\u001b[1;33m.\u001b[0m\u001b[0mcommand_executor\u001b[0m\u001b[1;33m.\u001b[0m\u001b[0mexecute\u001b[0m\u001b[1;33m(\u001b[0m\u001b[0mdriver_command\u001b[0m\u001b[1;33m,\u001b[0m \u001b[0mparams\u001b[0m\u001b[1;33m)\u001b[0m\u001b[1;33m\u001b[0m\u001b[1;33m\u001b[0m\u001b[0m\n\u001b[0;32m    320\u001b[0m         \u001b[1;32mif\u001b[0m \u001b[0mresponse\u001b[0m\u001b[1;33m:\u001b[0m\u001b[1;33m\u001b[0m\u001b[1;33m\u001b[0m\u001b[0m\n\u001b[1;32m--> 321\u001b[1;33m             \u001b[0mself\u001b[0m\u001b[1;33m.\u001b[0m\u001b[0merror_handler\u001b[0m\u001b[1;33m.\u001b[0m\u001b[0mcheck_response\u001b[0m\u001b[1;33m(\u001b[0m\u001b[0mresponse\u001b[0m\u001b[1;33m)\u001b[0m\u001b[1;33m\u001b[0m\u001b[1;33m\u001b[0m\u001b[0m\n\u001b[0m\u001b[0;32m    322\u001b[0m             response['value'] = self._unwrap_value(\n\u001b[0;32m    323\u001b[0m                 response.get('value', None))\n",
      "\u001b[1;32mC:\\anaconda\\lib\\site-packages\\selenium\\webdriver\\remote\\errorhandler.py\u001b[0m in \u001b[0;36mcheck_response\u001b[1;34m(self, response)\u001b[0m\n\u001b[0;32m    240\u001b[0m                 \u001b[0malert_text\u001b[0m \u001b[1;33m=\u001b[0m \u001b[0mvalue\u001b[0m\u001b[1;33m[\u001b[0m\u001b[1;34m'alert'\u001b[0m\u001b[1;33m]\u001b[0m\u001b[1;33m.\u001b[0m\u001b[0mget\u001b[0m\u001b[1;33m(\u001b[0m\u001b[1;34m'text'\u001b[0m\u001b[1;33m)\u001b[0m\u001b[1;33m\u001b[0m\u001b[1;33m\u001b[0m\u001b[0m\n\u001b[0;32m    241\u001b[0m             \u001b[1;32mraise\u001b[0m \u001b[0mexception_class\u001b[0m\u001b[1;33m(\u001b[0m\u001b[0mmessage\u001b[0m\u001b[1;33m,\u001b[0m \u001b[0mscreen\u001b[0m\u001b[1;33m,\u001b[0m \u001b[0mstacktrace\u001b[0m\u001b[1;33m,\u001b[0m \u001b[0malert_text\u001b[0m\u001b[1;33m)\u001b[0m\u001b[1;33m\u001b[0m\u001b[1;33m\u001b[0m\u001b[0m\n\u001b[1;32m--> 242\u001b[1;33m         \u001b[1;32mraise\u001b[0m \u001b[0mexception_class\u001b[0m\u001b[1;33m(\u001b[0m\u001b[0mmessage\u001b[0m\u001b[1;33m,\u001b[0m \u001b[0mscreen\u001b[0m\u001b[1;33m,\u001b[0m \u001b[0mstacktrace\u001b[0m\u001b[1;33m)\u001b[0m\u001b[1;33m\u001b[0m\u001b[1;33m\u001b[0m\u001b[0m\n\u001b[0m\u001b[0;32m    243\u001b[0m \u001b[1;33m\u001b[0m\u001b[0m\n\u001b[0;32m    244\u001b[0m     \u001b[1;32mdef\u001b[0m \u001b[0m_value_or_default\u001b[0m\u001b[1;33m(\u001b[0m\u001b[0mself\u001b[0m\u001b[1;33m,\u001b[0m \u001b[0mobj\u001b[0m\u001b[1;33m,\u001b[0m \u001b[0mkey\u001b[0m\u001b[1;33m,\u001b[0m \u001b[0mdefault\u001b[0m\u001b[1;33m)\u001b[0m\u001b[1;33m:\u001b[0m\u001b[1;33m\u001b[0m\u001b[1;33m\u001b[0m\u001b[0m\n",
      "\u001b[1;31mNoSuchElementException\u001b[0m: Message: no such element: Unable to locate element: {\"method\":\"partial link text\",\"selector\":\"새엄마4 무삭제\"}\n  (Session info: chrome=95.0.4638.69)\n"
     ]
    }
   ],
   "source": [
    "net_score=[]\n",
    "spec_score=[]\n",
    "for i in range(len(s2021)):\n",
    "    moviename=s2021['영화명'][i]\n",
    "    url='https://movie.naver.com/'\n",
    "    browser.get(url)\n",
    "    element=browser.find_element_by_id('ipt_tx_srch')\n",
    "    element.send_keys(moviename)\n",
    "    element2=browser.find_element_by_class_name('btn_srch')\n",
    "    element2.click()\n",
    "    browser.implicitly_wait(3)\n",
    "    element=browser.find_element_by_partial_link_text(moviename)\n",
    "    try:\n",
    "        element.click()\n",
    "        score1=browser.find_element_by_css_selector('div.netizen_score > div > div > em').text\n",
    "        score2=browser.find_element_by_css_selector('div.special_score > div > div > em').text\n",
    "        net_score.append(score1)\n",
    "        spec_score.append(score2)\n",
    "    except :\n",
    "        pass"
   ]
  },
  {
   "cell_type": "code",
   "execution_count": 119,
   "metadata": {},
   "outputs": [
    {
     "name": "stdout",
     "output_type": "stream",
     "text": [
      "wrong division\n"
     ]
    }
   ],
   "source": [
    "try:\n",
    "    print(5/0)\n",
    "except:\n",
    "    print('wrong division')"
   ]
  },
  {
   "cell_type": "code",
   "execution_count": null,
   "metadata": {},
   "outputs": [],
   "source": []
  }
 ],
 "metadata": {
  "kernelspec": {
   "display_name": "Python 3",
   "language": "python",
   "name": "python3"
  },
  "language_info": {
   "codemirror_mode": {
    "name": "ipython",
    "version": 3
   },
   "file_extension": ".py",
   "mimetype": "text/x-python",
   "name": "python",
   "nbconvert_exporter": "python",
   "pygments_lexer": "ipython3",
   "version": "3.8.5"
  }
 },
 "nbformat": 4,
 "nbformat_minor": 4
}
