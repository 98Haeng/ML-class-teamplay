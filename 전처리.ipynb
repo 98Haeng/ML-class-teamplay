{
 "cells": [
  {
   "cell_type": "code",
   "execution_count": 1,
   "metadata": {},
   "outputs": [],
   "source": [
    "# 라이브러리\n",
    "import pandas as pd\n",
    "import numpy as np"
   ]
  },
  {
   "cell_type": "code",
   "execution_count": 2,
   "metadata": {},
   "outputs": [],
   "source": [
    "movies2021=pd.read_excel('2021년 개봉 영화.xls')"
   ]
  },
  {
   "cell_type": "code",
   "execution_count": 3,
   "metadata": {},
   "outputs": [
    {
     "data": {
      "text/html": [
       "<div>\n",
       "<style scoped>\n",
       "    .dataframe tbody tr th:only-of-type {\n",
       "        vertical-align: middle;\n",
       "    }\n",
       "\n",
       "    .dataframe tbody tr th {\n",
       "        vertical-align: top;\n",
       "    }\n",
       "\n",
       "    .dataframe thead th {\n",
       "        text-align: right;\n",
       "    }\n",
       "</style>\n",
       "<table border=\"1\" class=\"dataframe\">\n",
       "  <thead>\n",
       "    <tr style=\"text-align: right;\">\n",
       "      <th></th>\n",
       "      <th>영화명</th>\n",
       "      <th>영화명(영문)</th>\n",
       "      <th>제작연도</th>\n",
       "      <th>제작국가</th>\n",
       "      <th>유형</th>\n",
       "      <th>장르</th>\n",
       "      <th>제작상태</th>\n",
       "      <th>감독</th>\n",
       "      <th>제작사</th>\n",
       "    </tr>\n",
       "  </thead>\n",
       "  <tbody>\n",
       "    <tr>\n",
       "      <th>0</th>\n",
       "      <td>박강아름 결혼하다</td>\n",
       "      <td>Areum Married</td>\n",
       "      <td>2019</td>\n",
       "      <td>한국</td>\n",
       "      <td>장편</td>\n",
       "      <td>다큐멘터리</td>\n",
       "      <td>개봉</td>\n",
       "      <td>박강아름</td>\n",
       "      <td>창작집단3355 (A.3355)</td>\n",
       "    </tr>\n",
       "    <tr>\n",
       "      <th>1</th>\n",
       "      <td>액션히어로</td>\n",
       "      <td>ActionHero</td>\n",
       "      <td>2021</td>\n",
       "      <td>한국</td>\n",
       "      <td>장편</td>\n",
       "      <td>액션,코미디</td>\n",
       "      <td>개봉</td>\n",
       "      <td>이진호</td>\n",
       "      <td>한국예술종합학교 산학협력단</td>\n",
       "    </tr>\n",
       "    <tr>\n",
       "      <th>2</th>\n",
       "      <td>정말 먼 곳</td>\n",
       "      <td>A Distant Place</td>\n",
       "      <td>2020</td>\n",
       "      <td>한국</td>\n",
       "      <td>장편</td>\n",
       "      <td>드라마</td>\n",
       "      <td>개봉</td>\n",
       "      <td>박근영</td>\n",
       "      <td>봄내필름</td>\n",
       "    </tr>\n",
       "  </tbody>\n",
       "</table>\n",
       "</div>"
      ],
      "text/plain": [
       "         영화명          영화명(영문)  제작연도 제작국가  유형      장르 제작상태    감독  \\\n",
       "0  박강아름 결혼하다   Areum Married   2019   한국  장편   다큐멘터리   개봉  박강아름   \n",
       "1      액션히어로       ActionHero  2021   한국  장편  액션,코미디   개봉   이진호   \n",
       "2     정말 먼 곳  A Distant Place  2020   한국  장편     드라마   개봉   박근영   \n",
       "\n",
       "                 제작사  \n",
       "0  창작집단3355 (A.3355)  \n",
       "1     한국예술종합학교 산학협력단  \n",
       "2               봄내필름  "
      ]
     },
     "execution_count": 3,
     "metadata": {},
     "output_type": "execute_result"
    }
   ],
   "source": [
    "movies2021.head(3)"
   ]
  },
  {
   "cell_type": "code",
   "execution_count": 4,
   "metadata": {},
   "outputs": [],
   "source": [
    "box2021=pd.read_excel('2021년 박스오피스.xls')"
   ]
  },
  {
   "cell_type": "code",
   "execution_count": 5,
   "metadata": {},
   "outputs": [
    {
     "data": {
      "text/html": [
       "<div>\n",
       "<style scoped>\n",
       "    .dataframe tbody tr th:only-of-type {\n",
       "        vertical-align: middle;\n",
       "    }\n",
       "\n",
       "    .dataframe tbody tr th {\n",
       "        vertical-align: top;\n",
       "    }\n",
       "\n",
       "    .dataframe thead th {\n",
       "        text-align: right;\n",
       "    }\n",
       "</style>\n",
       "<table border=\"1\" class=\"dataframe\">\n",
       "  <thead>\n",
       "    <tr style=\"text-align: right;\">\n",
       "      <th></th>\n",
       "      <th>순위</th>\n",
       "      <th>영화명</th>\n",
       "      <th>개봉일</th>\n",
       "      <th>매출액</th>\n",
       "      <th>매출액</th>\n",
       "      <th>누적매출액</th>\n",
       "      <th>관객수</th>\n",
       "      <th>누적관객수</th>\n",
       "      <th>스크린수</th>\n",
       "      <th>상영횟수</th>\n",
       "      <th>대표국적</th>\n",
       "      <th>국적</th>\n",
       "      <th>제작사</th>\n",
       "      <th>배급사</th>\n",
       "      <th>등급</th>\n",
       "      <th>장르</th>\n",
       "      <th>감독</th>\n",
       "      <th>배우</th>\n",
       "    </tr>\n",
       "  </thead>\n",
       "  <tbody>\n",
       "    <tr>\n",
       "      <th>1</th>\n",
       "      <td>1</td>\n",
       "      <td>모가디슈</td>\n",
       "      <td>2021-07-28</td>\n",
       "      <td>3.419462e+10</td>\n",
       "      <td>0.089</td>\n",
       "      <td>3.419462e+10</td>\n",
       "      <td>3574448.0</td>\n",
       "      <td>3574448.0</td>\n",
       "      <td>1688.0</td>\n",
       "      <td>205723.0</td>\n",
       "      <td>한국</td>\n",
       "      <td>한국</td>\n",
       "      <td>(주)덱스터스튜디오,(주)외유내강,(주)필름케이</td>\n",
       "      <td>롯데컬처웍스(주)롯데엔터테인먼트</td>\n",
       "      <td>15세이상관람가</td>\n",
       "      <td>액션,드라마</td>\n",
       "      <td>류승완</td>\n",
       "      <td>김윤석,조인성,허준호,구교환,김소진,정만식,김재화,박경혜,박명신,한철우,주보비,안세...</td>\n",
       "    </tr>\n",
       "    <tr>\n",
       "      <th>2</th>\n",
       "      <td>2</td>\n",
       "      <td>블랙 위도우</td>\n",
       "      <td>2021-07-07</td>\n",
       "      <td>2.999113e+10</td>\n",
       "      <td>0.078</td>\n",
       "      <td>2.999113e+10</td>\n",
       "      <td>2961678.0</td>\n",
       "      <td>2961678.0</td>\n",
       "      <td>2528.0</td>\n",
       "      <td>154982.0</td>\n",
       "      <td>미국</td>\n",
       "      <td>미국</td>\n",
       "      <td>NaN</td>\n",
       "      <td>월트디즈니컴퍼니코리아 유한책임회사</td>\n",
       "      <td>12세이상관람가</td>\n",
       "      <td>액션,어드벤처,SF</td>\n",
       "      <td>케이트 쇼트랜드</td>\n",
       "      <td>스칼렛 요한슨,플로렌스 퓨,레이첼 와이즈,데이빗 하버</td>\n",
       "    </tr>\n",
       "    <tr>\n",
       "      <th>3</th>\n",
       "      <td>3</td>\n",
       "      <td>분노의 질주: 더 얼티메이트</td>\n",
       "      <td>2021-05-19</td>\n",
       "      <td>2.205965e+10</td>\n",
       "      <td>0.058</td>\n",
       "      <td>2.205965e+10</td>\n",
       "      <td>2292413.0</td>\n",
       "      <td>2292413.0</td>\n",
       "      <td>2297.0</td>\n",
       "      <td>131856.0</td>\n",
       "      <td>미국</td>\n",
       "      <td>미국</td>\n",
       "      <td>NaN</td>\n",
       "      <td>유니버설픽쳐스인터내셔널 코리아(유)</td>\n",
       "      <td>12세이상관람가</td>\n",
       "      <td>액션</td>\n",
       "      <td>저스틴 린</td>\n",
       "      <td>빈 디젤,존 시나,성 강,샤를리즈 테론,미셸 로드리게즈,조다나 브루스터,헬렌 미렌</td>\n",
       "    </tr>\n",
       "  </tbody>\n",
       "</table>\n",
       "</div>"
      ],
      "text/plain": [
       "  순위              영화명        개봉일          매출액     매출액        누적매출액   \\\n",
       "1  1             모가디슈 2021-07-28  3.419462e+10  0.089  3.419462e+10   \n",
       "2  2           블랙 위도우 2021-07-07  2.999113e+10  0.078  2.999113e+10   \n",
       "3  3  분노의 질주: 더 얼티메이트 2021-05-19  2.205965e+10  0.058  2.205965e+10   \n",
       "\n",
       "        관객수      누적관객수    스크린수      상영횟수  대표국적  국적   \\\n",
       "1  3574448.0  3574448.0  1688.0  205723.0    한국  한국   \n",
       "2  2961678.0  2961678.0  2528.0  154982.0    미국  미국   \n",
       "3  2292413.0  2292413.0  2297.0  131856.0    미국  미국   \n",
       "\n",
       "                         제작사                  배급사        등급          장르   \\\n",
       "1  (주)덱스터스튜디오,(주)외유내강,(주)필름케이    롯데컬처웍스(주)롯데엔터테인먼트  15세이상관람가      액션,드라마   \n",
       "2                         NaN   월트디즈니컴퍼니코리아 유한책임회사  12세이상관람가  액션,어드벤처,SF   \n",
       "3                         NaN  유니버설픽쳐스인터내셔널 코리아(유)  12세이상관람가          액션   \n",
       "\n",
       "        감독                                                 배우   \n",
       "1       류승완  김윤석,조인성,허준호,구교환,김소진,정만식,김재화,박경혜,박명신,한철우,주보비,안세...  \n",
       "2  케이트 쇼트랜드                      스칼렛 요한슨,플로렌스 퓨,레이첼 와이즈,데이빗 하버  \n",
       "3     저스틴 린      빈 디젤,존 시나,성 강,샤를리즈 테론,미셸 로드리게즈,조다나 브루스터,헬렌 미렌  "
      ]
     },
     "execution_count": 5,
     "metadata": {},
     "output_type": "execute_result"
    }
   ],
   "source": [
    "box2021.drop(index=0,inplace=True)\n",
    "box2021.head(3)"
   ]
  },
  {
   "cell_type": "code",
   "execution_count": 6,
   "metadata": {},
   "outputs": [],
   "source": [
    "box2021.rename(columns={'매출액' : '매출액점유율'},inplace=True)"
   ]
  },
  {
   "cell_type": "code",
   "execution_count": 7,
   "metadata": {},
   "outputs": [
    {
     "data": {
      "text/plain": [
       "Index(['순위', '영화명', '개봉일', '매출액 ', '매출액점유율', '누적매출액 ', '관객수 ', '누적관객수 ',\n",
       "       '스크린수 ', '상영횟수 ', '대표국적 ', '국적 ', '제작사 ', '배급사 ', '등급 ', '장르 ', '감독 ',\n",
       "       '배우 '],\n",
       "      dtype='object')"
      ]
     },
     "execution_count": 7,
     "metadata": {},
     "output_type": "execute_result"
    }
   ],
   "source": [
    "box2021.columns"
   ]
  },
  {
   "cell_type": "code",
   "execution_count": 8,
   "metadata": {},
   "outputs": [],
   "source": [
    "box2021=box2021.drop(['순위','누적매출액 ','제작사 ','배급사 ','감독 ','배우 '],axis=1)"
   ]
  },
  {
   "cell_type": "code",
   "execution_count": 9,
   "metadata": {},
   "outputs": [
    {
     "data": {
      "text/html": [
       "<div>\n",
       "<style scoped>\n",
       "    .dataframe tbody tr th:only-of-type {\n",
       "        vertical-align: middle;\n",
       "    }\n",
       "\n",
       "    .dataframe tbody tr th {\n",
       "        vertical-align: top;\n",
       "    }\n",
       "\n",
       "    .dataframe thead th {\n",
       "        text-align: right;\n",
       "    }\n",
       "</style>\n",
       "<table border=\"1\" class=\"dataframe\">\n",
       "  <thead>\n",
       "    <tr style=\"text-align: right;\">\n",
       "      <th></th>\n",
       "      <th>영화명</th>\n",
       "      <th>개봉일</th>\n",
       "      <th>매출액</th>\n",
       "      <th>매출액점유율</th>\n",
       "      <th>관객수</th>\n",
       "      <th>누적관객수</th>\n",
       "      <th>스크린수</th>\n",
       "      <th>상영횟수</th>\n",
       "      <th>대표국적</th>\n",
       "      <th>국적</th>\n",
       "      <th>등급</th>\n",
       "      <th>장르</th>\n",
       "    </tr>\n",
       "  </thead>\n",
       "  <tbody>\n",
       "    <tr>\n",
       "      <th>1</th>\n",
       "      <td>모가디슈</td>\n",
       "      <td>2021-07-28</td>\n",
       "      <td>3.419462e+10</td>\n",
       "      <td>0.089</td>\n",
       "      <td>3574448.0</td>\n",
       "      <td>3574448.0</td>\n",
       "      <td>1688.0</td>\n",
       "      <td>205723.0</td>\n",
       "      <td>한국</td>\n",
       "      <td>한국</td>\n",
       "      <td>15세이상관람가</td>\n",
       "      <td>액션,드라마</td>\n",
       "    </tr>\n",
       "    <tr>\n",
       "      <th>2</th>\n",
       "      <td>블랙 위도우</td>\n",
       "      <td>2021-07-07</td>\n",
       "      <td>2.999113e+10</td>\n",
       "      <td>0.078</td>\n",
       "      <td>2961678.0</td>\n",
       "      <td>2961678.0</td>\n",
       "      <td>2528.0</td>\n",
       "      <td>154982.0</td>\n",
       "      <td>미국</td>\n",
       "      <td>미국</td>\n",
       "      <td>12세이상관람가</td>\n",
       "      <td>액션,어드벤처,SF</td>\n",
       "    </tr>\n",
       "    <tr>\n",
       "      <th>3</th>\n",
       "      <td>분노의 질주: 더 얼티메이트</td>\n",
       "      <td>2021-05-19</td>\n",
       "      <td>2.205965e+10</td>\n",
       "      <td>0.058</td>\n",
       "      <td>2292413.0</td>\n",
       "      <td>2292413.0</td>\n",
       "      <td>2297.0</td>\n",
       "      <td>131856.0</td>\n",
       "      <td>미국</td>\n",
       "      <td>미국</td>\n",
       "      <td>12세이상관람가</td>\n",
       "      <td>액션</td>\n",
       "    </tr>\n",
       "  </tbody>\n",
       "</table>\n",
       "</div>"
      ],
      "text/plain": [
       "               영화명        개봉일          매출액  매출액점유율       관객수      누적관객수   \\\n",
       "1             모가디슈 2021-07-28  3.419462e+10  0.089  3574448.0  3574448.0   \n",
       "2           블랙 위도우 2021-07-07  2.999113e+10  0.078  2961678.0  2961678.0   \n",
       "3  분노의 질주: 더 얼티메이트 2021-05-19  2.205965e+10  0.058  2292413.0  2292413.0   \n",
       "\n",
       "    스크린수      상영횟수  대표국적  국적        등급          장르   \n",
       "1  1688.0  205723.0    한국  한국  15세이상관람가      액션,드라마  \n",
       "2  2528.0  154982.0    미국  미국  12세이상관람가  액션,어드벤처,SF  \n",
       "3  2297.0  131856.0    미국  미국  12세이상관람가          액션  "
      ]
     },
     "execution_count": 9,
     "metadata": {},
     "output_type": "execute_result"
    }
   ],
   "source": [
    "box2021.head(3)"
   ]
  },
  {
   "cell_type": "code",
   "execution_count": 10,
   "metadata": {},
   "outputs": [
    {
     "data": {
      "text/html": [
       "<div>\n",
       "<style scoped>\n",
       "    .dataframe tbody tr th:only-of-type {\n",
       "        vertical-align: middle;\n",
       "    }\n",
       "\n",
       "    .dataframe tbody tr th {\n",
       "        vertical-align: top;\n",
       "    }\n",
       "\n",
       "    .dataframe thead th {\n",
       "        text-align: right;\n",
       "    }\n",
       "</style>\n",
       "<table border=\"1\" class=\"dataframe\">\n",
       "  <thead>\n",
       "    <tr style=\"text-align: right;\">\n",
       "      <th></th>\n",
       "      <th>영화명</th>\n",
       "      <th>개봉일</th>\n",
       "      <th>매출액</th>\n",
       "      <th>매출액점유율</th>\n",
       "      <th>관객수</th>\n",
       "      <th>누적관객수</th>\n",
       "      <th>스크린수</th>\n",
       "      <th>상영횟수</th>\n",
       "      <th>대표국적</th>\n",
       "      <th>국적</th>\n",
       "      <th>등급</th>\n",
       "      <th>장르</th>\n",
       "    </tr>\n",
       "  </thead>\n",
       "  <tbody>\n",
       "    <tr>\n",
       "      <th>1</th>\n",
       "      <td>모가디슈</td>\n",
       "      <td>2021-07-28</td>\n",
       "      <td>3.419462e+10</td>\n",
       "      <td>0.089</td>\n",
       "      <td>3574448.0</td>\n",
       "      <td>3574448.0</td>\n",
       "      <td>1688.0</td>\n",
       "      <td>205723.0</td>\n",
       "      <td>한국</td>\n",
       "      <td>한국</td>\n",
       "      <td>15세이상관람가</td>\n",
       "      <td>액션</td>\n",
       "    </tr>\n",
       "    <tr>\n",
       "      <th>2</th>\n",
       "      <td>블랙 위도우</td>\n",
       "      <td>2021-07-07</td>\n",
       "      <td>2.999113e+10</td>\n",
       "      <td>0.078</td>\n",
       "      <td>2961678.0</td>\n",
       "      <td>2961678.0</td>\n",
       "      <td>2528.0</td>\n",
       "      <td>154982.0</td>\n",
       "      <td>미국</td>\n",
       "      <td>미국</td>\n",
       "      <td>12세이상관람가</td>\n",
       "      <td>액션</td>\n",
       "    </tr>\n",
       "    <tr>\n",
       "      <th>3</th>\n",
       "      <td>분노의 질주: 더 얼티메이트</td>\n",
       "      <td>2021-05-19</td>\n",
       "      <td>2.205965e+10</td>\n",
       "      <td>0.058</td>\n",
       "      <td>2292413.0</td>\n",
       "      <td>2292413.0</td>\n",
       "      <td>2297.0</td>\n",
       "      <td>131856.0</td>\n",
       "      <td>미국</td>\n",
       "      <td>미국</td>\n",
       "      <td>12세이상관람가</td>\n",
       "      <td>액션</td>\n",
       "    </tr>\n",
       "  </tbody>\n",
       "</table>\n",
       "</div>"
      ],
      "text/plain": [
       "               영화명        개봉일          매출액  매출액점유율       관객수      누적관객수   \\\n",
       "1             모가디슈 2021-07-28  3.419462e+10  0.089  3574448.0  3574448.0   \n",
       "2           블랙 위도우 2021-07-07  2.999113e+10  0.078  2961678.0  2961678.0   \n",
       "3  분노의 질주: 더 얼티메이트 2021-05-19  2.205965e+10  0.058  2292413.0  2292413.0   \n",
       "\n",
       "    스크린수      상영횟수  대표국적  국적        등급   장르  \n",
       "1  1688.0  205723.0    한국  한국  15세이상관람가  액션  \n",
       "2  2528.0  154982.0    미국  미국  12세이상관람가  액션  \n",
       "3  2297.0  131856.0    미국  미국  12세이상관람가  액션  "
      ]
     },
     "execution_count": 10,
     "metadata": {},
     "output_type": "execute_result"
    }
   ],
   "source": [
    "box2021['장르']=box2021['장르 '].str.split(',').str[0]\n",
    "box2021=box2021.drop(['장르 '],axis=1)\n",
    "box2021.head(3)"
   ]
  },
  {
   "cell_type": "code",
   "execution_count": 11,
   "metadata": {},
   "outputs": [
    {
     "name": "stdout",
     "output_type": "stream",
     "text": [
      "<class 'pandas.core.frame.DataFrame'>\n",
      "Int64Index: 3620 entries, 1 to 3620\n",
      "Data columns (total 12 columns):\n",
      " #   Column  Non-Null Count  Dtype         \n",
      "---  ------  --------------  -----         \n",
      " 0   영화명     3619 non-null   object        \n",
      " 1   개봉일     2271 non-null   datetime64[ns]\n",
      " 2   매출액     3620 non-null   float64       \n",
      " 3   매출액점유율  3619 non-null   object        \n",
      " 4   관객수     3620 non-null   float64       \n",
      " 5   누적관객수   3620 non-null   float64       \n",
      " 6   스크린수    3620 non-null   float64       \n",
      " 7   상영횟수    3620 non-null   float64       \n",
      " 8   대표국적    3588 non-null   object        \n",
      " 9   국적      3588 non-null   object        \n",
      " 10  등급      2497 non-null   object        \n",
      " 11  장르      3575 non-null   object        \n",
      "dtypes: datetime64[ns](1), float64(5), object(6)\n",
      "memory usage: 367.7+ KB\n"
     ]
    }
   ],
   "source": [
    "box2021.info()"
   ]
  },
  {
   "cell_type": "code",
   "execution_count": 120,
   "metadata": {},
   "outputs": [],
   "source": [
    "s2021=pd.merge(movies2021,box2021)"
   ]
  },
  {
   "cell_type": "code",
   "execution_count": 121,
   "metadata": {},
   "outputs": [
    {
     "data": {
      "text/html": [
       "<div>\n",
       "<style scoped>\n",
       "    .dataframe tbody tr th:only-of-type {\n",
       "        vertical-align: middle;\n",
       "    }\n",
       "\n",
       "    .dataframe tbody tr th {\n",
       "        vertical-align: top;\n",
       "    }\n",
       "\n",
       "    .dataframe thead th {\n",
       "        text-align: right;\n",
       "    }\n",
       "</style>\n",
       "<table border=\"1\" class=\"dataframe\">\n",
       "  <thead>\n",
       "    <tr style=\"text-align: right;\">\n",
       "      <th></th>\n",
       "      <th>영화명</th>\n",
       "      <th>영화명(영문)</th>\n",
       "      <th>제작연도</th>\n",
       "      <th>제작국가</th>\n",
       "      <th>유형</th>\n",
       "      <th>장르</th>\n",
       "      <th>제작상태</th>\n",
       "      <th>감독</th>\n",
       "      <th>제작사</th>\n",
       "      <th>개봉일</th>\n",
       "      <th>매출액</th>\n",
       "      <th>매출액점유율</th>\n",
       "      <th>관객수</th>\n",
       "      <th>누적관객수</th>\n",
       "      <th>스크린수</th>\n",
       "      <th>상영횟수</th>\n",
       "      <th>대표국적</th>\n",
       "      <th>국적</th>\n",
       "      <th>등급</th>\n",
       "    </tr>\n",
       "  </thead>\n",
       "  <tbody>\n",
       "    <tr>\n",
       "      <th>0</th>\n",
       "      <td>박강아름 결혼하다</td>\n",
       "      <td>Areum Married</td>\n",
       "      <td>2019</td>\n",
       "      <td>한국</td>\n",
       "      <td>장편</td>\n",
       "      <td>다큐멘터리</td>\n",
       "      <td>개봉</td>\n",
       "      <td>박강아름</td>\n",
       "      <td>창작집단3355 (A.3355)</td>\n",
       "      <td>2021-08-19</td>\n",
       "      <td>2.474571e+07</td>\n",
       "      <td>0</td>\n",
       "      <td>3392.0</td>\n",
       "      <td>3482.0</td>\n",
       "      <td>32.0</td>\n",
       "      <td>413.0</td>\n",
       "      <td>한국</td>\n",
       "      <td>한국</td>\n",
       "      <td>전체관람가</td>\n",
       "    </tr>\n",
       "    <tr>\n",
       "      <th>1</th>\n",
       "      <td>정말 먼 곳</td>\n",
       "      <td>A Distant Place</td>\n",
       "      <td>2020</td>\n",
       "      <td>한국</td>\n",
       "      <td>장편</td>\n",
       "      <td>드라마</td>\n",
       "      <td>개봉</td>\n",
       "      <td>박근영</td>\n",
       "      <td>봄내필름</td>\n",
       "      <td>2021-03-18</td>\n",
       "      <td>8.429385e+07</td>\n",
       "      <td>0</td>\n",
       "      <td>10654.0</td>\n",
       "      <td>11049.0</td>\n",
       "      <td>204.0</td>\n",
       "      <td>2067.0</td>\n",
       "      <td>한국</td>\n",
       "      <td>한국</td>\n",
       "      <td>12세이상관람가</td>\n",
       "    </tr>\n",
       "    <tr>\n",
       "      <th>2</th>\n",
       "      <td>싱크홀</td>\n",
       "      <td>Sinkhole</td>\n",
       "      <td>2021</td>\n",
       "      <td>한국</td>\n",
       "      <td>장편</td>\n",
       "      <td>코미디</td>\n",
       "      <td>개봉</td>\n",
       "      <td>김지훈</td>\n",
       "      <td>(주)더타워픽쳐스</td>\n",
       "      <td>2021-08-11</td>\n",
       "      <td>2.135107e+10</td>\n",
       "      <td>0.056</td>\n",
       "      <td>2187753.0</td>\n",
       "      <td>2187753.0</td>\n",
       "      <td>1603.0</td>\n",
       "      <td>121634.0</td>\n",
       "      <td>한국</td>\n",
       "      <td>한국</td>\n",
       "      <td>12세이상관람가</td>\n",
       "    </tr>\n",
       "  </tbody>\n",
       "</table>\n",
       "</div>"
      ],
      "text/plain": [
       "         영화명          영화명(영문)  제작연도 제작국가  유형     장르 제작상태    감독  \\\n",
       "0  박강아름 결혼하다   Areum Married   2019   한국  장편  다큐멘터리   개봉  박강아름   \n",
       "1     정말 먼 곳  A Distant Place  2020   한국  장편    드라마   개봉   박근영   \n",
       "2        싱크홀         Sinkhole  2021   한국  장편    코미디   개봉   김지훈   \n",
       "\n",
       "                 제작사        개봉일          매출액  매출액점유율       관객수      누적관객수   \\\n",
       "0  창작집단3355 (A.3355) 2021-08-19  2.474571e+07      0     3392.0     3482.0   \n",
       "1               봄내필름 2021-03-18  8.429385e+07      0    10654.0    11049.0   \n",
       "2          (주)더타워픽쳐스 2021-08-11  2.135107e+10  0.056  2187753.0  2187753.0   \n",
       "\n",
       "    스크린수      상영횟수  대표국적  국적        등급   \n",
       "0    32.0     413.0    한국  한국     전체관람가  \n",
       "1   204.0    2067.0    한국  한국  12세이상관람가  \n",
       "2  1603.0  121634.0    한국  한국  12세이상관람가  "
      ]
     },
     "execution_count": 121,
     "metadata": {},
     "output_type": "execute_result"
    }
   ],
   "source": [
    "s2021.head(3)"
   ]
  },
  {
   "cell_type": "code",
   "execution_count": 117,
   "metadata": {},
   "outputs": [
    {
     "data": {
      "text/plain": [
       "((1396, 9), (3620, 12), (3620, 19))"
      ]
     },
     "execution_count": 117,
     "metadata": {},
     "output_type": "execute_result"
    }
   ],
   "source": [
    "movies2021.shape,box2021.shape,s2021.shape"
   ]
  },
  {
   "cell_type": "code",
   "execution_count": 123,
   "metadata": {},
   "outputs": [
    {
     "data": {
      "text/plain": [
       "Index(['영화명', '영화명(영문)', '제작연도', '제작국가', '유형', '장르', '제작상태', '감독', '제작사',\n",
       "       '개봉일', '매출액 ', '매출액점유율', '관객수 ', '누적관객수 ', '스크린수 ', '상영횟수 ', '대표국적 ',\n",
       "       '국적 ', '등급 '],\n",
       "      dtype='object')"
      ]
     },
     "execution_count": 123,
     "metadata": {},
     "output_type": "execute_result"
    }
   ],
   "source": [
    "s2021.columns"
   ]
  },
  {
   "cell_type": "code",
   "execution_count": 124,
   "metadata": {},
   "outputs": [
    {
     "data": {
      "text/html": [
       "<div>\n",
       "<style scoped>\n",
       "    .dataframe tbody tr th:only-of-type {\n",
       "        vertical-align: middle;\n",
       "    }\n",
       "\n",
       "    .dataframe tbody tr th {\n",
       "        vertical-align: top;\n",
       "    }\n",
       "\n",
       "    .dataframe thead th {\n",
       "        text-align: right;\n",
       "    }\n",
       "</style>\n",
       "<table border=\"1\" class=\"dataframe\">\n",
       "  <thead>\n",
       "    <tr style=\"text-align: right;\">\n",
       "      <th></th>\n",
       "      <th>영화명</th>\n",
       "      <th>제작연도</th>\n",
       "      <th>제작국가</th>\n",
       "      <th>유형</th>\n",
       "      <th>장르</th>\n",
       "      <th>제작상태</th>\n",
       "      <th>감독</th>\n",
       "      <th>제작사</th>\n",
       "      <th>개봉일</th>\n",
       "      <th>매출액</th>\n",
       "      <th>매출액점유율</th>\n",
       "      <th>관객수</th>\n",
       "      <th>누적관객수</th>\n",
       "      <th>스크린수</th>\n",
       "      <th>상영횟수</th>\n",
       "      <th>대표국적</th>\n",
       "      <th>국적</th>\n",
       "      <th>등급</th>\n",
       "    </tr>\n",
       "  </thead>\n",
       "  <tbody>\n",
       "    <tr>\n",
       "      <th>0</th>\n",
       "      <td>박강아름 결혼하다</td>\n",
       "      <td>2019</td>\n",
       "      <td>한국</td>\n",
       "      <td>장편</td>\n",
       "      <td>다큐멘터리</td>\n",
       "      <td>개봉</td>\n",
       "      <td>박강아름</td>\n",
       "      <td>창작집단3355 (A.3355)</td>\n",
       "      <td>2021-08-19</td>\n",
       "      <td>2.474571e+07</td>\n",
       "      <td>0</td>\n",
       "      <td>3392.0</td>\n",
       "      <td>3482.0</td>\n",
       "      <td>32.0</td>\n",
       "      <td>413.0</td>\n",
       "      <td>한국</td>\n",
       "      <td>한국</td>\n",
       "      <td>전체관람가</td>\n",
       "    </tr>\n",
       "    <tr>\n",
       "      <th>1</th>\n",
       "      <td>정말 먼 곳</td>\n",
       "      <td>2020</td>\n",
       "      <td>한국</td>\n",
       "      <td>장편</td>\n",
       "      <td>드라마</td>\n",
       "      <td>개봉</td>\n",
       "      <td>박근영</td>\n",
       "      <td>봄내필름</td>\n",
       "      <td>2021-03-18</td>\n",
       "      <td>8.429385e+07</td>\n",
       "      <td>0</td>\n",
       "      <td>10654.0</td>\n",
       "      <td>11049.0</td>\n",
       "      <td>204.0</td>\n",
       "      <td>2067.0</td>\n",
       "      <td>한국</td>\n",
       "      <td>한국</td>\n",
       "      <td>12세이상관람가</td>\n",
       "    </tr>\n",
       "    <tr>\n",
       "      <th>2</th>\n",
       "      <td>싱크홀</td>\n",
       "      <td>2021</td>\n",
       "      <td>한국</td>\n",
       "      <td>장편</td>\n",
       "      <td>코미디</td>\n",
       "      <td>개봉</td>\n",
       "      <td>김지훈</td>\n",
       "      <td>(주)더타워픽쳐스</td>\n",
       "      <td>2021-08-11</td>\n",
       "      <td>2.135107e+10</td>\n",
       "      <td>0.056</td>\n",
       "      <td>2187753.0</td>\n",
       "      <td>2187753.0</td>\n",
       "      <td>1603.0</td>\n",
       "      <td>121634.0</td>\n",
       "      <td>한국</td>\n",
       "      <td>한국</td>\n",
       "      <td>12세이상관람가</td>\n",
       "    </tr>\n",
       "  </tbody>\n",
       "</table>\n",
       "</div>"
      ],
      "text/plain": [
       "         영화명  제작연도 제작국가  유형     장르 제작상태    감독                제작사        개봉일  \\\n",
       "0  박강아름 결혼하다  2019   한국  장편  다큐멘터리   개봉  박강아름  창작집단3355 (A.3355) 2021-08-19   \n",
       "1     정말 먼 곳  2020   한국  장편    드라마   개봉   박근영               봄내필름 2021-03-18   \n",
       "2        싱크홀  2021   한국  장편    코미디   개봉   김지훈          (주)더타워픽쳐스 2021-08-11   \n",
       "\n",
       "           매출액  매출액점유율       관객수      누적관객수    스크린수      상영횟수  대표국적  국적   \\\n",
       "0  2.474571e+07      0     3392.0     3482.0    32.0     413.0    한국  한국   \n",
       "1  8.429385e+07      0    10654.0    11049.0   204.0    2067.0    한국  한국   \n",
       "2  2.135107e+10  0.056  2187753.0  2187753.0  1603.0  121634.0    한국  한국   \n",
       "\n",
       "        등급   \n",
       "0     전체관람가  \n",
       "1  12세이상관람가  \n",
       "2  12세이상관람가  "
      ]
     },
     "execution_count": 124,
     "metadata": {},
     "output_type": "execute_result"
    }
   ],
   "source": [
    "s2021=s2021.drop(['영화명(영문)'],axis=1)\n",
    "s2021.head(3)"
   ]
  },
  {
   "cell_type": "code",
   "execution_count": 125,
   "metadata": {},
   "outputs": [],
   "source": [
    "s2021.to_excel('2021통합.xlsx',index=False)"
   ]
  },
  {
   "cell_type": "code",
   "execution_count": 126,
   "metadata": {},
   "outputs": [],
   "source": [
    "movies2020=pd.read_excel('2020년 개봉 영화.xls')\n",
    "box2020=pd.read_excel('2020년 박스오피스.xls')\n",
    "box2020.drop(index=0,inplace=True)\n"
   ]
  },
  {
   "cell_type": "code",
   "execution_count": 127,
   "metadata": {},
   "outputs": [],
   "source": [
    "box2020.rename(columns={'매출액' : '매출액점유율'},inplace=True)\n",
    "box2020=box2020.drop(['순위','누적매출액 ','제작사 ','배급사 ','감독 ','배우 '],axis=1)"
   ]
  },
  {
   "cell_type": "code",
   "execution_count": 128,
   "metadata": {},
   "outputs": [
    {
     "data": {
      "text/html": [
       "<div>\n",
       "<style scoped>\n",
       "    .dataframe tbody tr th:only-of-type {\n",
       "        vertical-align: middle;\n",
       "    }\n",
       "\n",
       "    .dataframe tbody tr th {\n",
       "        vertical-align: top;\n",
       "    }\n",
       "\n",
       "    .dataframe thead th {\n",
       "        text-align: right;\n",
       "    }\n",
       "</style>\n",
       "<table border=\"1\" class=\"dataframe\">\n",
       "  <thead>\n",
       "    <tr style=\"text-align: right;\">\n",
       "      <th></th>\n",
       "      <th>영화명</th>\n",
       "      <th>개봉일</th>\n",
       "      <th>매출액</th>\n",
       "      <th>매출액점유율</th>\n",
       "      <th>관객수</th>\n",
       "      <th>누적관객수</th>\n",
       "      <th>스크린수</th>\n",
       "      <th>상영횟수</th>\n",
       "      <th>대표국적</th>\n",
       "      <th>국적</th>\n",
       "      <th>등급</th>\n",
       "      <th>장르</th>\n",
       "    </tr>\n",
       "  </thead>\n",
       "  <tbody>\n",
       "    <tr>\n",
       "      <th>1</th>\n",
       "      <td>남산의 부장들</td>\n",
       "      <td>2020-01-22</td>\n",
       "      <td>4.122522e+10</td>\n",
       "      <td>0.081</td>\n",
       "      <td>4750345.0</td>\n",
       "      <td>4750345.0</td>\n",
       "      <td>1659.0</td>\n",
       "      <td>140051.0</td>\n",
       "      <td>한국</td>\n",
       "      <td>한국</td>\n",
       "      <td>15세이상관람가</td>\n",
       "      <td>드라마</td>\n",
       "    </tr>\n",
       "    <tr>\n",
       "      <th>2</th>\n",
       "      <td>다만 악에서 구하소서</td>\n",
       "      <td>2020-08-05</td>\n",
       "      <td>3.860226e+10</td>\n",
       "      <td>0.076</td>\n",
       "      <td>4357803.0</td>\n",
       "      <td>4357803.0</td>\n",
       "      <td>1998.0</td>\n",
       "      <td>193842.0</td>\n",
       "      <td>한국</td>\n",
       "      <td>한국</td>\n",
       "      <td>15세이상관람가</td>\n",
       "      <td>범죄</td>\n",
       "    </tr>\n",
       "    <tr>\n",
       "      <th>3</th>\n",
       "      <td>반도</td>\n",
       "      <td>2020-07-15</td>\n",
       "      <td>3.307253e+10</td>\n",
       "      <td>0.065</td>\n",
       "      <td>3812250.0</td>\n",
       "      <td>3812250.0</td>\n",
       "      <td>2575.0</td>\n",
       "      <td>199048.0</td>\n",
       "      <td>한국</td>\n",
       "      <td>한국</td>\n",
       "      <td>15세이상관람가</td>\n",
       "      <td>액션</td>\n",
       "    </tr>\n",
       "  </tbody>\n",
       "</table>\n",
       "</div>"
      ],
      "text/plain": [
       "           영화명        개봉일          매출액  매출액점유율       관객수      누적관객수    스크린수   \\\n",
       "1      남산의 부장들 2020-01-22  4.122522e+10  0.081  4750345.0  4750345.0  1659.0   \n",
       "2  다만 악에서 구하소서 2020-08-05  3.860226e+10  0.076  4357803.0  4357803.0  1998.0   \n",
       "3           반도 2020-07-15  3.307253e+10  0.065  3812250.0  3812250.0  2575.0   \n",
       "\n",
       "      상영횟수  대표국적  국적        등급    장르  \n",
       "1  140051.0    한국  한국  15세이상관람가  드라마  \n",
       "2  193842.0    한국  한국  15세이상관람가   범죄  \n",
       "3  199048.0    한국  한국  15세이상관람가   액션  "
      ]
     },
     "execution_count": 128,
     "metadata": {},
     "output_type": "execute_result"
    }
   ],
   "source": [
    "box2020['장르']=box2020['장르 '].str.split(',').str[0]\n",
    "box2020=box2020.drop(['장르 '],axis=1)\n",
    "box2020.head(3)"
   ]
  },
  {
   "cell_type": "code",
   "execution_count": 129,
   "metadata": {},
   "outputs": [
    {
     "data": {
      "text/plain": [
       "((1900, 9), (4546, 12), (1017, 19))"
      ]
     },
     "execution_count": 129,
     "metadata": {},
     "output_type": "execute_result"
    }
   ],
   "source": [
    "s2020=pd.merge(movies2020,box2020)\n",
    "movies2020.shape,box2020.shape,s2020.shape"
   ]
  },
  {
   "cell_type": "code",
   "execution_count": 130,
   "metadata": {},
   "outputs": [],
   "source": [
    "s2020.to_excel('2020통합.xlsx',index=False)"
   ]
  },
  {
   "cell_type": "code",
   "execution_count": 132,
   "metadata": {},
   "outputs": [
    {
     "data": {
      "text/plain": [
       "((1951, 9), (4890, 12), (1185, 19))"
      ]
     },
     "execution_count": 132,
     "metadata": {},
     "output_type": "execute_result"
    }
   ],
   "source": [
    "movies2019=pd.read_excel('2019년 개봉 영화.xls')\n",
    "box2019=pd.read_excel('2019년 박스오피스.xls')\n",
    "box2019.drop(index=0,inplace=True)\n",
    "box2019.rename(columns={'매출액' : '매출액점유율'},inplace=True)\n",
    "box2019=box2019.drop(['순위','누적매출액 ','제작사 ','배급사 ','감독 ','배우 '],axis=1)\n",
    "box2019['장르']=box2019['장르 '].str.split(',').str[0]\n",
    "box2019=box2019.drop(['장르 '],axis=1)\n",
    "s2019=pd.merge(movies2019,box2019)\n",
    "movies2019.shape,box2019.shape,s2019.shape\n"
   ]
  },
  {
   "cell_type": "code",
   "execution_count": 133,
   "metadata": {},
   "outputs": [],
   "source": [
    "s2019.to_excel('2019통합.xlsx',index=False)"
   ]
  },
  {
   "cell_type": "code",
   "execution_count": 134,
   "metadata": {},
   "outputs": [
    {
     "data": {
      "text/plain": [
       "((1873, 9), (5004, 12), (1175, 19))"
      ]
     },
     "execution_count": 134,
     "metadata": {},
     "output_type": "execute_result"
    }
   ],
   "source": [
    "movies2018=pd.read_excel('2018년 개봉 영화.xls')\n",
    "box2018=pd.read_excel('2018년 박스오피스.xls')\n",
    "box2018.drop(index=0,inplace=True)\n",
    "box2018.rename(columns={'매출액' : '매출액점유율'},inplace=True)\n",
    "box2018=box2018.drop(['순위','누적매출액 ','제작사 ','배급사 ','감독 ','배우 '],axis=1)\n",
    "box2018['장르']=box2018['장르 '].str.split(',').str[0]\n",
    "box2018=box2018.drop(['장르 '],axis=1)\n",
    "s2018=pd.merge(movies2018,box2018)\n",
    "movies2018.shape,box2018.shape,s2018.shape\n"
   ]
  },
  {
   "cell_type": "code",
   "execution_count": 135,
   "metadata": {},
   "outputs": [],
   "source": [
    "s2018.to_excel('2018통합.xlsx',index=False)"
   ]
  },
  {
   "cell_type": "code",
   "execution_count": 13,
   "metadata": {},
   "outputs": [],
   "source": [
    "s2021=pd.merge(box2021,movies2021)"
   ]
  },
  {
   "cell_type": "code",
   "execution_count": 14,
   "metadata": {},
   "outputs": [],
   "source": [
    "a2021=pd.merge(movies2021,box2021)"
   ]
  },
  {
   "cell_type": "code",
   "execution_count": 18,
   "metadata": {},
   "outputs": [
    {
     "data": {
      "text/html": [
       "<div>\n",
       "<style scoped>\n",
       "    .dataframe tbody tr th:only-of-type {\n",
       "        vertical-align: middle;\n",
       "    }\n",
       "\n",
       "    .dataframe tbody tr th {\n",
       "        vertical-align: top;\n",
       "    }\n",
       "\n",
       "    .dataframe thead th {\n",
       "        text-align: right;\n",
       "    }\n",
       "</style>\n",
       "<table border=\"1\" class=\"dataframe\">\n",
       "  <thead>\n",
       "    <tr style=\"text-align: right;\">\n",
       "      <th></th>\n",
       "      <th>영화명</th>\n",
       "      <th>개봉일</th>\n",
       "      <th>매출액</th>\n",
       "      <th>매출액점유율</th>\n",
       "      <th>관객수</th>\n",
       "      <th>누적관객수</th>\n",
       "      <th>스크린수</th>\n",
       "      <th>상영횟수</th>\n",
       "      <th>대표국적</th>\n",
       "      <th>국적</th>\n",
       "      <th>등급</th>\n",
       "      <th>장르</th>\n",
       "      <th>영화명(영문)</th>\n",
       "      <th>제작연도</th>\n",
       "      <th>제작국가</th>\n",
       "      <th>유형</th>\n",
       "      <th>제작상태</th>\n",
       "      <th>감독</th>\n",
       "      <th>제작사</th>\n",
       "    </tr>\n",
       "  </thead>\n",
       "  <tbody>\n",
       "    <tr>\n",
       "      <th>0</th>\n",
       "      <td>분노의 질주: 더 얼티메이트</td>\n",
       "      <td>2021-05-19</td>\n",
       "      <td>2.205965e+10</td>\n",
       "      <td>0.058</td>\n",
       "      <td>2292413.0</td>\n",
       "      <td>2292413.0</td>\n",
       "      <td>2297.0</td>\n",
       "      <td>131856.0</td>\n",
       "      <td>미국</td>\n",
       "      <td>미국</td>\n",
       "      <td>12세이상관람가</td>\n",
       "      <td>액션</td>\n",
       "      <td>Fast &amp; Furious 9 THE FAST SAGA</td>\n",
       "      <td>2021</td>\n",
       "      <td>미국</td>\n",
       "      <td>장편</td>\n",
       "      <td>개봉</td>\n",
       "      <td>저스틴 린</td>\n",
       "      <td>NaN</td>\n",
       "    </tr>\n",
       "    <tr>\n",
       "      <th>1</th>\n",
       "      <td>싱크홀</td>\n",
       "      <td>2021-08-11</td>\n",
       "      <td>2.135107e+10</td>\n",
       "      <td>0.056</td>\n",
       "      <td>2187753.0</td>\n",
       "      <td>2187753.0</td>\n",
       "      <td>1603.0</td>\n",
       "      <td>121634.0</td>\n",
       "      <td>한국</td>\n",
       "      <td>한국</td>\n",
       "      <td>12세이상관람가</td>\n",
       "      <td>코미디</td>\n",
       "      <td>Sinkhole</td>\n",
       "      <td>2021</td>\n",
       "      <td>한국</td>\n",
       "      <td>장편</td>\n",
       "      <td>개봉</td>\n",
       "      <td>김지훈</td>\n",
       "      <td>(주)더타워픽쳐스</td>\n",
       "    </tr>\n",
       "    <tr>\n",
       "      <th>2</th>\n",
       "      <td>극장판 귀멸의 칼날: 무한열차편</td>\n",
       "      <td>2021-01-27</td>\n",
       "      <td>2.065604e+10</td>\n",
       "      <td>0.054</td>\n",
       "      <td>2151861.0</td>\n",
       "      <td>2151861.0</td>\n",
       "      <td>900.0</td>\n",
       "      <td>151898.0</td>\n",
       "      <td>일본</td>\n",
       "      <td>일본</td>\n",
       "      <td>15세이상관람가</td>\n",
       "      <td>애니메이션</td>\n",
       "      <td>Demon Slayer: Kimetsu no Yaiba the Movie - Mug...</td>\n",
       "      <td>2020</td>\n",
       "      <td>일본</td>\n",
       "      <td>장편</td>\n",
       "      <td>개봉</td>\n",
       "      <td>소토자키 하루오</td>\n",
       "      <td>NaN</td>\n",
       "    </tr>\n",
       "    <tr>\n",
       "      <th>3</th>\n",
       "      <td>소울</td>\n",
       "      <td>2021-01-20</td>\n",
       "      <td>1.903454e+10</td>\n",
       "      <td>0.05</td>\n",
       "      <td>2048175.0</td>\n",
       "      <td>2048175.0</td>\n",
       "      <td>2018.0</td>\n",
       "      <td>160727.0</td>\n",
       "      <td>미국</td>\n",
       "      <td>미국</td>\n",
       "      <td>전체관람가</td>\n",
       "      <td>애니메이션</td>\n",
       "      <td>SOUL</td>\n",
       "      <td>2020</td>\n",
       "      <td>미국</td>\n",
       "      <td>장편</td>\n",
       "      <td>개봉</td>\n",
       "      <td>피트 닥터</td>\n",
       "      <td>월트 디즈니 픽쳐스,픽사 애니메이션 스튜디오</td>\n",
       "    </tr>\n",
       "    <tr>\n",
       "      <th>4</th>\n",
       "      <td>미나리</td>\n",
       "      <td>2021-03-03</td>\n",
       "      <td>1.021116e+10</td>\n",
       "      <td>0.027</td>\n",
       "      <td>1134044.0</td>\n",
       "      <td>1134044.0</td>\n",
       "      <td>1162.0</td>\n",
       "      <td>112894.0</td>\n",
       "      <td>미국</td>\n",
       "      <td>미국</td>\n",
       "      <td>12세이상관람가</td>\n",
       "      <td>드라마</td>\n",
       "      <td>Minari</td>\n",
       "      <td>2020</td>\n",
       "      <td>미국</td>\n",
       "      <td>장편</td>\n",
       "      <td>개봉</td>\n",
       "      <td>정이삭</td>\n",
       "      <td>NaN</td>\n",
       "    </tr>\n",
       "  </tbody>\n",
       "</table>\n",
       "</div>"
      ],
      "text/plain": [
       "                 영화명        개봉일          매출액  매출액점유율       관객수      누적관객수   \\\n",
       "0    분노의 질주: 더 얼티메이트 2021-05-19  2.205965e+10  0.058  2292413.0  2292413.0   \n",
       "1                싱크홀 2021-08-11  2.135107e+10  0.056  2187753.0  2187753.0   \n",
       "2  극장판 귀멸의 칼날: 무한열차편 2021-01-27  2.065604e+10  0.054  2151861.0  2151861.0   \n",
       "3                 소울 2021-01-20  1.903454e+10   0.05  2048175.0  2048175.0   \n",
       "4                미나리 2021-03-03  1.021116e+10  0.027  1134044.0  1134044.0   \n",
       "\n",
       "    스크린수      상영횟수  대표국적  국적        등급      장르  \\\n",
       "0  2297.0  131856.0    미국  미국  12세이상관람가     액션   \n",
       "1  1603.0  121634.0    한국  한국  12세이상관람가    코미디   \n",
       "2   900.0  151898.0    일본  일본  15세이상관람가  애니메이션   \n",
       "3  2018.0  160727.0    미국  미국     전체관람가  애니메이션   \n",
       "4  1162.0  112894.0    미국  미국  12세이상관람가    드라마   \n",
       "\n",
       "                                             영화명(영문)  제작연도 제작국가  유형 제작상태  \\\n",
       "0                     Fast & Furious 9 THE FAST SAGA  2021   미국  장편   개봉   \n",
       "1                                           Sinkhole  2021   한국  장편   개봉   \n",
       "2  Demon Slayer: Kimetsu no Yaiba the Movie - Mug...  2020   일본  장편   개봉   \n",
       "3                                               SOUL  2020   미국  장편   개봉   \n",
       "4                                             Minari  2020   미국  장편   개봉   \n",
       "\n",
       "         감독                       제작사  \n",
       "0     저스틴 린                       NaN  \n",
       "1       김지훈                 (주)더타워픽쳐스  \n",
       "2  소토자키 하루오                       NaN  \n",
       "3     피트 닥터  월트 디즈니 픽쳐스,픽사 애니메이션 스튜디오  \n",
       "4       정이삭                       NaN  "
      ]
     },
     "execution_count": 18,
     "metadata": {},
     "output_type": "execute_result"
    }
   ],
   "source": [
    "s2021.head()"
   ]
  },
  {
   "cell_type": "code",
   "execution_count": 19,
   "metadata": {},
   "outputs": [],
   "source": [
    "s2021.to_excel('2021개정.xlsx',index=False)"
   ]
  },
  {
   "cell_type": "code",
   "execution_count": 20,
   "metadata": {},
   "outputs": [
    {
     "data": {
      "text/plain": [
       "Index(['영화명', '영화명(영문)', '제작연도', '제작국가', '유형', '장르', '제작상태', '감독', '제작사'], dtype='object')"
      ]
     },
     "execution_count": 20,
     "metadata": {},
     "output_type": "execute_result"
    }
   ],
   "source": [
    "movies2021.columns"
   ]
  },
  {
   "cell_type": "code",
   "execution_count": 21,
   "metadata": {},
   "outputs": [
    {
     "data": {
      "text/plain": [
       "Index(['영화명', '개봉일', '매출액 ', '매출액점유율', '관객수 ', '누적관객수 ', '스크린수 ', '상영횟수 ',\n",
       "       '대표국적 ', '국적 ', '등급 ', '장르'],\n",
       "      dtype='object')"
      ]
     },
     "execution_count": 21,
     "metadata": {},
     "output_type": "execute_result"
    }
   ],
   "source": [
    "box2021.columns"
   ]
  },
  {
   "cell_type": "code",
   "execution_count": null,
   "metadata": {},
   "outputs": [],
   "source": []
  }
 ],
 "metadata": {
  "kernelspec": {
   "display_name": "Python 3",
   "language": "python",
   "name": "python3"
  },
  "language_info": {
   "codemirror_mode": {
    "name": "ipython",
    "version": 3
   },
   "file_extension": ".py",
   "mimetype": "text/x-python",
   "name": "python",
   "nbconvert_exporter": "python",
   "pygments_lexer": "ipython3",
   "version": "3.8.5"
  }
 },
 "nbformat": 4,
 "nbformat_minor": 4
}
